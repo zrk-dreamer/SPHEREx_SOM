{
 "cells": [
  {
   "cell_type": "code",
   "execution_count": 1,
   "id": "a8a09538-b09a-4c4c-befc-b6988e6489d5",
   "metadata": {},
   "outputs": [],
   "source": [
    "from astropy.table import Table\n",
    "from astropy.io import fits\n",
    "import numpy as np\n",
    "import pandas as pd\n",
    "from matplotlib import pyplot as plt\n",
    "from minisom import MiniSom\n",
    "import pickle\n",
    "import os"
   ]
  },
  {
   "cell_type": "code",
   "execution_count": 2,
   "id": "f3c795c5-ff69-443f-a8c9-ac8145cc190c",
   "metadata": {},
   "outputs": [],
   "source": [
    "df_L3_info = Table.read('../dataset/L3_COSMOS2020_Richard_RefCat_2023DEC4_info.fits')\n",
    "df_L3_info = df_L3_info.to_pandas().sort_values(by = \"cosmos_id\")\n",
    "\n",
    "fname = 'D:/SPHEREx_SOM/dataset/sphx_refcat/Noiseless_phot_cosmos_nolines_refcat30k.txt'\n",
    "data_noiseless = np.loadtxt(fname)[:,3:]\n",
    "\n",
    "fname = 'D:/SPHEREx_SOM/dataset/sphx_refcat/NoisySphx_shallow_nolines_refcat30k.txt'\n",
    "data_all = np.loadtxt(fname)[:,3:]\n",
    "index = np.loadtxt(fname)[:,0]\n",
    "\n",
    "fname = 'D:/SPHEREx_SOM/dataset/sphx_refcat/NoisySphx_deep_nolines_refcat30k.txt'\n",
    "data_deep = np.loadtxt(fname)[:,3:]\n",
    "\n",
    "fname = 'D:/SPHEREx_SOM/dataset/sphx_refcat/SPHEREx_1sigma_noise.txt'\n",
    "data_1sig  = np.loadtxt(fname, skiprows=1)\n",
    "wl = data_1sig[:,0]\n",
    "sigma_all = data_1sig[:,1]\n",
    "sigma_deep = data_1sig[:,2]"
   ]
  },
  {
   "cell_type": "code",
   "execution_count": 3,
   "id": "adacf3fa-37b8-48e8-93fe-979fa376b377",
   "metadata": {},
   "outputs": [],
   "source": [
    "def remove_low_SNR(data, data_err, info_data, mode, mag_cut):\n",
    "    i_band = info_data[\"HSC_i_MAG\"].values\n",
    "    if mode == \"mag_cut\" or mode == \"both\":\n",
    "        if type(mag_cut) == type(1):\n",
    "            max_cut = np.mean(i_band) - np.std(i_band, ddof = 1) * mag_out\n",
    "            data = data[i_band < max_cut]\n",
    "            data_err = data[i_band < max_cut]\n",
    "            info_data = info_data[np.logical_and((i_band < mag_cut[1]), (i_band > mag_cut[0]))]\n",
    "        else:\n",
    "            data = data[np.logical_and((i_band < mag_cut[1]), (i_band > mag_cut[0]))]\n",
    "            data_err = data_err[np.logical_and((i_band < mag_cut[1]), (i_band > mag_cut[0]))]\n",
    "            info_data = info_data[np.logical_and((i_band < mag_cut[1]), (i_band > mag_cut[0]))]\n",
    "    if mode == \"band_cut\" or mode == \"both\":\n",
    "        data = data[:, : len(data[0]) - 34]\n",
    "        data_err = data_err[:, : len(data_err[0]) - 34]\n",
    "        \n",
    "    return data, data_err, info_data"
   ]
  },
  {
   "cell_type": "code",
   "execution_count": 4,
   "id": "9cffbc68-bc99-47e4-8c36-e58a2b921c18",
   "metadata": {},
   "outputs": [],
   "source": [
    "def basic_som(data, err, info_data, dim, preproc, distance, data_type, iteration = 1, sigma = 1, rate = 1, save = False):\n",
    "    som = MiniSom(dim, dim, data.shape[1], sigma = sigma, learning_rate = rate, activation_distance = distance)\n",
    "    som.random_weights_init(data)\n",
    "    som.train(data, err, num_iteration = iteration, use_epochs = True)\n",
    "\n",
    "    print(\"Finish traininging SOM.\")\n",
    "    print(\"Start making diagrams...\")\n",
    "\n",
    "    density_map = np.zeros(dim ** 2).reshape(dim, dim)\n",
    "    magnitude_map = np.zeros(dim ** 2).reshape(dim, dim)\n",
    "    magnitude_map.fill(np.nan)\n",
    "    z_map = np.zeros(dim ** 2).reshape(dim, dim)\n",
    "    z_map.fill(np.nan)\n",
    "    \n",
    "    labels_map_1 = som.labels_map(data, err, [0] * len(data))\n",
    "    labels_map_2 = som.labels_map(data, err, tuple(map(tuple, np.concatenate((np.expand_dims(info_data[\"HSC_i_MAG\"].values, axis = 1), np.expand_dims(info_data[\"z_true\"].values, axis = 1)), axis = -1))))\n",
    "\n",
    "    for i in labels_map_1.keys():\n",
    "        density_map[int(list(i)[0]), int(list(i)[1])] = labels_map_1[i][0]\n",
    "\n",
    "    print(\"Finish collecting data for density map.\")\n",
    "    \n",
    "    for i in labels_map_2.keys():\n",
    "        properties = np.mean(np.array(list(labels_map_2[i].keys())), axis = 0)\n",
    "        magnitude_map[int(list(i)[0]), int(list(i)[1])] = properties[0]\n",
    "        z_map[int(list(i)[0]), int(list(i)[1])] = properties[1]\n",
    "\n",
    "    print(\"Finish collecting data for magnitude map.\")\n",
    "    print([dim, sigma, rate])\n",
    "    print(f\"Topological error: {som.topographic_error(data)}\")\n",
    "    print(f\"Quantization error: {som.quantization_error(data)}\")\n",
    "    print(np.sum(density_map))\n",
    "\n",
    "    %matplotlib inline\n",
    "    plt.close()\n",
    "    plt.figure(figsize = (25, 25))\n",
    "    plt.subplot(221)\n",
    "    plt.pcolor(som.distance_map().T, cmap='YlGn')  # plotting the distance map as background\n",
    "    plt.colorbar()\n",
    "    plt.title(\"Distance map (U-matrix)\")\n",
    "\n",
    "    plt.subplot(222)\n",
    "    plt.pcolor(density_map.T, cmap='YlGn')\n",
    "    plt.colorbar()\n",
    "    plt.title(\"Density Map\")\n",
    "\n",
    "    plt.subplot(223)\n",
    "    plt.pcolor(magnitude_map.T, cmap=\"plasma\" + \"_r\")\n",
    "    plt.colorbar()\n",
    "    plt.title(\"HSC I Magnitude Map\")\n",
    "\n",
    "    plt.subplot(224)\n",
    "    plt.pcolor(z_map.T, cmap=\"plasma\")\n",
    "    plt.colorbar()\n",
    "    plt.title(\"True Redshift Map\")\n",
    "    if save:\n",
    "        plt.savefig(f\"D:/SPHEREx_SOM/record/2nd_exploration/diagram/{data_type}_{len(data[0])}_{dim}_{sigma}_{rate}_{iteration}.jpg\", bbox_inches = \"tight\")\n",
    "    \n",
    "    plt.show()\n",
    "\n",
    "    if os.path.isfile(\"D:/SPHEREx_SOM/record/2nd_exploration/record.pkl\"):\n",
    "        with open(\"D:/SPHEREx_SOM/record/2nd_exploration/record.pkl\", \"rb\") as fh:\n",
    "            record = pickle.load(fh)\n",
    "    else:\n",
    "        record = []\n",
    "\n",
    "    map_record = {}\n",
    "    map_record[\"dim\"] = dim\n",
    "    map_record[\"sigma\"] = sigma\n",
    "    map_record[\"rate\"] = rate\n",
    "    map_record[\"band_cut\"] = len(data[0])\n",
    "    map_record[\"mag_cut\"] = len(data)\n",
    "    map_record[\"preproc\"] = preproc\n",
    "    map_record[\"som\"] = som\n",
    "    map_record[\"topo_err\"] = som.topographic_error(data)\n",
    "    map_record[\"quan_err\"] = som.quantization_error(data)\n",
    "    map_record[\"density\"] = density_map\n",
    "    map_record[\"magnitude\"] = magnitude_map\n",
    "    map_record[\"z\"] = z_map\n",
    "    map_record[\"type\"] = data_type\n",
    "    map_record[\"distance\"] = distance\n",
    "    map_record[\"iter\"] = iteration\n",
    "    \n",
    "    record.append(map_record)\n",
    "    \n",
    "    try:\n",
    "        with open(\"D:/SPHEREx_SOM/record/2nd_exploration/record.pkl\", 'wb') as fh:\n",
    "            pickle.dump(record, fh, protocol=pickle.HIGHEST_PROTOCOL)\n",
    "    except KeyboardInterrupt:\n",
    "        print('KeyboardInterrupt caught, data saved.')\n",
    "    \n",
    "    return som"
   ]
  },
  {
   "cell_type": "code",
   "execution_count": 9,
   "id": "1ce65d36-3735-4a00-81f9-e1d47ad208cc",
   "metadata": {},
   "outputs": [
    {
     "name": "stderr",
     "output_type": "stream",
     "text": [
      "C:\\Users\\ASUS\\AppData\\Local\\Temp\\ipykernel_21744\\346024421.py:1: UserWarning: Boolean Series key will be reindexed to match DataFrame index.\n",
      "  info = df_L3_info[-pd.DataFrame(data_noiseless).isna()[0]]\n",
      "C:\\Users\\ASUS\\AppData\\Local\\Temp\\ipykernel_21744\\346024421.py:3: UserWarning: Boolean Series key will be reindexed to match DataFrame index.\n",
      "  info = info[-data[data > 0].isna()[0]]\n"
     ]
    }
   ],
   "source": [
    "info = df_L3_info[-pd.DataFrame(data_noiseless).isna()[0]]\n",
    "data = pd.DataFrame(data_noiseless).dropna()\n",
    "info = info[-data[data > 0].isna()[0]]\n",
    "data = data[data > 0].dropna().to_numpy()"
   ]
  },
  {
   "cell_type": "code",
   "execution_count": 10,
   "id": "f4d8593c-d0a9-45fa-898c-c04bafa7b3a0",
   "metadata": {},
   "outputs": [],
   "source": [
    "data = -2.5 * np.log10(data / 10 ** 6) + 8.9\n",
    "proc_data = -np.diff(data, axis = -1)\n",
    "# proc_data = (proc_data - np.mean(proc_data, axis=0)) / np.std(proc_data, ddof = 1, axis=0)\n",
    "err = np.zeros_like(proc_data)"
   ]
  },
  {
   "cell_type": "code",
   "execution_count": 11,
   "id": "0d2af9b3-22bb-4f39-a528-0a492e221b96",
   "metadata": {},
   "outputs": [],
   "source": [
    "proc_data, err, info = remove_low_SNR(data = proc_data, data_err = err, info_data = info, mode = None, mag_cut = None)"
   ]
  },
  {
   "cell_type": "code",
   "execution_count": null,
   "id": "13afd394-eedc-4ba8-b0ed-0df6c0d846e9",
   "metadata": {},
   "outputs": [],
   "source": [
    "for i in range(1, 31):\n",
    "    som = basic_som(data = proc_data, data_type = \"noiseless_color\", err = err, info_data = info, dim = 30, preproc = None, iteration = 2, sigma = 30, rate = i / 10, save = False, distance = \"euclidean\")\n",
    "print(\"Finish the iteration\")"
   ]
  },
  {
   "cell_type": "code",
   "execution_count": null,
   "id": "9936d2ac-1ba8-460a-8191-5ccc71d8c268",
   "metadata": {},
   "outputs": [],
   "source": [
    "som = basic_som(data = proc_data, data_type = \"noiseless_mag_shallow\", err = err, info_data = info, dim = 30, preproc = \"default\", iteration = 10, sigma = 0.8, rate = 0.5, save = True, distance = \"euclidean\")"
   ]
  }
 ],
 "metadata": {
  "kernelspec": {
   "display_name": "Python 3 (ipykernel)",
   "language": "python",
   "name": "python3"
  },
  "language_info": {
   "codemirror_mode": {
    "name": "ipython",
    "version": 3
   },
   "file_extension": ".py",
   "mimetype": "text/x-python",
   "name": "python",
   "nbconvert_exporter": "python",
   "pygments_lexer": "ipython3",
   "version": "3.12.4"
  }
 },
 "nbformat": 4,
 "nbformat_minor": 5
}
