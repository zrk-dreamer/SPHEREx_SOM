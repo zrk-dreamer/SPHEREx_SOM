{
 "cells": [
  {
   "cell_type": "code",
   "execution_count": 1,
   "id": "6e542d16-65e4-4b12-867a-f8af3c1480ba",
   "metadata": {},
   "outputs": [],
   "source": [
    "from astropy.table import Table\n",
    "from astropy.io import fits\n",
    "import numpy as np\n",
    "import pandas as pd\n",
    "from matplotlib import pyplot as plt\n",
    "from minisom import MiniSom\n",
    "import pickle\n",
    "import os"
   ]
  },
  {
   "cell_type": "code",
   "execution_count": 2,
   "id": "df68e3a0-959f-4966-b67f-c35843ddd53a",
   "metadata": {},
   "outputs": [],
   "source": [
    "df_L3_info = Table.read('../dataset/L3_COSMOS2020_Richard_RefCat_2023DEC4_info.fits')\n",
    "df_L3_info = df_L3_info.to_pandas().sort_values(by = \"cosmos_id\")\n",
    "\n",
    "fname = 'D:/SPHEREx_SOM/dataset/sphx_refcat/Noiseless_phot_cosmos_nolines_refcat30k.txt'\n",
    "data_noiseless = np.loadtxt(fname)[:,3:]\n",
    "\n",
    "fname = 'D:/SPHEREx_SOM/dataset/sphx_refcat/NoisySphx_shallow_nolines_refcat30k.txt'\n",
    "data_all = np.loadtxt(fname)[:,3:]\n",
    "\n",
    "fname = 'D:/SPHEREx_SOM/dataset/sphx_refcat/NoisySphx_deep_nolines_refcat30k.txt'\n",
    "data_deep = np.loadtxt(fname)[:,3:]\n",
    "\n",
    "fname = 'D:/SPHEREx_SOM/dataset/sphx_refcat/SPHEREx_1sigma_noise.txt'\n",
    "data_1sig  = np.loadtxt(fname, skiprows=1)\n",
    "wl = data_1sig[:,0]\n",
    "sigma_all = data_1sig[:,1]\n",
    "sigma_deep = data_1sig[:,2]"
   ]
  },
  {
   "cell_type": "code",
   "execution_count": 3,
   "id": "9cc3920f-3159-4a7f-a24f-7dc8c9c732a0",
   "metadata": {},
   "outputs": [],
   "source": [
    "def basic_som(data, err, info_data, dim, preproc, distance, data_type, iteration = 1, sigma = 1, rate = 1, b_scale = 1.042, save = False):\n",
    "    lupmag = np.arcsinh(data / 10 ** 6 / (b_scale * err / 10 ** 6))\n",
    "    proc_data = (lupmag- np.mean(lupmag, axis=0)) / np.std(lupmag, ddof = 1, axis=0)\n",
    "\n",
    "    som = MiniSom(dim, dim, proc_data.shape[1], sigma = sigma, learning_rate = rate, activation_distance = distance)\n",
    "    som.random_weights_init(proc_data)\n",
    "    som.train(proc_data, np.zeros_like(proc_data), num_iteration = iteration, use_epochs = True)\n",
    "\n",
    "    print(\"Finish traininging SOM.\")\n",
    "    print(\"Start making diagrams...\")\n",
    "\n",
    "    density_map = np.zeros(dim ** 2).reshape(dim, dim)\n",
    "    magnitude_map = np.zeros(dim ** 2).reshape(dim, dim)\n",
    "    magnitude_map.fill(np.nan)\n",
    "    z_map = np.zeros(dim ** 2).reshape(dim, dim)\n",
    "    z_map.fill(np.nan)\n",
    "    \n",
    "    labels_map_1 = som.labels_map(proc_data, np.zeros_like(proc_data), [0] * len(proc_data))\n",
    "    labels_map_2 = som.labels_map(proc_data, np.zeros_like(proc_data), tuple(map(tuple, np.concatenate((np.expand_dims(info_data[\"HSC_i_MAG\"].values, axis = 1), np.expand_dims(info_data[\"z_true\"].values, axis = 1)), axis = -1))))\n",
    "\n",
    "    for i in labels_map_1.keys():\n",
    "        density_map[int(list(i)[0]), int(list(i)[1])] = labels_map_1[i][0]\n",
    "\n",
    "    print(\"Finish collecting data for density map.\")\n",
    "    \n",
    "    for i in labels_map_2.keys():\n",
    "        properties = np.mean(np.array(list(labels_map_2[i].keys())), axis = 0)\n",
    "        magnitude_map[int(list(i)[0]), int(list(i)[1])] = properties[0]\n",
    "        z_map[int(list(i)[0]), int(list(i)[1])] = properties[1]\n",
    "\n",
    "    print(\"Finish collecting data for magnitude map.\")\n",
    "    print([dim, sigma, rate])\n",
    "    print(f\"Topological error: {som.topographic_error(data)}\")\n",
    "    print(f\"Quantization error: {som.quantization_error(data)}\")\n",
    "    print(np.sum(density_map))\n",
    "\n",
    "    %matplotlib inline\n",
    "    plt.close()\n",
    "    plt.figure(figsize = (25, 25))\n",
    "    plt.subplot(221)\n",
    "    plt.pcolor(som.distance_map().T, cmap='YlGn') \n",
    "    plt.colorbar()\n",
    "    plt.title(\"Distance map (U-matrix)\")\n",
    "\n",
    "    plt.subplot(222)\n",
    "    plt.pcolor(density_map.T, cmap='YlGn')\n",
    "    plt.colorbar()\n",
    "    plt.title(\"Density Map\")\n",
    "\n",
    "    plt.subplot(223)\n",
    "    plt.pcolor(magnitude_map.T, cmap=\"plasma\" + \"_r\")\n",
    "    plt.colorbar()\n",
    "    plt.title(\"HSC I Magnitude Map\")\n",
    "\n",
    "    plt.subplot(224)\n",
    "    plt.pcolor(z_map.T, cmap=\"plasma\")\n",
    "    plt.colorbar()\n",
    "    plt.title(\"True Redshift Map\")\n",
    "    if save:\n",
    "        plt.savefig(f\"D:/SPHEREx_SOM/record/3rd_exploration/diagram/{data_type}_{len(data[0])}_{dim}_{sigma}_{rate}_{iteration}.jpg\", bbox_inches = \"tight\")\n",
    "    \n",
    "    plt.show()\n",
    "\n",
    "    if os.path.isfile(\"D:/SPHEREx_SOM/record/3rd_exploration/record.pkl\"):\n",
    "        with open(\"D:/SPHEREx_SOM/record/3rd_exploration/record.pkl\", \"rb\") as fh:\n",
    "            record = pickle.load(fh)\n",
    "    else:\n",
    "        record = []\n",
    "\n",
    "    map_record = {}\n",
    "    map_record[\"dim\"] = dim\n",
    "    map_record[\"sigma\"] = sigma\n",
    "    map_record[\"rate\"] = rate\n",
    "    map_record[\"band_cut\"] = len(data[0])\n",
    "    map_record[\"mag_cut\"] = len(data)\n",
    "    map_record[\"preproc\"] = preproc\n",
    "    map_record[\"som\"] = som\n",
    "    map_record[\"topo_err\"] = som.topographic_error(data)\n",
    "    map_record[\"quan_err\"] = som.quantization_error(data)\n",
    "    map_record[\"density\"] = density_map\n",
    "    map_record[\"magnitude\"] = magnitude_map\n",
    "    map_record[\"z\"] = z_map\n",
    "    map_record[\"type\"] = data_type\n",
    "    map_record[\"distance\"] = distance\n",
    "    map_record[\"iter\"] = iteration\n",
    "    \n",
    "    record.append(map_record)\n",
    "    \n",
    "    try:\n",
    "        with open(\"D:/SPHEREx_SOM/record/3rd_exploration/record.pkl\", 'wb') as fh:\n",
    "            pickle.dump(record, fh, protocol=pickle.HIGHEST_PROTOCOL)\n",
    "    except KeyboardInterrupt:\n",
    "        print('KeyboardInterrupt caught, data saved.')\n",
    "    \n",
    "    return som"
   ]
  },
  {
   "cell_type": "code",
   "execution_count": 4,
   "id": "c95c073f-ec25-4eb2-bc5a-cc31d5d1b406",
   "metadata": {},
   "outputs": [
    {
     "name": "stderr",
     "output_type": "stream",
     "text": [
      "C:\\Users\\ASUS\\AppData\\Local\\Temp\\ipykernel_61572\\3844147592.py:2: UserWarning: Boolean Series key will be reindexed to match DataFrame index.\n",
      "  info = df_L3_info[-pd.DataFrame(data_deep[:, 0::2]).isna()[0]]\n"
     ]
    }
   ],
   "source": [
    "data = pd.DataFrame(data_deep[:, 0::2]).dropna().to_numpy()\n",
    "info = df_L3_info[-pd.DataFrame(data_deep[:, 0::2]).isna()[0]]\n",
    "err = data_deep[0, 1::2]"
   ]
  },
  {
   "cell_type": "code",
   "execution_count": 5,
   "id": "fa74ae2a-aa66-44f2-a491-f0eda29bfbfd",
   "metadata": {},
   "outputs": [
    {
     "ename": "KeyboardInterrupt",
     "evalue": "",
     "output_type": "error",
     "traceback": [
      "\u001b[1;31m---------------------------------------------------------------------------\u001b[0m",
      "\u001b[1;31mKeyboardInterrupt\u001b[0m                         Traceback (most recent call last)",
      "Cell \u001b[1;32mIn[5], line 2\u001b[0m\n\u001b[0;32m      1\u001b[0m \u001b[38;5;28;01mfor\u001b[39;00m i \u001b[38;5;129;01min\u001b[39;00m \u001b[38;5;28mrange\u001b[39m(\u001b[38;5;241m1\u001b[39m, \u001b[38;5;241m16\u001b[39m):\n\u001b[1;32m----> 2\u001b[0m     som \u001b[38;5;241m=\u001b[39m \u001b[43mbasic_som\u001b[49m\u001b[43m(\u001b[49m\u001b[43mdata\u001b[49m\u001b[43m \u001b[49m\u001b[38;5;241;43m=\u001b[39;49m\u001b[43m \u001b[49m\u001b[43mdata\u001b[49m\u001b[43m,\u001b[49m\u001b[43m \u001b[49m\u001b[43mdata_type\u001b[49m\u001b[43m \u001b[49m\u001b[38;5;241;43m=\u001b[39;49m\u001b[43m \u001b[49m\u001b[38;5;124;43m\"\u001b[39;49m\u001b[38;5;124;43mnoisy_lup_deep\u001b[39;49m\u001b[38;5;124;43m\"\u001b[39;49m\u001b[43m,\u001b[49m\u001b[43m \u001b[49m\u001b[43merr\u001b[49m\u001b[43m \u001b[49m\u001b[38;5;241;43m=\u001b[39;49m\u001b[43m \u001b[49m\u001b[43merr\u001b[49m\u001b[43m,\u001b[49m\u001b[43m \u001b[49m\u001b[43minfo_data\u001b[49m\u001b[43m \u001b[49m\u001b[38;5;241;43m=\u001b[39;49m\u001b[43m \u001b[49m\u001b[43minfo\u001b[49m\u001b[43m,\u001b[49m\u001b[43m \u001b[49m\u001b[43mdim\u001b[49m\u001b[43m \u001b[49m\u001b[38;5;241;43m=\u001b[39;49m\u001b[43m \u001b[49m\u001b[38;5;241;43m30\u001b[39;49m\u001b[43m,\u001b[49m\u001b[43m \u001b[49m\u001b[43mpreproc\u001b[49m\u001b[43m \u001b[49m\u001b[38;5;241;43m=\u001b[39;49m\u001b[43m \u001b[49m\u001b[38;5;124;43m\"\u001b[39;49m\u001b[38;5;124;43mdefault\u001b[39;49m\u001b[38;5;124;43m\"\u001b[39;49m\u001b[43m,\u001b[49m\u001b[43m \u001b[49m\u001b[43miteration\u001b[49m\u001b[43m \u001b[49m\u001b[38;5;241;43m=\u001b[39;49m\u001b[43m \u001b[49m\u001b[38;5;241;43m2\u001b[39;49m\u001b[43m,\u001b[49m\u001b[43m \u001b[49m\u001b[43msigma\u001b[49m\u001b[43m \u001b[49m\u001b[38;5;241;43m=\u001b[39;49m\u001b[43m \u001b[49m\u001b[38;5;241;43m0.8\u001b[39;49m\u001b[43m,\u001b[49m\u001b[43m \u001b[49m\u001b[43mrate\u001b[49m\u001b[43m \u001b[49m\u001b[38;5;241;43m=\u001b[39;49m\u001b[43m \u001b[49m\u001b[43mi\u001b[49m\u001b[43m \u001b[49m\u001b[38;5;241;43m/\u001b[39;49m\u001b[43m \u001b[49m\u001b[38;5;241;43m10\u001b[39;49m\u001b[43m,\u001b[49m\u001b[43m \u001b[49m\u001b[43msave\u001b[49m\u001b[43m \u001b[49m\u001b[38;5;241;43m=\u001b[39;49m\u001b[43m \u001b[49m\u001b[38;5;28;43;01mTrue\u001b[39;49;00m\u001b[43m,\u001b[49m\u001b[43m \u001b[49m\u001b[43mdistance\u001b[49m\u001b[43m \u001b[49m\u001b[38;5;241;43m=\u001b[39;49m\u001b[43m \u001b[49m\u001b[38;5;124;43m\"\u001b[39;49m\u001b[38;5;124;43meuclidean\u001b[39;49m\u001b[38;5;124;43m\"\u001b[39;49m\u001b[43m)\u001b[49m\n",
      "Cell \u001b[1;32mIn[3], line 7\u001b[0m, in \u001b[0;36mbasic_som\u001b[1;34m(data, err, info_data, dim, preproc, distance, data_type, iteration, sigma, rate, b_scale, save)\u001b[0m\n\u001b[0;32m      5\u001b[0m som \u001b[38;5;241m=\u001b[39m MiniSom(dim, dim, proc_data\u001b[38;5;241m.\u001b[39mshape[\u001b[38;5;241m1\u001b[39m], sigma \u001b[38;5;241m=\u001b[39m sigma, learning_rate \u001b[38;5;241m=\u001b[39m rate, activation_distance \u001b[38;5;241m=\u001b[39m distance)\n\u001b[0;32m      6\u001b[0m som\u001b[38;5;241m.\u001b[39mrandom_weights_init(proc_data)\n\u001b[1;32m----> 7\u001b[0m \u001b[43msom\u001b[49m\u001b[38;5;241;43m.\u001b[39;49m\u001b[43mtrain\u001b[49m\u001b[43m(\u001b[49m\u001b[43mproc_data\u001b[49m\u001b[43m,\u001b[49m\u001b[43m \u001b[49m\u001b[43mnp\u001b[49m\u001b[38;5;241;43m.\u001b[39;49m\u001b[43mzeros_like\u001b[49m\u001b[43m(\u001b[49m\u001b[43mproc_data\u001b[49m\u001b[43m)\u001b[49m\u001b[43m,\u001b[49m\u001b[43m \u001b[49m\u001b[43mnum_iteration\u001b[49m\u001b[43m \u001b[49m\u001b[38;5;241;43m=\u001b[39;49m\u001b[43m \u001b[49m\u001b[43miteration\u001b[49m\u001b[43m,\u001b[49m\u001b[43m \u001b[49m\u001b[43muse_epochs\u001b[49m\u001b[43m \u001b[49m\u001b[38;5;241;43m=\u001b[39;49m\u001b[43m \u001b[49m\u001b[38;5;28;43;01mTrue\u001b[39;49;00m\u001b[43m)\u001b[49m\n\u001b[0;32m      9\u001b[0m \u001b[38;5;28mprint\u001b[39m(\u001b[38;5;124m\"\u001b[39m\u001b[38;5;124mFinish traininging SOM.\u001b[39m\u001b[38;5;124m\"\u001b[39m)\n\u001b[0;32m     10\u001b[0m \u001b[38;5;28mprint\u001b[39m(\u001b[38;5;124m\"\u001b[39m\u001b[38;5;124mStart making diagrams...\u001b[39m\u001b[38;5;124m\"\u001b[39m)\n",
      "File \u001b[1;32mD:\\miniconda\\envs\\SPHEREx_SOM\\Lib\\site-packages\\minisom.py:438\u001b[0m, in \u001b[0;36mMiniSom.train\u001b[1;34m(self, data, errs, num_iteration, random_order, verbose, use_epochs)\u001b[0m\n\u001b[0;32m    436\u001b[0m \u001b[38;5;28;01mfor\u001b[39;00m t, iteration \u001b[38;5;129;01min\u001b[39;00m \u001b[38;5;28menumerate\u001b[39m(iterations):\n\u001b[0;32m    437\u001b[0m     decay_rate \u001b[38;5;241m=\u001b[39m get_decay_rate(t, \u001b[38;5;28mlen\u001b[39m(data))\n\u001b[1;32m--> 438\u001b[0m     \u001b[38;5;28;43mself\u001b[39;49m\u001b[38;5;241;43m.\u001b[39;49m\u001b[43mupdate\u001b[49m\u001b[43m(\u001b[49m\u001b[43mdata\u001b[49m\u001b[43m[\u001b[49m\u001b[43miteration\u001b[49m\u001b[43m]\u001b[49m\u001b[43m,\u001b[49m\u001b[43m \u001b[49m\u001b[38;5;28;43mself\u001b[39;49m\u001b[38;5;241;43m.\u001b[39;49m\u001b[43mwinner\u001b[49m\u001b[43m(\u001b[49m\u001b[43mdata\u001b[49m\u001b[43m[\u001b[49m\u001b[43miteration\u001b[49m\u001b[43m]\u001b[49m\u001b[43m,\u001b[49m\u001b[43m \u001b[49m\u001b[43merrs\u001b[49m\u001b[43m[\u001b[49m\u001b[43miteration\u001b[49m\u001b[43m]\u001b[49m\u001b[43m)\u001b[49m\u001b[43m,\u001b[49m\n\u001b[0;32m    439\u001b[0m \u001b[43m                \u001b[49m\u001b[43mdecay_rate\u001b[49m\u001b[43m,\u001b[49m\u001b[43m \u001b[49m\u001b[43mnum_iteration\u001b[49m\u001b[43m)\u001b[49m\n\u001b[0;32m    440\u001b[0m \u001b[38;5;28;01mif\u001b[39;00m verbose:\n\u001b[0;32m    441\u001b[0m     \u001b[38;5;28mprint\u001b[39m(\u001b[38;5;124m'\u001b[39m\u001b[38;5;130;01m\\n\u001b[39;00m\u001b[38;5;124m quantization error:\u001b[39m\u001b[38;5;124m'\u001b[39m, \u001b[38;5;28mself\u001b[39m\u001b[38;5;241m.\u001b[39mquantization_error(data))\n",
      "File \u001b[1;32mD:\\miniconda\\envs\\SPHEREx_SOM\\Lib\\site-packages\\minisom.py:348\u001b[0m, in \u001b[0;36mMiniSom.update\u001b[1;34m(self, x, win, t, max_iteration)\u001b[0m\n\u001b[0;32m    346\u001b[0m sig \u001b[38;5;241m=\u001b[39m \u001b[38;5;28mself\u001b[39m\u001b[38;5;241m.\u001b[39m_decay_function(\u001b[38;5;28mself\u001b[39m\u001b[38;5;241m.\u001b[39m_sigma, t, max_iteration)\n\u001b[0;32m    347\u001b[0m \u001b[38;5;66;03m# improves the performances\u001b[39;00m\n\u001b[1;32m--> 348\u001b[0m g \u001b[38;5;241m=\u001b[39m \u001b[38;5;28;43mself\u001b[39;49m\u001b[38;5;241;43m.\u001b[39;49m\u001b[43mneighborhood\u001b[49m\u001b[43m(\u001b[49m\u001b[43mwin\u001b[49m\u001b[43m,\u001b[49m\u001b[43m \u001b[49m\u001b[43msig\u001b[49m\u001b[43m)\u001b[49m\u001b[38;5;241m*\u001b[39meta\n\u001b[0;32m    349\u001b[0m \u001b[38;5;66;03m# w_new = eta * neighborhood_function * (x-w)\u001b[39;00m\n\u001b[0;32m    350\u001b[0m \u001b[38;5;28mself\u001b[39m\u001b[38;5;241m.\u001b[39m_weights \u001b[38;5;241m+\u001b[39m\u001b[38;5;241m=\u001b[39m einsum(\u001b[38;5;124m'\u001b[39m\u001b[38;5;124mij, ijk->ijk\u001b[39m\u001b[38;5;124m'\u001b[39m, g, x\u001b[38;5;241m-\u001b[39m\u001b[38;5;28mself\u001b[39m\u001b[38;5;241m.\u001b[39m_weights)\n",
      "File \u001b[1;32mD:\\miniconda\\envs\\SPHEREx_SOM\\Lib\\site-packages\\minisom.py:265\u001b[0m, in \u001b[0;36mMiniSom._gaussian\u001b[1;34m(self, c, sigma)\u001b[0m\n\u001b[0;32m    263\u001b[0m d \u001b[38;5;241m=\u001b[39m \u001b[38;5;241m2\u001b[39m\u001b[38;5;241m*\u001b[39msigma\u001b[38;5;241m*\u001b[39msigma\n\u001b[0;32m    264\u001b[0m ax \u001b[38;5;241m=\u001b[39m exp(\u001b[38;5;241m-\u001b[39mpower(\u001b[38;5;28mself\u001b[39m\u001b[38;5;241m.\u001b[39m_xx\u001b[38;5;241m-\u001b[39m\u001b[38;5;28mself\u001b[39m\u001b[38;5;241m.\u001b[39m_xx\u001b[38;5;241m.\u001b[39mT[c], \u001b[38;5;241m2\u001b[39m)\u001b[38;5;241m/\u001b[39md)\n\u001b[1;32m--> 265\u001b[0m ay \u001b[38;5;241m=\u001b[39m exp(\u001b[38;5;241m-\u001b[39m\u001b[43mpower\u001b[49m\u001b[43m(\u001b[49m\u001b[38;5;28;43mself\u001b[39;49m\u001b[38;5;241;43m.\u001b[39;49m\u001b[43m_yy\u001b[49m\u001b[38;5;241;43m-\u001b[39;49m\u001b[38;5;28;43mself\u001b[39;49m\u001b[38;5;241;43m.\u001b[39;49m\u001b[43m_yy\u001b[49m\u001b[38;5;241;43m.\u001b[39;49m\u001b[43mT\u001b[49m\u001b[43m[\u001b[49m\u001b[43mc\u001b[49m\u001b[43m]\u001b[49m\u001b[43m,\u001b[49m\u001b[43m \u001b[49m\u001b[38;5;241;43m2\u001b[39;49m\u001b[43m)\u001b[49m\u001b[38;5;241m/\u001b[39md)\n\u001b[0;32m    266\u001b[0m \u001b[38;5;28;01mreturn\u001b[39;00m (ax \u001b[38;5;241m*\u001b[39m ay)\u001b[38;5;241m.\u001b[39mT\n",
      "\u001b[1;31mKeyboardInterrupt\u001b[0m: "
     ]
    }
   ],
   "source": [
    "for i in [0.0001, 0.001, 0.01, 0.1, 1, 10, 100, 1000, 10000]:\n",
    "    som = basic_som(data = data, data_type = \"noisy_lup_deep\", err = err, info_data = info, dim = 30, preproc = \"default\", iteration = 2, sigma = 0.8, rate = i / 10, save = True, distance = \"euclidean\")"
   ]
  },
  {
   "cell_type": "code",
   "execution_count": null,
   "id": "8d17b2d0-562c-4f15-82a2-f9643c6e3902",
   "metadata": {},
   "outputs": [],
   "source": []
  }
 ],
 "metadata": {
  "kernelspec": {
   "display_name": "Python 3 (ipykernel)",
   "language": "python",
   "name": "python3"
  },
  "language_info": {
   "codemirror_mode": {
    "name": "ipython",
    "version": 3
   },
   "file_extension": ".py",
   "mimetype": "text/x-python",
   "name": "python",
   "nbconvert_exporter": "python",
   "pygments_lexer": "ipython3",
   "version": "3.12.4"
  }
 },
 "nbformat": 4,
 "nbformat_minor": 5
}
