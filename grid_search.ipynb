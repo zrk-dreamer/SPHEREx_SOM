{
 "cells": [
  {
   "cell_type": "code",
   "execution_count": 19,
   "id": "0492ea59-44ac-45d4-9522-c1ac506d1b6f",
   "metadata": {},
   "outputs": [],
   "source": [
    "from astropy.table import Table\n",
    "import numpy as np\n",
    "import pandas as pd\n",
    "from matplotlib import pyplot as plt\n",
    "from minisom import MiniSom\n",
    "import pickle\n",
    "import os"
   ]
  },
  {
   "cell_type": "code",
   "execution_count": 62,
   "id": "15986553-e0e2-4377-a425-cd5476d8ec70",
   "metadata": {},
   "outputs": [],
   "source": [
    "b = []\n",
    "for i in range(3, 11):\n",
    "    dim = i * 10\n",
    "    for j in range(1, 11):\n",
    "        sigma = j\n",
    "        for k in range(1, 11):\n",
    "            rate = k\n",
    "\n",
    "            a = {}\n",
    "            a[\"dim\"] = dim\n",
    "            a[\"sigma\"] = sigma\n",
    "            a[\"rate\"] = rate\n",
    "            b.append(a)"
   ]
  },
  {
   "cell_type": "code",
   "execution_count": 20,
   "id": "6b50905b-4729-478e-967f-ab82a137797e",
   "metadata": {},
   "outputs": [],
   "source": [
    "df_L3_info = Table.read('../dataset/L3_COSMOS2020_Richard_RefCat_2023DEC4_info.fits')\n",
    "df_L3_info = df_L3_info.to_pandas()"
   ]
  },
  {
   "cell_type": "code",
   "execution_count": 21,
   "id": "2f2ed368-1d06-4710-b46e-67974de211eb",
   "metadata": {},
   "outputs": [],
   "source": [
    "L3_phot_data = np.loadtxt('../dataset/L3_COSMOS2020_Richard_RefCat_2023DEC4_averaged_phot102.txt')\n",
    "phot_data = L3_phot_data[:,3::2]\n",
    "phot_err_data = L3_phot_data[:,4::2]"
   ]
  },
  {
   "cell_type": "code",
   "execution_count": 22,
   "id": "f552c016-c30a-486b-8346-135e4d875435",
   "metadata": {},
   "outputs": [],
   "source": [
    "data = (phot_data - np.mean(phot_data, axis=0)) / np.std(phot_data, axis=0)"
   ]
  },
  {
   "cell_type": "code",
   "execution_count": 77,
   "id": "7724d838-7c13-46e5-8ef6-91949d00caf5",
   "metadata": {},
   "outputs": [],
   "source": [
    "def grid_search(data, file):\n",
    "    n = 0\n",
    "    with open(file, \"rb\") as fh:\n",
    "        record = pickle.load(fh)\n",
    "    if \"som\" not in record[-1]:\n",
    "        for i in record:\n",
    "            n += 1\n",
    "            if \"som\" not in i:\n",
    "                som = MiniSom(i[\"dim\"], i[\"dim\"], data.shape[1], sigma = i[\"sigma\"], learning_rate = i[\"rate\"])\n",
    "                som.random_weights_init(data)\n",
    "                som.train(data = data, num_iteration = 1, use_epochs = True) \n",
    "                i[\"topo_err\"] = som.topographic_error(data)\n",
    "                i[\"quan_err\"] = som.quantization_error(data)\n",
    "                i[\"som\"] = som\n",
    "                i[\"band_cut\"] = len(data[0])\n",
    "                i[\"mag_cut\"] = len(data)\n",
    "                i[\"preproc\"] = \"default\"\n",
    "                i[\"topo_err\"] = som.topographic_error(data)\n",
    "                i[\"quan_err\"] = som.quantization_error(data)\n",
    "                print(f\"File: {file}, progress: {round(n / len(record) * 100, 2)}%, param: {[i[\"dim\"], i[\"sigma\"], i[\"rate\"]]}\", end = \"\\r\")\n",
    "                try:\n",
    "                    with open(file, 'wb') as handle:\n",
    "                        pickle.dump(record, handle, protocol=pickle.HIGHEST_PROTOCOL)\n",
    "                except KeyboardInterrupt:\n",
    "                    print('KeyboardInterrupt caught, data saved.')\n",
    "    else:\n",
    "        pass"
   ]
  },
  {
   "cell_type": "code",
   "execution_count": null,
   "id": "f6a0d781-52ff-4381-b4a5-fd248a9e3286",
   "metadata": {},
   "outputs": [
    {
     "name": "stdout",
     "output_type": "stream",
     "text": [
      "File: D:/SPHEREx_SOM/record/grid_search/total_high_sigma_high_rate.pkl, progress: 2.38%, param: [30, 2, 9]]\r"
     ]
    },
    {
     "name": "stderr",
     "output_type": "stream",
     "text": [
      "D:\\miniconda\\envs\\SPHEREx_SOM\\Lib\\site-packages\\numpy\\linalg\\_linalg.py:2773: RuntimeWarning: overflow encountered in reduce\n",
      "  return sqrt(add.reduce(s, axis=axis, keepdims=keepdims))\n",
      "D:\\miniconda\\envs\\SPHEREx_SOM\\Lib\\site-packages\\numpy\\linalg\\_linalg.py:2772: RuntimeWarning: overflow encountered in multiply\n",
      "  s = (x.conj() * x).real\n",
      "D:\\miniconda\\envs\\SPHEREx_SOM\\Lib\\site-packages\\minisom.py:346: RuntimeWarning: invalid value encountered in add\n",
      "  self._weights += einsum('ij, ijk->ijk', g, x-self._weights)\n",
      "D:\\miniconda\\envs\\SPHEREx_SOM\\Lib\\site-packages\\minisom.py:538: RuntimeWarning: overflow encountered in power\n",
      "  weights_flat_sq = power(weights_flat, 2).sum(axis=1, keepdims=True)\n",
      "D:\\miniconda\\envs\\SPHEREx_SOM\\Lib\\site-packages\\numpy\\_core\\_methods.py:52: RuntimeWarning: overflow encountered in reduce\n",
      "  return umr_sum(a, axis, dtype, out, keepdims, initial, where)\n"
     ]
    },
    {
     "name": "stdout",
     "output_type": "stream",
     "text": [
      "File: D:/SPHEREx_SOM/record/grid_search/total_high_sigma_high_rate.pkl, progress: 3.5%, param: [30, 3, 8]]\r"
     ]
    },
    {
     "name": "stderr",
     "output_type": "stream",
     "text": [
      "D:\\miniconda\\envs\\SPHEREx_SOM\\Lib\\site-packages\\minisom.py:540: RuntimeWarning: overflow encountered in multiply\n",
      "  return sqrt(-2 * cross_term + input_data_sq + weights_flat_sq.T)\n",
      "D:\\miniconda\\envs\\SPHEREx_SOM\\Lib\\site-packages\\minisom.py:540: RuntimeWarning: invalid value encountered in add\n",
      "  return sqrt(-2 * cross_term + input_data_sq + weights_flat_sq.T)\n"
     ]
    },
    {
     "name": "stdout",
     "output_type": "stream",
     "text": [
      "File: D:/SPHEREx_SOM/record/grid_search/total_high_sigma_high_rate.pkl, progress: 36.12%, param: [50, 9, 9]]\r"
     ]
    }
   ],
   "source": [
    "for j in os.listdir(\"D:/SPHEREx_SOM/record/grid_search/\"):\n",
    "    file = \"D:/SPHEREx_SOM/record/grid_search/\" + j\n",
    "    grid_search(data = data, file = file)"
   ]
  }
 ],
 "metadata": {
  "kernelspec": {
   "display_name": "Python 3 (ipykernel)",
   "language": "python",
   "name": "python3"
  },
  "language_info": {
   "codemirror_mode": {
    "name": "ipython",
    "version": 3
   },
   "file_extension": ".py",
   "mimetype": "text/x-python",
   "name": "python",
   "nbconvert_exporter": "python",
   "pygments_lexer": "ipython3",
   "version": "3.12.4"
  }
 },
 "nbformat": 4,
 "nbformat_minor": 5
}
