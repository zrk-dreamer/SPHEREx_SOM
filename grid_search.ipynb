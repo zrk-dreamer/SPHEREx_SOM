{
 "cells": [
  {
   "cell_type": "code",
   "execution_count": 1,
   "id": "0492ea59-44ac-45d4-9522-c1ac506d1b6f",
   "metadata": {},
   "outputs": [],
   "source": [
    "from astropy.table import Table\n",
    "import numpy as np\n",
    "import pandas as pd\n",
    "from matplotlib import pyplot as plt\n",
    "from minisom import MiniSom\n",
    "import pickle"
   ]
  },
  {
   "cell_type": "code",
   "execution_count": 2,
   "id": "6b50905b-4729-478e-967f-ab82a137797e",
   "metadata": {},
   "outputs": [],
   "source": [
    "df_L3_info = Table.read('../dataset/L3_COSMOS2020_Richard_RefCat_2023DEC4_info.fits')\n",
    "df_L3_info = df_L3_info.to_pandas()"
   ]
  },
  {
   "cell_type": "code",
   "execution_count": 3,
   "id": "2f2ed368-1d06-4710-b46e-67974de211eb",
   "metadata": {},
   "outputs": [],
   "source": [
    "L3_phot_data = np.loadtxt('../dataset/L3_COSMOS2020_Richard_RefCat_2023DEC4_averaged_phot102.txt')\n",
    "phot_data = L3_phot_data[:,3::2]\n",
    "phot_err_data = L3_phot_data[:,4::2]"
   ]
  },
  {
   "cell_type": "code",
   "execution_count": 4,
   "id": "f552c016-c30a-486b-8346-135e4d875435",
   "metadata": {},
   "outputs": [],
   "source": [
    "data = (phot_data - np.mean(phot_data, axis=0)) / np.std(phot_data, axis=0)"
   ]
  },
  {
   "cell_type": "code",
   "execution_count": 5,
   "id": "35c6b2a0-fdce-4ccf-8684-17fa095ac042",
   "metadata": {},
   "outputs": [],
   "source": [
    "with open(\"../grid_search/record.pkl\", \"rb\") as fh:\n",
    "    record = pickle.load(fh)"
   ]
  },
  {
   "cell_type": "code",
   "execution_count": 6,
   "id": "7724d838-7c13-46e5-8ef6-91949d00caf5",
   "metadata": {},
   "outputs": [],
   "source": [
    "def grid_search(record, data):\n",
    "    for i in record:\n",
    "        if \"som\" not in i:\n",
    "            som = MiniSom(i[\"dim\"], i[\"dim\"], data.shape[1], sigma = i[\"sigma\"], learning_rate = i[\"rate\"])\n",
    "            som.random_weights_init(data)\n",
    "            som.train(data = data, num_iteration = 1, use_epochs = True)\n",
    "            i[\"topo_err\"] = som.topographic_error(data)\n",
    "            i[\"quan_err\"] = som.quantization_error(data)\n",
    "            i[\"som\"] = som\n",
    "            print(\"Start saving file\")\n",
    "            with open(\"../grid_search/record.pkl\", \"wb\") as fh:\n",
    "                pickle.dump(record, fh)\n",
    "            print(\"Finish savinf file\")\n",
    "        else:\n",
    "            pass"
   ]
  },
  {
   "cell_type": "code",
   "execution_count": null,
   "id": "749fe443-a16f-4fd7-8d03-55252976b9a1",
   "metadata": {},
   "outputs": [
    {
     "name": "stdout",
     "output_type": "stream",
     "text": [
      "Start saving file\n",
      "Finish savinf file\n"
     ]
    },
    {
     "name": "stderr",
     "output_type": "stream",
     "text": [
      "D:\\miniconda\\envs\\SPHEREx_SOM\\Lib\\site-packages\\minisom.py:540: RuntimeWarning: invalid value encountered in sqrt\n",
      "  return sqrt(-2 * cross_term + input_data_sq + weights_flat_sq.T)\n"
     ]
    },
    {
     "name": "stdout",
     "output_type": "stream",
     "text": [
      "Start saving file\n",
      "Finish savinf file\n",
      "Start saving file\n",
      "Finish savinf file\n",
      "Start saving file\n",
      "Finish savinf file\n",
      "Start saving file\n",
      "Finish savinf file\n",
      "Start saving file\n",
      "Finish savinf file\n",
      "Start saving file\n",
      "Finish savinf file\n",
      "Start saving file\n",
      "Finish savinf file\n",
      "Start saving file\n",
      "Finish savinf file\n",
      "Start saving file\n",
      "Finish savinf file\n",
      "Start saving file\n",
      "Finish savinf file\n",
      "Start saving file\n",
      "Finish savinf file\n",
      "Start saving file\n",
      "Finish savinf file\n"
     ]
    }
   ],
   "source": [
    "grid_search(record, data)"
   ]
  }
 ],
 "metadata": {
  "kernelspec": {
   "display_name": "Python 3 (ipykernel)",
   "language": "python",
   "name": "python3"
  },
  "language_info": {
   "codemirror_mode": {
    "name": "ipython",
    "version": 3
   },
   "file_extension": ".py",
   "mimetype": "text/x-python",
   "name": "python",
   "nbconvert_exporter": "python",
   "pygments_lexer": "ipython3",
   "version": "3.12.4"
  }
 },
 "nbformat": 4,
 "nbformat_minor": 5
}
