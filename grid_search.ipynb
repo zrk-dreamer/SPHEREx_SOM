{
 "cells": [
  {
   "cell_type": "code",
   "execution_count": 13,
   "id": "0492ea59-44ac-45d4-9522-c1ac506d1b6f",
   "metadata": {},
   "outputs": [],
   "source": [
    "from astropy.table import Table\n",
    "import numpy as np\n",
    "import pandas as pd\n",
    "from matplotlib import pyplot as plt\n",
    "from minisom import MiniSom\n",
    "import pickle\n",
    "import os"
   ]
  },
  {
   "cell_type": "code",
   "execution_count": 2,
   "id": "15986553-e0e2-4377-a425-cd5476d8ec70",
   "metadata": {},
   "outputs": [],
   "source": [
    "b = []\n",
    "for i in range(1, 5):\n",
    "    dim = (2 * i + 1) * 10\n",
    "    for j in range(1, 11):\n",
    "        sigma = j\n",
    "        for k in range(1, 11):\n",
    "            rate = k\n",
    "\n",
    "            a = {}\n",
    "            a[\"dim\"] = dim\n",
    "            a[\"sigma\"] = sigma\n",
    "            a[\"rate\"] = rate\n",
    "            b.append(a)"
   ]
  },
  {
   "cell_type": "code",
   "execution_count": 14,
   "id": "6b50905b-4729-478e-967f-ab82a137797e",
   "metadata": {},
   "outputs": [],
   "source": [
    "df_L3_info = Table.read('../dataset/L3_COSMOS2020_Richard_RefCat_2023DEC4_info.fits')\n",
    "df_L3_info = df_L3_info.to_pandas()"
   ]
  },
  {
   "cell_type": "code",
   "execution_count": 15,
   "id": "2f2ed368-1d06-4710-b46e-67974de211eb",
   "metadata": {},
   "outputs": [],
   "source": [
    "L3_phot_data = np.loadtxt('../dataset/L3_COSMOS2020_Richard_RefCat_2023DEC4_averaged_phot102.txt')\n",
    "phot_data = L3_phot_data[:,3::2]\n",
    "phot_err_data = L3_phot_data[:,4::2]"
   ]
  },
  {
   "cell_type": "code",
   "execution_count": 16,
   "id": "f552c016-c30a-486b-8346-135e4d875435",
   "metadata": {},
   "outputs": [],
   "source": [
    "data = (phot_data - np.mean(phot_data, axis=0)) / np.std(phot_data, axis=0)"
   ]
  },
  {
   "cell_type": "code",
   "execution_count": 17,
   "id": "7724d838-7c13-46e5-8ef6-91949d00caf5",
   "metadata": {},
   "outputs": [],
   "source": [
    "def grid_search(data, file):\n",
    "    n = 0\n",
    "    with open(file, \"rb\") as fh:\n",
    "        record = pickle.load(fh)\n",
    "    if \"som\" not in record[-1]:\n",
    "        for i in record:\n",
    "            n += 1\n",
    "            if \"som\" not in i:\n",
    "                som = MiniSom(i[\"dim\"], i[\"dim\"], data.shape[1], sigma = i[\"sigma\"], learning_rate = i[\"rate\"])\n",
    "                som.random_weights_init(data)\n",
    "                som.train(data = data, num_iteration = 1, use_epochs = True) \n",
    "                i[\"topo_err\"] = som.topographic_error(data)\n",
    "                i[\"quan_err\"] = som.quantization_error(data)\n",
    "                i[\"som\"] = som\n",
    "                i[\"band_cut\"] = len(data[0])\n",
    "                i[\"mag_cut\"] = len(data)\n",
    "                i[\"preproc\"] = \"default\"\n",
    "                i[\"topo_err\"] = som.topographic_error(data)\n",
    "                i[\"quan_err\"] = som.quantization_error(data)\n",
    "                print(f\"File: {file}, progress: {round(n / len(record) * 100, 2)}%, param: {[i[\"dim\"], i[\"sigma\"], i[\"rate\"]]}\", end = \"\\r\")\n",
    "                try:\n",
    "                    with open(file, 'wb') as handle:\n",
    "                        pickle.dump(record, handle, protocol=pickle.HIGHEST_PROTOCOL)\n",
    "                except KeyboardInterrupt:\n",
    "                    print('KeyboardInterrupt caught, data saved.')\n",
    "    else:\n",
    "        pass"
   ]
  },
  {
   "cell_type": "code",
   "execution_count": 18,
   "id": "f6a0d781-52ff-4381-b4a5-fd248a9e3286",
   "metadata": {},
   "outputs": [
    {
     "name": "stdout",
     "output_type": "stream",
     "text": [
      "File: D:/SPHEREx_SOM/record/grid_search/all/total_low_sigma_high_rate.pkl, progress: 17.25%, param: [30, 0.7, 9]]\r"
     ]
    },
    {
     "name": "stderr",
     "output_type": "stream",
     "text": [
      "D:\\miniconda\\envs\\SPHEREx_SOM\\Lib\\site-packages\\numpy\\linalg\\_linalg.py:2773: RuntimeWarning: overflow encountered in reduce\n",
      "  return sqrt(add.reduce(s, axis=axis, keepdims=keepdims))\n",
      "D:\\miniconda\\envs\\SPHEREx_SOM\\Lib\\site-packages\\numpy\\linalg\\_linalg.py:2772: RuntimeWarning: overflow encountered in multiply\n",
      "  s = (x.conj() * x).real\n",
      "D:\\miniconda\\envs\\SPHEREx_SOM\\Lib\\site-packages\\minisom.py:538: RuntimeWarning: overflow encountered in power\n",
      "  weights_flat_sq = power(weights_flat, 2).sum(axis=1, keepdims=True)\n",
      "D:\\miniconda\\envs\\SPHEREx_SOM\\Lib\\site-packages\\numpy\\_core\\_methods.py:52: RuntimeWarning: overflow encountered in reduce\n",
      "  return umr_sum(a, axis, dtype, out, keepdims, initial, where)\n"
     ]
    },
    {
     "name": "stdout",
     "output_type": "stream",
     "text": [
      "File: D:/SPHEREx_SOM/record/grid_search/all/total_low_sigma_high_rate.pkl, progress: 19.75%, param: [30, 0.8, 9]\r"
     ]
    },
    {
     "name": "stderr",
     "output_type": "stream",
     "text": [
      "D:\\miniconda\\envs\\SPHEREx_SOM\\Lib\\site-packages\\minisom.py:346: RuntimeWarning: invalid value encountered in add\n",
      "  self._weights += einsum('ij, ijk->ijk', g, x-self._weights)\n"
     ]
    },
    {
     "name": "stdout",
     "output_type": "stream",
     "text": [
      "File: D:/SPHEREx_SOM/record/grid_search/all/total_low_sigma_high_rate.pkl, progress: 64.25%, param: [70, 0.6, 7]\r"
     ]
    },
    {
     "ename": "KeyboardInterrupt",
     "evalue": "",
     "output_type": "error",
     "traceback": [
      "\u001b[1;31m---------------------------------------------------------------------------\u001b[0m",
      "\u001b[1;31mKeyboardInterrupt\u001b[0m                         Traceback (most recent call last)",
      "Cell \u001b[1;32mIn[18], line 5\u001b[0m\n\u001b[0;32m      3\u001b[0m     \u001b[38;5;28;01mcontinue\u001b[39;00m\n\u001b[0;32m      4\u001b[0m file \u001b[38;5;241m=\u001b[39m \u001b[38;5;124m\"\u001b[39m\u001b[38;5;124mD:/SPHEREx_SOM/record/grid_search/all/\u001b[39m\u001b[38;5;124m\"\u001b[39m \u001b[38;5;241m+\u001b[39m j\n\u001b[1;32m----> 5\u001b[0m \u001b[43mgrid_search\u001b[49m\u001b[43m(\u001b[49m\u001b[43mdata\u001b[49m\u001b[43m \u001b[49m\u001b[38;5;241;43m=\u001b[39;49m\u001b[43m \u001b[49m\u001b[43mdata\u001b[49m\u001b[43m,\u001b[49m\u001b[43m \u001b[49m\u001b[43mfile\u001b[49m\u001b[43m \u001b[49m\u001b[38;5;241;43m=\u001b[39;49m\u001b[43m \u001b[49m\u001b[43mfile\u001b[49m\u001b[43m)\u001b[49m\n",
      "Cell \u001b[1;32mIn[17], line 11\u001b[0m, in \u001b[0;36mgrid_search\u001b[1;34m(data, file)\u001b[0m\n\u001b[0;32m      9\u001b[0m som \u001b[38;5;241m=\u001b[39m MiniSom(i[\u001b[38;5;124m\"\u001b[39m\u001b[38;5;124mdim\u001b[39m\u001b[38;5;124m\"\u001b[39m], i[\u001b[38;5;124m\"\u001b[39m\u001b[38;5;124mdim\u001b[39m\u001b[38;5;124m\"\u001b[39m], data\u001b[38;5;241m.\u001b[39mshape[\u001b[38;5;241m1\u001b[39m], sigma \u001b[38;5;241m=\u001b[39m i[\u001b[38;5;124m\"\u001b[39m\u001b[38;5;124msigma\u001b[39m\u001b[38;5;124m\"\u001b[39m], learning_rate \u001b[38;5;241m=\u001b[39m i[\u001b[38;5;124m\"\u001b[39m\u001b[38;5;124mrate\u001b[39m\u001b[38;5;124m\"\u001b[39m])\n\u001b[0;32m     10\u001b[0m som\u001b[38;5;241m.\u001b[39mrandom_weights_init(data)\n\u001b[1;32m---> 11\u001b[0m \u001b[43msom\u001b[49m\u001b[38;5;241;43m.\u001b[39;49m\u001b[43mtrain\u001b[49m\u001b[43m(\u001b[49m\u001b[43mdata\u001b[49m\u001b[43m \u001b[49m\u001b[38;5;241;43m=\u001b[39;49m\u001b[43m \u001b[49m\u001b[43mdata\u001b[49m\u001b[43m,\u001b[49m\u001b[43m \u001b[49m\u001b[43mnum_iteration\u001b[49m\u001b[43m \u001b[49m\u001b[38;5;241;43m=\u001b[39;49m\u001b[43m \u001b[49m\u001b[38;5;241;43m1\u001b[39;49m\u001b[43m,\u001b[49m\u001b[43m \u001b[49m\u001b[43muse_epochs\u001b[49m\u001b[43m \u001b[49m\u001b[38;5;241;43m=\u001b[39;49m\u001b[43m \u001b[49m\u001b[38;5;28;43;01mTrue\u001b[39;49;00m\u001b[43m)\u001b[49m \n\u001b[0;32m     12\u001b[0m i[\u001b[38;5;124m\"\u001b[39m\u001b[38;5;124mtopo_err\u001b[39m\u001b[38;5;124m\"\u001b[39m] \u001b[38;5;241m=\u001b[39m som\u001b[38;5;241m.\u001b[39mtopographic_error(data)\n\u001b[0;32m     13\u001b[0m i[\u001b[38;5;124m\"\u001b[39m\u001b[38;5;124mquan_err\u001b[39m\u001b[38;5;124m\"\u001b[39m] \u001b[38;5;241m=\u001b[39m som\u001b[38;5;241m.\u001b[39mquantization_error(data)\n",
      "File \u001b[1;32mD:\\miniconda\\envs\\SPHEREx_SOM\\Lib\\site-packages\\minisom.py:434\u001b[0m, in \u001b[0;36mMiniSom.train\u001b[1;34m(self, data, num_iteration, random_order, verbose, use_epochs)\u001b[0m\n\u001b[0;32m    432\u001b[0m \u001b[38;5;28;01mfor\u001b[39;00m t, iteration \u001b[38;5;129;01min\u001b[39;00m \u001b[38;5;28menumerate\u001b[39m(iterations):\n\u001b[0;32m    433\u001b[0m     decay_rate \u001b[38;5;241m=\u001b[39m get_decay_rate(t, \u001b[38;5;28mlen\u001b[39m(data))\n\u001b[1;32m--> 434\u001b[0m     \u001b[38;5;28;43mself\u001b[39;49m\u001b[38;5;241;43m.\u001b[39;49m\u001b[43mupdate\u001b[49m\u001b[43m(\u001b[49m\u001b[43mdata\u001b[49m\u001b[43m[\u001b[49m\u001b[43miteration\u001b[49m\u001b[43m]\u001b[49m\u001b[43m,\u001b[49m\u001b[43m \u001b[49m\u001b[38;5;28;43mself\u001b[39;49m\u001b[38;5;241;43m.\u001b[39;49m\u001b[43mwinner\u001b[49m\u001b[43m(\u001b[49m\u001b[43mdata\u001b[49m\u001b[43m[\u001b[49m\u001b[43miteration\u001b[49m\u001b[43m]\u001b[49m\u001b[43m)\u001b[49m\u001b[43m,\u001b[49m\n\u001b[0;32m    435\u001b[0m \u001b[43m                \u001b[49m\u001b[43mdecay_rate\u001b[49m\u001b[43m,\u001b[49m\u001b[43m \u001b[49m\u001b[43mnum_iteration\u001b[49m\u001b[43m)\u001b[49m\n\u001b[0;32m    436\u001b[0m \u001b[38;5;28;01mif\u001b[39;00m verbose:\n\u001b[0;32m    437\u001b[0m     \u001b[38;5;28mprint\u001b[39m(\u001b[38;5;124m'\u001b[39m\u001b[38;5;130;01m\\n\u001b[39;00m\u001b[38;5;124m quantization error:\u001b[39m\u001b[38;5;124m'\u001b[39m, \u001b[38;5;28mself\u001b[39m\u001b[38;5;241m.\u001b[39mquantization_error(data))\n",
      "File \u001b[1;32mD:\\miniconda\\envs\\SPHEREx_SOM\\Lib\\site-packages\\minisom.py:346\u001b[0m, in \u001b[0;36mMiniSom.update\u001b[1;34m(self, x, win, t, max_iteration)\u001b[0m\n\u001b[0;32m    344\u001b[0m g \u001b[38;5;241m=\u001b[39m \u001b[38;5;28mself\u001b[39m\u001b[38;5;241m.\u001b[39mneighborhood(win, sig)\u001b[38;5;241m*\u001b[39meta\n\u001b[0;32m    345\u001b[0m \u001b[38;5;66;03m# w_new = eta * neighborhood_function * (x-w)\u001b[39;00m\n\u001b[1;32m--> 346\u001b[0m \u001b[38;5;28mself\u001b[39m\u001b[38;5;241m.\u001b[39m_weights \u001b[38;5;241m+\u001b[39m\u001b[38;5;241m=\u001b[39m \u001b[43meinsum\u001b[49m\u001b[43m(\u001b[49m\u001b[38;5;124;43m'\u001b[39;49m\u001b[38;5;124;43mij, ijk->ijk\u001b[39;49m\u001b[38;5;124;43m'\u001b[39;49m\u001b[43m,\u001b[49m\u001b[43m \u001b[49m\u001b[43mg\u001b[49m\u001b[43m,\u001b[49m\u001b[43m \u001b[49m\u001b[43mx\u001b[49m\u001b[38;5;241;43m-\u001b[39;49m\u001b[38;5;28;43mself\u001b[39;49m\u001b[38;5;241;43m.\u001b[39;49m\u001b[43m_weights\u001b[49m\u001b[43m)\u001b[49m\n",
      "File \u001b[1;32mD:\\miniconda\\envs\\SPHEREx_SOM\\Lib\\site-packages\\numpy\\_core\\einsumfunc.py:1429\u001b[0m, in \u001b[0;36meinsum\u001b[1;34m(out, optimize, *operands, **kwargs)\u001b[0m\n\u001b[0;32m   1427\u001b[0m     \u001b[38;5;28;01mif\u001b[39;00m specified_out:\n\u001b[0;32m   1428\u001b[0m         kwargs[\u001b[38;5;124m'\u001b[39m\u001b[38;5;124mout\u001b[39m\u001b[38;5;124m'\u001b[39m] \u001b[38;5;241m=\u001b[39m out\n\u001b[1;32m-> 1429\u001b[0m     \u001b[38;5;28;01mreturn\u001b[39;00m \u001b[43mc_einsum\u001b[49m\u001b[43m(\u001b[49m\u001b[38;5;241;43m*\u001b[39;49m\u001b[43moperands\u001b[49m\u001b[43m,\u001b[49m\u001b[43m \u001b[49m\u001b[38;5;241;43m*\u001b[39;49m\u001b[38;5;241;43m*\u001b[39;49m\u001b[43mkwargs\u001b[49m\u001b[43m)\u001b[49m\n\u001b[0;32m   1431\u001b[0m \u001b[38;5;66;03m# Check the kwargs to avoid a more cryptic error later, without having to\u001b[39;00m\n\u001b[0;32m   1432\u001b[0m \u001b[38;5;66;03m# repeat default values here\u001b[39;00m\n\u001b[0;32m   1433\u001b[0m valid_einsum_kwargs \u001b[38;5;241m=\u001b[39m [\u001b[38;5;124m'\u001b[39m\u001b[38;5;124mdtype\u001b[39m\u001b[38;5;124m'\u001b[39m, \u001b[38;5;124m'\u001b[39m\u001b[38;5;124morder\u001b[39m\u001b[38;5;124m'\u001b[39m, \u001b[38;5;124m'\u001b[39m\u001b[38;5;124mcasting\u001b[39m\u001b[38;5;124m'\u001b[39m]\n",
      "\u001b[1;31mKeyboardInterrupt\u001b[0m: "
     ]
    }
   ],
   "source": [
    "for j in os.listdir(\"D:/SPHEREx_SOM/record/grid_search/all/\"):\n",
    "    if \"check\" in j:\n",
    "        continue\n",
    "    file = \"D:/SPHEREx_SOM/record/grid_search/all/\" + j\n",
    "    grid_search(data = data, file = file)"
   ]
  },
  {
   "cell_type": "code",
   "execution_count": null,
   "id": "13a095e9-f99d-4af1-9159-455d7d9c5f18",
   "metadata": {},
   "outputs": [],
   "source": []
  }
 ],
 "metadata": {
  "kernelspec": {
   "display_name": "Python 3 (ipykernel)",
   "language": "python",
   "name": "python3"
  },
  "language_info": {
   "codemirror_mode": {
    "name": "ipython",
    "version": 3
   },
   "file_extension": ".py",
   "mimetype": "text/x-python",
   "name": "python",
   "nbconvert_exporter": "python",
   "pygments_lexer": "ipython3",
   "version": "3.12.4"
  }
 },
 "nbformat": 4,
 "nbformat_minor": 5
}
