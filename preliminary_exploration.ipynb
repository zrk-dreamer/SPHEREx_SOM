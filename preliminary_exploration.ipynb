{
 "cells": [
  {
   "cell_type": "code",
   "execution_count": 124,
   "id": "dfbf6561-9f26-4ede-8622-886d632072fb",
   "metadata": {},
   "outputs": [],
   "source": [
    "from astropy.table import Table\n",
    "import numpy as np\n",
    "import pandas as pd\n",
    "from matplotlib import pyplot as plt\n",
    "from minisom import MiniSom\n",
    "import pickle"
   ]
  },
  {
   "cell_type": "code",
   "execution_count": 2,
   "id": "a402a811-9584-4b5e-8a84-fd27ac28c41f",
   "metadata": {},
   "outputs": [],
   "source": [
    "df_L3_info = Table.read('../dataset/L3_COSMOS2020_Richard_RefCat_2023DEC4_info.fits')\n",
    "df_L3_info = df_L3_info.to_pandas()"
   ]
  },
  {
   "cell_type": "code",
   "execution_count": 4,
   "id": "d637cb7f-533a-4692-b6b8-754243cd2203",
   "metadata": {},
   "outputs": [],
   "source": [
    "L3_phot_data = np.loadtxt('../dataset/L3_COSMOS2020_Richard_RefCat_2023DEC4_averaged_phot102.txt')\n",
    "phot_data = L3_phot_data[:,3::2]\n",
    "phot_err_data = L3_phot_data[:,4::2]"
   ]
  },
  {
   "cell_type": "code",
   "execution_count": 57,
   "id": "7b2ddc05-babe-48d4-88ef-d38666fd1fda",
   "metadata": {},
   "outputs": [
    {
     "data": {
      "image/png": "[encoded data removed]",
      "text/plain": [
       "<Figure size 640x480 with 1 Axes>"
      ]
     },
     "metadata": {},
     "output_type": "display_data"
    }
   ],
   "source": [
    "plt.hist(df_L3_info[\"z_true\"], bins = 20)\n",
    "plt.show()"
   ]
  },
  {
   "cell_type": "code",
   "execution_count": 58,
   "id": "a246eabb-3807-44b1-8697-fc86f95523ea",
   "metadata": {},
   "outputs": [
    {
     "data": {
      "image/png": "[encoded data removed]",
      "text/plain": [
       "<Figure size 640x480 with 1 Axes>"
      ]
     },
     "metadata": {},
     "output_type": "display_data"
    }
   ],
   "source": [
    "plt.hist(df_L3_info[\"HSC_i_MAG\"], bins = 40)\n",
    "plt.show()"
   ]
  },
  {
   "cell_type": "code",
   "execution_count": 5,
   "id": "d8230542-188f-456f-a806-b2cea092c846",
   "metadata": {},
   "outputs": [],
   "source": [
    "data = (phot_data - np.mean(phot_data, axis=0)) / np.std(phot_data, axis=0)"
   ]
  },
  {
   "cell_type": "code",
   "execution_count": 80,
   "id": "aa85357d-0704-4bf8-aacc-c36ea333e815",
   "metadata": {},
   "outputs": [],
   "source": [
    "def basic_som(data, dim, cmap, iteration = 1, sigma = 1, learning_rate = 1):\n",
    "    som = MiniSom(dim, dim, data.shape[1], sigma = sigma, learning_rate = learning_rate)\n",
    "    som.random_weights_init(data)\n",
    "    som.train(data, iteration, use_epochs = True)\n",
    "\n",
    "    print(\"Finish traininging SOM.\")\n",
    "    print(\"Start making diagrams...\")\n",
    "\n",
    "    density_map = np.zeros(dim ** 2).reshape(dim, dim)\n",
    "    magnitude_map = np.zeros(dim ** 2).reshape(dim, dim)\n",
    "    magnitude_map.fill(np.nan)\n",
    "    z_map = np.zeros(dim ** 2).reshape(dim, dim)\n",
    "    z_map.fill(np.nan)\n",
    "    \n",
    "    labels_map_1 = som.labels_map(data, [0] * len(data))\n",
    "    labels_map_2 = som.labels_map(data, tuple(map(tuple, np.concatenate((np.expand_dims(df_L3_info[\"HSC_i_MAG\"].values, axis = 1), np.expand_dims(df_L3_info[\"z_true\"].values, axis = 1)), axis = -1))))\n",
    "\n",
    "    for i in labels_map_1.keys():\n",
    "        density_map[int(list(i)[0]), int(list(i)[1])] = labels_map_1[i][0]\n",
    "\n",
    "    print(\"Finish collecting data for density map.\")\n",
    "    \n",
    "    for i in labels_map_2.keys():\n",
    "        properties = np.mean(np.array(list(labels_map_2[i].keys())), axis = 0)\n",
    "        magnitude_map[int(list(i)[0]), int(list(i)[1])] = properties[0]\n",
    "        z_map[int(list(i)[0]), int(list(i)[1])] = properties[1]\n",
    "\n",
    "    print(\"Finish collecting data for magnitude map.\")\n",
    "\n",
    "    print(f\"Topological error: {som.topographic_error(data)}\")\n",
    "    print(f\"Quantization error: {som.quantization_error(data)}\")\n",
    "\n",
    "    %matplotlib inline\n",
    "    plt.close()\n",
    "    plt.figure(figsize = (25, 25))\n",
    "    plt.subplot(221)\n",
    "    plt.pcolor(som.distance_map().T, cmap='YlGn')  # plotting the distance map as background\n",
    "    plt.colorbar()\n",
    "    plt.title(\"Distance map (U-matrix)\")\n",
    "\n",
    "    plt.subplot(222)\n",
    "    plt.pcolor(density_map.T, cmap='YlGn')\n",
    "    plt.colorbar()\n",
    "    plt.title(\"Density Map\")\n",
    "\n",
    "    plt.subplot(223)\n",
    "    plt.pcolor(magnitude_map.T, cmap=\"plasma\" + \"_r\")\n",
    "    plt.colorbar()\n",
    "    plt.title(\"HSC I Magnitude Map\")\n",
    "\n",
    "    plt.subplot(224)\n",
    "    plt.pcolor(z_map.T, cmap=\"jet\")\n",
    "    plt.colorbar()\n",
    "    plt.title(\"True Redshift Map\")\n",
    "    \n",
    "    return som"
   ]
  },
  {
   "cell_type": "code",
   "execution_count": null,
   "id": "4aed90bc-75f8-4060-ad21-938cf4ae8977",
   "metadata": {},
   "outputs": [],
   "source": [
    "som = basic_som(data = data, dim = 40, cmap = \"viridis\", sigma = 0.4)"
   ]
  },
  {
   "cell_type": "code",
   "execution_count": null,
   "id": "b564aedc-1f50-4dea-9554-6407473206f9",
   "metadata": {},
   "outputs": [],
   "source": [
    "# som = MiniSom(100, 100, data.shape[1], sigma=  1, learning_rate = 1,\n",
    "#               neighborhood_function='gaussian', random_seed=10)\n",
    "\n",
    "# max_iter = 1000\n",
    "# q_error = []\n",
    "# t_error = []\n",
    "\n",
    "# for i in range(max_iter):\n",
    "#     rand_i = np.random.randint(len(data))\n",
    "#     som.update(data[rand_i], som.winner(data[rand_i]), i, max_iter)\n",
    "#     q_error.append(som.quantization_error(data))\n",
    "#     t_error.append(som.topographic_error(data))\n",
    "\n",
    "# plt.plot(np.arange(max_iter), q_error, label='quantization error')\n",
    "# plt.plot(np.arange(max_iter), t_error, label='topographic error')\n",
    "# plt.ylabel('error')\n",
    "# plt.xlabel('iteration index')\n",
    "# plt.legend()\n",
    "# plt.show()"
   ]
  },
  {
   "cell_type": "code",
   "execution_count": 129,
   "id": "b04c687b-6c6d-4b18-94ec-0f9b0650c5b0",
   "metadata": {},
   "outputs": [],
   "source": [
    "b = []\n",
    "for i in range(3, 11):\n",
    "    dim = i * 10\n",
    "    for j in range(1, i):\n",
    "        sigma1 = j * 10\n",
    "        sigma2 = j / 10\n",
    "        for k in range(1, 11):\n",
    "            rate1 = k\n",
    "            rate2 = k / 10\n",
    "\n",
    "            a = {}\n",
    "            a[\"dim\"] = dim\n",
    "            a[\"sigma\"] = sigma1\n",
    "            a[\"rate\"] = rate1\n",
    "            b.append(a)\n",
    "\n",
    "            a = {}\n",
    "            a[\"dim\"] = dim\n",
    "            a[\"sigma\"] = sigma1\n",
    "            a[\"rate\"] = rate2\n",
    "            b.append(a)\n",
    "            \n",
    "            a = {}\n",
    "            a[\"dim\"] = dim\n",
    "            a[\"sigma\"] = sigma2\n",
    "            a[\"rate\"] = rate1\n",
    "            b.append(a)\n",
    "            \n",
    "            a = {}\n",
    "            a[\"dim\"] = dim\n",
    "            a[\"sigma\"] = sigma2\n",
    "            a[\"rate\"] = rate2\n",
    "            b.append(a)"
   ]
  }
 ],
 "metadata": {
  "kernelspec": {
   "display_name": "Python 3 (ipykernel)",
   "language": "python",
   "name": "python3"
  },
  "language_info": {
   "codemirror_mode": {
    "name": "ipython",
    "version": 3
   },
   "file_extension": ".py",
   "mimetype": "text/x-python",
   "name": "python",
   "nbconvert_exporter": "python",
   "pygments_lexer": "ipython3",
   "version": "3.12.4"
  }
 },
 "nbformat": 4,
 "nbformat_minor": 5
}
