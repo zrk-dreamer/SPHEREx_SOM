{
 "cells": [
  {
   "cell_type": "code",
   "execution_count": 20,
   "id": "dfbf6561-9f26-4ede-8622-886d632072fb",
   "metadata": {},
   "outputs": [],
   "source": [
    "from astropy.table import Table\n",
    "import numpy as np\n",
    "import pandas as pd\n",
    "from matplotlib import pyplot as plt\n",
    "from minisom import MiniSom\n",
    "import pickle"
   ]
  },
  {
   "cell_type": "code",
   "execution_count": 21,
   "id": "a402a811-9584-4b5e-8a84-fd27ac28c41f",
   "metadata": {},
   "outputs": [],
   "source": [
    "df_L3_info = Table.read('../dataset/L3_COSMOS2020_Richard_RefCat_2023DEC4_info.fits')\n",
    "df_L3_info = df_L3_info.to_pandas()"
   ]
  },
  {
   "cell_type": "code",
   "execution_count": 22,
   "id": "d637cb7f-533a-4692-b6b8-754243cd2203",
   "metadata": {},
   "outputs": [],
   "source": [
    "L3_phot_data = np.loadtxt('../dataset/L3_COSMOS2020_Richard_RefCat_2023DEC4_averaged_phot102.txt')\n",
    "phot_data = L3_phot_data[:,3::2]\n",
    "phot_err_data = L3_phot_data[:,4::2]"
   ]
  },
  {
   "cell_type": "code",
   "execution_count": null,
   "id": "7b2ddc05-babe-48d4-88ef-d38666fd1fda",
   "metadata": {},
   "outputs": [],
   "source": [
    "plt.hist(df_L3_info[\"z_true\"], bins = 20)\n",
    "plt.show()"
   ]
  },
  {
   "cell_type": "code",
   "execution_count": null,
   "id": "a246eabb-3807-44b1-8697-fc86f95523ea",
   "metadata": {},
   "outputs": [],
   "source": [
    "plt.hist(df_L3_info[\"HSC_i_MAG\"], bins = 40)\n",
    "plt.show()"
   ]
  },
  {
   "cell_type": "code",
   "execution_count": null,
   "id": "01e6a123-64dd-45bf-8182-dbd50a680e98",
   "metadata": {},
   "outputs": [],
   "source": []
  },
  {
   "cell_type": "code",
   "execution_count": 33,
   "id": "4808addf-6971-40e8-8efb-d2b3cb662869",
   "metadata": {},
   "outputs": [],
   "source": [
    "def preprocess(data, data_err, mode):\n",
    "    if mode == \"default\":\n",
    "        proc_data = (data - np.mean(data, axis=0)) / np.std(data, ddof = 1, axis=0)\n",
    "        return proc_data\n",
    "    elif mode == \"SNR\":\n",
    "        proc_data = data / data_err\n",
    "        proc_data = (proc_data - np.mean(proc_data, axis=0)) / np.std(proc_data, ddof = 1, axis=0)\n",
    "        return proc_data"
   ]
  },
  {
   "cell_type": "code",
   "execution_count": 34,
   "id": "aa85357d-0704-4bf8-aacc-c36ea333e815",
   "metadata": {},
   "outputs": [],
   "source": [
    "def basic_som(data, dim, cmap, iteration = 1, sigma = 1, learning_rate = 1):\n",
    "    som = MiniSom(dim, dim, data.shape[1], sigma = sigma, learning_rate = learning_rate)\n",
    "    som.random_weights_init(data)\n",
    "    som.train(data, iteration, use_epochs = True)\n",
    "\n",
    "    print(\"Finish traininging SOM.\")\n",
    "    print(\"Start making diagrams...\")\n",
    "\n",
    "    density_map = np.zeros(dim ** 2).reshape(dim, dim)\n",
    "    magnitude_map = np.zeros(dim ** 2).reshape(dim, dim)\n",
    "    magnitude_map.fill(np.nan)\n",
    "    z_map = np.zeros(dim ** 2).reshape(dim, dim)\n",
    "    z_map.fill(np.nan)\n",
    "    \n",
    "    labels_map_1 = som.labels_map(data, [0] * len(data))\n",
    "    labels_map_2 = som.labels_map(data, tuple(map(tuple, np.concatenate((np.expand_dims(df_L3_info[\"HSC_i_MAG\"].values, axis = 1), np.expand_dims(df_L3_info[\"z_true\"].values, axis = 1)), axis = -1))))\n",
    "\n",
    "    for i in labels_map_1.keys():\n",
    "        density_map[int(list(i)[0]), int(list(i)[1])] = labels_map_1[i][0]\n",
    "\n",
    "    print(\"Finish collecting data for density map.\")\n",
    "    \n",
    "    for i in labels_map_2.keys():\n",
    "        properties = np.mean(np.array(list(labels_map_2[i].keys())), axis = 0)\n",
    "        magnitude_map[int(list(i)[0]), int(list(i)[1])] = properties[0]\n",
    "        z_map[int(list(i)[0]), int(list(i)[1])] = properties[1]\n",
    "\n",
    "    print(\"Finish collecting data for magnitude map.\")\n",
    "\n",
    "    print(f\"Topological error: {som.topographic_error(data)}\")\n",
    "    print(f\"Quantization error: {som.quantization_error(data)}\")\n",
    "\n",
    "    %matplotlib inline\n",
    "    plt.close()\n",
    "    plt.figure(figsize = (25, 25))\n",
    "    plt.subplot(221)\n",
    "    plt.pcolor(som.distance_map().T, cmap='YlGn')  # plotting the distance map as background\n",
    "    plt.colorbar()\n",
    "    plt.title(\"Distance map (U-matrix)\")\n",
    "\n",
    "    plt.subplot(222)\n",
    "    plt.pcolor(density_map.T, cmap='YlGn')\n",
    "    plt.colorbar()\n",
    "    plt.title(\"Density Map\")\n",
    "\n",
    "    plt.subplot(223)\n",
    "    plt.pcolor(magnitude_map.T, cmap=\"plasma\" + \"_r\")\n",
    "    plt.colorbar()\n",
    "    plt.title(\"HSC I Magnitude Map\")\n",
    "\n",
    "    plt.subplot(224)\n",
    "    plt.pcolor(z_map.T, cmap=\"jet\")\n",
    "    plt.colorbar()\n",
    "    plt.title(\"True Redshift Map\")\n",
    "    \n",
    "    return som"
   ]
  },
  {
   "cell_type": "code",
   "execution_count": 35,
   "id": "95964ab7-cd8e-4f75-a06d-11723071683b",
   "metadata": {},
   "outputs": [],
   "source": [
    "proc_data = preprocess(data = phot_data, data_err = phot_err_data, mode = \"SNR\")"
   ]
  },
  {
   "cell_type": "code",
   "execution_count": null,
   "id": "4aed90bc-75f8-4060-ad21-938cf4ae8977",
   "metadata": {},
   "outputs": [],
   "source": [
    "som = basic_som(data = proc_data, dim = 40, cmap = \"viridis\", sigma = 0.4)"
   ]
  },
  {
   "cell_type": "code",
   "execution_count": null,
   "id": "b564aedc-1f50-4dea-9554-6407473206f9",
   "metadata": {},
   "outputs": [],
   "source": [
    "# som = MiniSom(100, 100, data.shape[1], sigma=  1, learning_rate = 1,\n",
    "#               neighborhood_function='gaussian', random_seed=10)\n",
    "\n",
    "# max_iter = 1000\n",
    "# q_error = []\n",
    "# t_error = []\n",
    "\n",
    "# for i in range(max_iter):\n",
    "#     rand_i = np.random.randint(len(data))\n",
    "#     som.update(data[rand_i], som.winner(data[rand_i]), i, max_iter)\n",
    "#     q_error.append(som.quantization_error(data))\n",
    "#     t_error.append(som.topographic_error(data))\n",
    "\n",
    "# plt.plot(np.arange(max_iter), q_error, label='quantization error')\n",
    "# plt.plot(np.arange(max_iter), t_error, label='topographic error')\n",
    "# plt.ylabel('error')\n",
    "# plt.xlabel('iteration index')\n",
    "# plt.legend()\n",
    "# plt.show()"
   ]
  },
  {
   "cell_type": "code",
   "execution_count": 129,
   "id": "b04c687b-6c6d-4b18-94ec-0f9b0650c5b0",
   "metadata": {},
   "outputs": [],
   "source": []
  }
 ],
 "metadata": {
  "kernelspec": {
   "display_name": "Python 3 (ipykernel)",
   "language": "python",
   "name": "python3"
  },
  "language_info": {
   "codemirror_mode": {
    "name": "ipython",
    "version": 3
   },
   "file_extension": ".py",
   "mimetype": "text/x-python",
   "name": "python",
   "nbconvert_exporter": "python",
   "pygments_lexer": "ipython3",
   "version": "3.12.4"
  }
 },
 "nbformat": 4,
 "nbformat_minor": 5
}
