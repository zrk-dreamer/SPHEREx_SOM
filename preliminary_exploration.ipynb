{
 "cells": [
  {
   "cell_type": "code",
   "execution_count": 16,
   "id": "dfbf6561-9f26-4ede-8622-886d632072fb",
   "metadata": {},
   "outputs": [],
   "source": [
    "from astropy.table import Table\n",
    "import numpy as np\n",
    "import pandas as pd\n",
    "from matplotlib import pyplot as plt\n",
    "from minisom import MiniSom   "
   ]
  },
  {
   "cell_type": "code",
   "execution_count": 17,
   "id": "a402a811-9584-4b5e-8a84-fd27ac28c41f",
   "metadata": {},
   "outputs": [],
   "source": [
    "df_L3_info = Table.read('../dataset/L3_COSMOS2020_Richard_RefCat_2023DEC4_info.fits')\n",
    "df_L3_info = df_L3_info.to_pandas()"
   ]
  },
  {
   "cell_type": "code",
   "execution_count": 18,
   "id": "d637cb7f-533a-4692-b6b8-754243cd2203",
   "metadata": {},
   "outputs": [],
   "source": [
    "L3_phot_data = np.loadtxt('../dataset/L3_COSMOS2020_Richard_RefCat_2023DEC4_averaged_phot102.txt')\n",
    "phot_data = L3_phot_data[:,3::2]\n",
    "phot_err_data = L3_phot_data[:,4::2]"
   ]
  },
  {
   "cell_type": "code",
   "execution_count": 2,
   "id": "d1f04e45-5b00-491e-8237-ef3e66c8f7e7",
   "metadata": {},
   "outputs": [],
   "source": [
    "som = MiniSom(6, 6, 4, sigma=0.3, learning_rate=0.5) # initialization of 6x6 SOM\n",
    "som.train(data, 100) # trains the SOM with 100 iterations"
   ]
  },
  {
   "cell_type": "code",
   "execution_count": 3,
   "id": "da9b862d-942c-4435-af2b-ffc4fc7156fd",
   "metadata": {},
   "outputs": [
    {
     "data": {
      "text/plain": [
       "(np.int64(5), np.int64(4))"
      ]
     },
     "execution_count": 3,
     "metadata": {},
     "output_type": "execute_result"
    }
   ],
   "source": [
    "som.winner(data[0])"
   ]
  },
  {
   "cell_type": "code",
   "execution_count": null,
   "id": "b564aedc-1f50-4dea-9554-6407473206f9",
   "metadata": {},
   "outputs": [],
   "source": [
    "help(MiniSom)"
   ]
  },
  {
   "cell_type": "code",
   "execution_count": 24,
   "id": "43a6abae-5337-458b-8401-e2e156f7d4b0",
   "metadata": {},
   "outputs": [
    {
     "data": {
      "text/plain": [
       "array([[  -8.89,   12.76,   26.  , ...,  142.23,  -18.24,  101.69],\n",
       "       [  18.68,   21.02,   35.54, ...,   28.69,  -41.77,   18.73],\n",
       "       [  37.59,   67.26,   79.94, ...,   45.31,   29.3 ,   94.04],\n",
       "       ...,\n",
       "       [  27.96,   -0.39,   15.97, ...,   28.92,   91.97,   65.44],\n",
       "       [   3.72,    9.53,   32.91, ...,   12.8 ,   -8.06, -101.04],\n",
       "       [   9.03,    4.86,   22.86, ...,   -9.34,   97.59,    3.55]])"
      ]
     },
     "execution_count": 24,
     "metadata": {},
     "output_type": "execute_result"
    }
   ],
   "source": [
    "phot_data"
   ]
  },
  {
   "cell_type": "code",
   "execution_count": null,
   "id": "e5d466be-170e-487d-b134-522bae6c784f",
   "metadata": {},
   "outputs": [],
   "source": []
  }
 ],
 "metadata": {
  "kernelspec": {
   "display_name": "Python 3 (ipykernel)",
   "language": "python",
   "name": "python3"
  },
  "language_info": {
   "codemirror_mode": {
    "name": "ipython",
    "version": 3
   },
   "file_extension": ".py",
   "mimetype": "text/x-python",
   "name": "python",
   "nbconvert_exporter": "python",
   "pygments_lexer": "ipython3",
   "version": "3.12.4"
  }
 },
 "nbformat": 4,
 "nbformat_minor": 5
}
