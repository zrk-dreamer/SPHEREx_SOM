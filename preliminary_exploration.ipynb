{
 "cells": [
  {
   "cell_type": "code",
   "execution_count": 1,
   "id": "dfbf6561-9f26-4ede-8622-886d632072fb",
   "metadata": {},
   "outputs": [],
   "source": [
    "from astropy.table import Table\n",
    "from astropy.io import fits\n",
    "import numpy as np\n",
    "import pandas as pd\n",
    "from matplotlib import pyplot as plt\n",
    "from minisom import MiniSom\n",
    "import pickle\n",
    "import os"
   ]
  },
  {
   "cell_type": "code",
   "execution_count": 2,
   "id": "a402a811-9584-4b5e-8a84-fd27ac28c41f",
   "metadata": {},
   "outputs": [],
   "source": [
    "df_L3_info = Table.read('../dataset/L3_COSMOS2020_Richard_RefCat_2023DEC4_info.fits')\n",
    "df_L3_info = df_L3_info.to_pandas()"
   ]
  },
  {
   "cell_type": "code",
   "execution_count": 3,
   "id": "d637cb7f-533a-4692-b6b8-754243cd2203",
   "metadata": {},
   "outputs": [],
   "source": [
    "L3_phot_data = np.loadtxt('../dataset/L3_COSMOS2020_Richard_RefCat_2023DEC4_averaged_phot102.txt')\n",
    "phot_data = L3_phot_data[:,3::2]\n",
    "phot_err_data = L3_phot_data[:,4::2]"
   ]
  },
  {
   "cell_type": "code",
   "execution_count": null,
   "id": "7b2ddc05-babe-48d4-88ef-d38666fd1fda",
   "metadata": {},
   "outputs": [],
   "source": [
    "plt.hist(df_L3_info[\"z_true\"], bins = 20)\n",
    "plt.show()"
   ]
  },
  {
   "cell_type": "code",
   "execution_count": null,
   "id": "a246eabb-3807-44b1-8697-fc86f95523ea",
   "metadata": {},
   "outputs": [],
   "source": [
    "plt.hist(df_L3_info[\"HSC_i_MAG\"], bins = 40)\n",
    "plt.show()"
   ]
  },
  {
   "cell_type": "code",
   "execution_count": 5,
   "id": "01e6a123-64dd-45bf-8182-dbd50a680e98",
   "metadata": {},
   "outputs": [],
   "source": [
    "def remove_low_SNR(data, data_err, info_data, mode, mag_cut):\n",
    "    i_band = info_data[\"HSC_i_MAG\"].values\n",
    "    if mode == \"mag_cut\" or mode == \"both\":\n",
    "        if type(mag_cut) == type(1):\n",
    "            max_cut = np.mean(i_band) - np.std(i_band, ddof = 1) * mag_out\n",
    "            data = data[i_band < max_cut]\n",
    "            data_err = data[i_band < max_cut]\n",
    "            info_data = info_data[np.logical_and((i_band < mag_cut[1]), (i_band > mag_cut[0]))]\n",
    "        else:\n",
    "            data = data[np.logical_and((i_band < mag_cut[1]), (i_band > mag_cut[0]))]\n",
    "            data_err = data_err[np.logical_and((i_band < mag_cut[1]), (i_band > mag_cut[0]))]\n",
    "            info_data = info_data[np.logical_and((i_band < mag_cut[1]), (i_band > mag_cut[0]))]\n",
    "    if mode == \"band_cut\" or mode == \"both\":\n",
    "        data = data[:, : len(data[0]) - 34]\n",
    "        data_err = data_err[:, : len(data_err[0]) - 34]\n",
    "        \n",
    "    return data, data_err, info_data"
   ]
  },
  {
   "cell_type": "code",
   "execution_count": 6,
   "id": "4808addf-6971-40e8-8efb-d2b3cb662869",
   "metadata": {},
   "outputs": [],
   "source": [
    "def preprocess(data, data_err, mode):\n",
    "    if mode == \"default\":\n",
    "        proc_data = (data - np.mean(data, axis=0)) / np.std(data, ddof = 1, axis=0)\n",
    "    elif mode == \"SNR\":\n",
    "        proc_data = data / data_err\n",
    "        proc_data = (proc_data - np.mean(proc_data, axis=0)) / np.std(proc_data, ddof = 1, axis=0)\n",
    "    return proc_data"
   ]
  },
  {
   "cell_type": "code",
   "execution_count": 176,
   "id": "aa85357d-0704-4bf8-aacc-c36ea333e815",
   "metadata": {},
   "outputs": [],
   "source": [
    "def basic_som(data, info_data, dim, cmap, preproc, iteration = 1, sigma = 1, learning_rate = 1, save = False):\n",
    "    som = MiniSom(dim, dim, data.shape[1], sigma = sigma, learning_rate = learning_rate)\n",
    "    som.random_weights_init(data)\n",
    "    som.train(data, iteration, use_epochs = True)\n",
    "\n",
    "    print(\"Finish traininging SOM.\")\n",
    "    print(\"Start making diagrams...\")\n",
    "\n",
    "    density_map = np.zeros(dim ** 2).reshape(dim, dim)\n",
    "    magnitude_map = np.zeros(dim ** 2).reshape(dim, dim)\n",
    "    magnitude_map.fill(np.nan)\n",
    "    z_map = np.zeros(dim ** 2).reshape(dim, dim)\n",
    "    z_map.fill(np.nan)\n",
    "    \n",
    "    labels_map_1 = som.labels_map(data, [0] * len(data))\n",
    "    labels_map_2 = som.labels_map(data, tuple(map(tuple, np.concatenate((np.expand_dims(info_data[\"HSC_i_MAG\"].values, axis = 1), np.expand_dims(info_data[\"z_true\"].values, axis = 1)), axis = -1))))\n",
    "\n",
    "    for i in labels_map_1.keys():\n",
    "        density_map[int(list(i)[0]), int(list(i)[1])] = labels_map_1[i][0]\n",
    "\n",
    "    print(\"Finish collecting data for density map.\")\n",
    "    \n",
    "    for i in labels_map_2.keys():\n",
    "        properties = np.mean(np.array(list(labels_map_2[i].keys())), axis = 0)\n",
    "        magnitude_map[int(list(i)[0]), int(list(i)[1])] = properties[0]\n",
    "        z_map[int(list(i)[0]), int(list(i)[1])] = properties[1]\n",
    "\n",
    "    print(\"Finish collecting data for magnitude map.\")\n",
    "\n",
    "    print(f\"Topological error: {som.topographic_error(data)}\")\n",
    "    print(f\"Quantization error: {som.quantization_error(data)}\")\n",
    "    print(np.sum(density_map))\n",
    "\n",
    "    %matplotlib inline\n",
    "    plt.close()\n",
    "    plt.figure(figsize = (25, 25))\n",
    "    plt.subplot(221)\n",
    "    plt.pcolor(som.distance_map().T, cmap='YlGn')  # plotting the distance map as background\n",
    "    plt.colorbar()\n",
    "    plt.title(\"Distance map (U-matrix)\")\n",
    "\n",
    "    plt.subplot(222)\n",
    "    plt.pcolor(density_map.T, cmap='YlGn')\n",
    "    plt.colorbar()\n",
    "    plt.title(\"Density Map\")\n",
    "\n",
    "    plt.subplot(223)\n",
    "    plt.pcolor(magnitude_map.T, cmap=\"plasma\" + \"_r\")\n",
    "    plt.colorbar()\n",
    "    plt.title(\"HSC I Magnitude Map\")\n",
    "\n",
    "    plt.subplot(224)\n",
    "    plt.pcolor(z_map.T, cmap=\"plasma\")\n",
    "    plt.colorbar()\n",
    "    plt.title(\"True Redshift Map\")\n",
    "    if save:\n",
    "        plt.savefig(f\"D:/SPHEREx_SOM/record/preliminary_exploration/diagram/{dim}_{sigma}_{rate}.jpg\", bbox_inches = \"tight\")\n",
    "    \n",
    "    plt.show()\n",
    "\n",
    "    if os.path.isfile(\"D:/SPHEREx_SOM/record/preliminary_exploration/record.pkl\"):\n",
    "        with open(\"D:/SPHEREx_SOM/record/preliminary_exploration/record.pkl\", \"rb\") as fh:\n",
    "            record = pickle.load(fh)\n",
    "    else:\n",
    "        record = []\n",
    "\n",
    "    map_record = {}\n",
    "    map_record[\"dim\"] = dim\n",
    "    map_record[\"sigma\"] = sigma\n",
    "    map_record[\"rate\"] = learning_rate\n",
    "    map_record[\"band_cut\"] = len(data[0])\n",
    "    map_record[\"mag_cut\"] = len(data)\n",
    "    map_record[\"preproc\"] = preproc\n",
    "    map_record[\"som\"] = som\n",
    "    map_record[\"topo_err\"] = som.topographic_error(data)\n",
    "    map_record[\"quan_err\"] = som.quantization_error(data)\n",
    "    map_record[\"density\"] = density_map\n",
    "    map_record[\"magnitude\"] = magnitude_map\n",
    "    map_record[\"z\"] = z_map\n",
    "\n",
    "    record.append(map_record)\n",
    "    \n",
    "    try:\n",
    "        with open(\"D:/SPHEREx_SOM/record/preliminary_exploration/record.pkl\", 'wb') as fh:\n",
    "            pickle.dump(record, fh, protocol=pickle.HIGHEST_PROTOCOL)\n",
    "    except KeyboardInterrupt:\n",
    "        print('KeyboardInterrupt caught, data saved.')\n",
    "    \n",
    "    return som"
   ]
  },
  {
   "cell_type": "code",
   "execution_count": 173,
   "id": "eb1eaf19-7801-4531-a044-19c5a19ae3ad",
   "metadata": {},
   "outputs": [
    {
     "data": {
      "text/plain": [
       "(13651, 68)"
      ]
     },
     "execution_count": 173,
     "metadata": {},
     "output_type": "execute_result"
    }
   ],
   "source": [
    "data, data_err, info_data = remove_low_SNR(data = phot_data, data_err = phot_err_data, info_data = df_L3_info, mode = \"both\", mag_cut = [0, 22])\n",
    "data.shape"
   ]
  },
  {
   "cell_type": "code",
   "execution_count": 174,
   "id": "95964ab7-cd8e-4f75-a06d-11723071683b",
   "metadata": {},
   "outputs": [],
   "source": [
    "proc_data = preprocess(data = data, data_err = data_err, mode = \"default\")"
   ]
  },
  {
   "cell_type": "code",
   "execution_count": null,
   "id": "e3e6505f-a5eb-443b-ab8b-86187602a313",
   "metadata": {},
   "outputs": [],
   "source": [
    "som = basic_som(data = proc_data, info_data = info_data, dim = 40, cmap = \"viridis\", sigma = 0.1, preproc = \"default\", learning_rate = 1)"
   ]
  },
  {
   "cell_type": "code",
   "execution_count": 178,
   "id": "4aed90bc-75f8-4060-ad21-938cf4ae8977",
   "metadata": {},
   "outputs": [
    {
     "ename": "KeyboardInterrupt",
     "evalue": "",
     "output_type": "error",
     "traceback": [
      "\u001b[1;31m---------------------------------------------------------------------------\u001b[0m",
      "\u001b[1;31mKeyboardInterrupt\u001b[0m                         Traceback (most recent call last)",
      "Cell \u001b[1;32mIn[178], line 2\u001b[0m\n\u001b[0;32m      1\u001b[0m \u001b[38;5;28;01mfor\u001b[39;00m i \u001b[38;5;129;01min\u001b[39;00m \u001b[38;5;28mrange\u001b[39m(\u001b[38;5;241m1\u001b[39m, \u001b[38;5;241m10\u001b[39m):\n\u001b[1;32m----> 2\u001b[0m     som \u001b[38;5;241m=\u001b[39m \u001b[43mbasic_som\u001b[49m\u001b[43m(\u001b[49m\u001b[43mdata\u001b[49m\u001b[43m \u001b[49m\u001b[38;5;241;43m=\u001b[39;49m\u001b[43m \u001b[49m\u001b[43mproc_data\u001b[49m\u001b[43m,\u001b[49m\u001b[43m \u001b[49m\u001b[43minfo_data\u001b[49m\u001b[43m \u001b[49m\u001b[38;5;241;43m=\u001b[39;49m\u001b[43m \u001b[49m\u001b[43minfo_data\u001b[49m\u001b[43m,\u001b[49m\u001b[43m \u001b[49m\u001b[43mdim\u001b[49m\u001b[43m \u001b[49m\u001b[38;5;241;43m=\u001b[39;49m\u001b[43m \u001b[49m\u001b[38;5;241;43m40\u001b[39;49m\u001b[43m,\u001b[49m\u001b[43m \u001b[49m\u001b[43mcmap\u001b[49m\u001b[43m \u001b[49m\u001b[38;5;241;43m=\u001b[39;49m\u001b[43m \u001b[49m\u001b[38;5;124;43m\"\u001b[39;49m\u001b[38;5;124;43mviridis\u001b[39;49m\u001b[38;5;124;43m\"\u001b[39;49m\u001b[43m,\u001b[49m\u001b[43m \u001b[49m\u001b[43msigma\u001b[49m\u001b[43m \u001b[49m\u001b[38;5;241;43m=\u001b[39;49m\u001b[43m \u001b[49m\u001b[43mi\u001b[49m\u001b[43m \u001b[49m\u001b[38;5;241;43m/\u001b[39;49m\u001b[43m \u001b[49m\u001b[38;5;241;43m10\u001b[39;49m\u001b[43m,\u001b[49m\u001b[43m \u001b[49m\u001b[43mpreproc\u001b[49m\u001b[43m \u001b[49m\u001b[38;5;241;43m=\u001b[39;49m\u001b[43m \u001b[49m\u001b[38;5;124;43m\"\u001b[39;49m\u001b[38;5;124;43mdefault\u001b[39;49m\u001b[38;5;124;43m\"\u001b[39;49m\u001b[43m,\u001b[49m\u001b[43m \u001b[49m\u001b[43mlearning_rate\u001b[49m\u001b[43m \u001b[49m\u001b[38;5;241;43m=\u001b[39;49m\u001b[43m \u001b[49m\u001b[38;5;241;43m1\u001b[39;49m\u001b[43m,\u001b[49m\u001b[43m \u001b[49m\u001b[43msave\u001b[49m\u001b[43m \u001b[49m\u001b[38;5;241;43m=\u001b[39;49m\u001b[43m \u001b[49m\u001b[38;5;28;43;01mTrue\u001b[39;49;00m\u001b[43m)\u001b[49m\n",
      "Cell \u001b[1;32mIn[176], line 4\u001b[0m, in \u001b[0;36mbasic_som\u001b[1;34m(data, info_data, dim, cmap, preproc, iteration, sigma, learning_rate, save)\u001b[0m\n\u001b[0;32m      2\u001b[0m som \u001b[38;5;241m=\u001b[39m MiniSom(dim, dim, data\u001b[38;5;241m.\u001b[39mshape[\u001b[38;5;241m1\u001b[39m], sigma \u001b[38;5;241m=\u001b[39m sigma, learning_rate \u001b[38;5;241m=\u001b[39m learning_rate)\n\u001b[0;32m      3\u001b[0m som\u001b[38;5;241m.\u001b[39mrandom_weights_init(data)\n\u001b[1;32m----> 4\u001b[0m \u001b[43msom\u001b[49m\u001b[38;5;241;43m.\u001b[39;49m\u001b[43mtrain\u001b[49m\u001b[43m(\u001b[49m\u001b[43mdata\u001b[49m\u001b[43m,\u001b[49m\u001b[43m \u001b[49m\u001b[43miteration\u001b[49m\u001b[43m,\u001b[49m\u001b[43m \u001b[49m\u001b[43muse_epochs\u001b[49m\u001b[43m \u001b[49m\u001b[38;5;241;43m=\u001b[39;49m\u001b[43m \u001b[49m\u001b[38;5;28;43;01mTrue\u001b[39;49;00m\u001b[43m)\u001b[49m\n\u001b[0;32m      6\u001b[0m \u001b[38;5;28mprint\u001b[39m(\u001b[38;5;124m\"\u001b[39m\u001b[38;5;124mFinish traininging SOM.\u001b[39m\u001b[38;5;124m\"\u001b[39m)\n\u001b[0;32m      7\u001b[0m \u001b[38;5;28mprint\u001b[39m(\u001b[38;5;124m\"\u001b[39m\u001b[38;5;124mStart making diagrams...\u001b[39m\u001b[38;5;124m\"\u001b[39m)\n",
      "File \u001b[1;32mD:\\miniconda\\envs\\SPHEREx_SOM\\Lib\\site-packages\\minisom.py:434\u001b[0m, in \u001b[0;36mMiniSom.train\u001b[1;34m(self, data, num_iteration, random_order, verbose, use_epochs)\u001b[0m\n\u001b[0;32m    432\u001b[0m \u001b[38;5;28;01mfor\u001b[39;00m t, iteration \u001b[38;5;129;01min\u001b[39;00m \u001b[38;5;28menumerate\u001b[39m(iterations):\n\u001b[0;32m    433\u001b[0m     decay_rate \u001b[38;5;241m=\u001b[39m get_decay_rate(t, \u001b[38;5;28mlen\u001b[39m(data))\n\u001b[1;32m--> 434\u001b[0m     \u001b[38;5;28mself\u001b[39m\u001b[38;5;241m.\u001b[39mupdate(data[iteration], \u001b[38;5;28;43mself\u001b[39;49m\u001b[38;5;241;43m.\u001b[39;49m\u001b[43mwinner\u001b[49m\u001b[43m(\u001b[49m\u001b[43mdata\u001b[49m\u001b[43m[\u001b[49m\u001b[43miteration\u001b[49m\u001b[43m]\u001b[49m\u001b[43m)\u001b[49m,\n\u001b[0;32m    435\u001b[0m                 decay_rate, num_iteration)\n\u001b[0;32m    436\u001b[0m \u001b[38;5;28;01mif\u001b[39;00m verbose:\n\u001b[0;32m    437\u001b[0m     \u001b[38;5;28mprint\u001b[39m(\u001b[38;5;124m'\u001b[39m\u001b[38;5;130;01m\\n\u001b[39;00m\u001b[38;5;124m quantization error:\u001b[39m\u001b[38;5;124m'\u001b[39m, \u001b[38;5;28mself\u001b[39m\u001b[38;5;241m.\u001b[39mquantization_error(data))\n",
      "File \u001b[1;32mD:\\miniconda\\envs\\SPHEREx_SOM\\Lib\\site-packages\\minisom.py:319\u001b[0m, in \u001b[0;36mMiniSom.winner\u001b[1;34m(self, x)\u001b[0m\n\u001b[0;32m    317\u001b[0m \u001b[38;5;28;01mdef\u001b[39;00m \u001b[38;5;21mwinner\u001b[39m(\u001b[38;5;28mself\u001b[39m, x):\n\u001b[0;32m    318\u001b[0m \u001b[38;5;250m    \u001b[39m\u001b[38;5;124;03m\"\"\"Computes the coordinates of the winning neuron for the sample x.\"\"\"\u001b[39;00m\n\u001b[1;32m--> 319\u001b[0m     \u001b[38;5;28;43mself\u001b[39;49m\u001b[38;5;241;43m.\u001b[39;49m\u001b[43m_activate\u001b[49m\u001b[43m(\u001b[49m\u001b[43mx\u001b[49m\u001b[43m)\u001b[49m\n\u001b[0;32m    320\u001b[0m     \u001b[38;5;28;01mreturn\u001b[39;00m unravel_index(\u001b[38;5;28mself\u001b[39m\u001b[38;5;241m.\u001b[39m_activation_map\u001b[38;5;241m.\u001b[39margmin(),\n\u001b[0;32m    321\u001b[0m                          \u001b[38;5;28mself\u001b[39m\u001b[38;5;241m.\u001b[39m_activation_map\u001b[38;5;241m.\u001b[39mshape)\n",
      "File \u001b[1;32mD:\\miniconda\\envs\\SPHEREx_SOM\\Lib\\site-packages\\minisom.py:253\u001b[0m, in \u001b[0;36mMiniSom._activate\u001b[1;34m(self, x)\u001b[0m\n\u001b[0;32m    250\u001b[0m \u001b[38;5;28;01mdef\u001b[39;00m \u001b[38;5;21m_activate\u001b[39m(\u001b[38;5;28mself\u001b[39m, x):\n\u001b[0;32m    251\u001b[0m \u001b[38;5;250m    \u001b[39m\u001b[38;5;124;03m\"\"\"Updates matrix activation_map, in this matrix\u001b[39;00m\n\u001b[0;32m    252\u001b[0m \u001b[38;5;124;03m       the element i,j is the response of the neuron i,j to x.\"\"\"\u001b[39;00m\n\u001b[1;32m--> 253\u001b[0m     \u001b[38;5;28mself\u001b[39m\u001b[38;5;241m.\u001b[39m_activation_map \u001b[38;5;241m=\u001b[39m \u001b[38;5;28;43mself\u001b[39;49m\u001b[38;5;241;43m.\u001b[39;49m\u001b[43m_activation_distance\u001b[49m\u001b[43m(\u001b[49m\u001b[43mx\u001b[49m\u001b[43m,\u001b[49m\u001b[43m \u001b[49m\u001b[38;5;28;43mself\u001b[39;49m\u001b[38;5;241;43m.\u001b[39;49m\u001b[43m_weights\u001b[49m\u001b[43m)\u001b[49m\n",
      "File \u001b[1;32mD:\\miniconda\\envs\\SPHEREx_SOM\\Lib\\site-packages\\minisom.py:297\u001b[0m, in \u001b[0;36mMiniSom._euclidean_distance\u001b[1;34m(self, x, w)\u001b[0m\n\u001b[0;32m    296\u001b[0m \u001b[38;5;28;01mdef\u001b[39;00m \u001b[38;5;21m_euclidean_distance\u001b[39m(\u001b[38;5;28mself\u001b[39m, x, w):\n\u001b[1;32m--> 297\u001b[0m     \u001b[38;5;28;01mreturn\u001b[39;00m \u001b[43mlinalg\u001b[49m\u001b[38;5;241;43m.\u001b[39;49m\u001b[43mnorm\u001b[49m\u001b[43m(\u001b[49m\u001b[43msubtract\u001b[49m\u001b[43m(\u001b[49m\u001b[43mx\u001b[49m\u001b[43m,\u001b[49m\u001b[43m \u001b[49m\u001b[43mw\u001b[49m\u001b[43m)\u001b[49m\u001b[43m,\u001b[49m\u001b[43m \u001b[49m\u001b[43maxis\u001b[49m\u001b[38;5;241;43m=\u001b[39;49m\u001b[38;5;241;43m-\u001b[39;49m\u001b[38;5;241;43m1\u001b[39;49m\u001b[43m)\u001b[49m\n",
      "File \u001b[1;32mD:\\miniconda\\envs\\SPHEREx_SOM\\Lib\\site-packages\\numpy\\linalg\\_linalg.py:2773\u001b[0m, in \u001b[0;36mnorm\u001b[1;34m(x, ord, axis, keepdims)\u001b[0m\n\u001b[0;32m   2770\u001b[0m \u001b[38;5;28;01melif\u001b[39;00m \u001b[38;5;28mord\u001b[39m \u001b[38;5;129;01mis\u001b[39;00m \u001b[38;5;28;01mNone\u001b[39;00m \u001b[38;5;129;01mor\u001b[39;00m \u001b[38;5;28mord\u001b[39m \u001b[38;5;241m==\u001b[39m \u001b[38;5;241m2\u001b[39m:\n\u001b[0;32m   2771\u001b[0m     \u001b[38;5;66;03m# special case for speedup\u001b[39;00m\n\u001b[0;32m   2772\u001b[0m     s \u001b[38;5;241m=\u001b[39m (x\u001b[38;5;241m.\u001b[39mconj() \u001b[38;5;241m*\u001b[39m x)\u001b[38;5;241m.\u001b[39mreal\n\u001b[1;32m-> 2773\u001b[0m     \u001b[38;5;28;01mreturn\u001b[39;00m sqrt(\u001b[43madd\u001b[49m\u001b[38;5;241;43m.\u001b[39;49m\u001b[43mreduce\u001b[49m\u001b[43m(\u001b[49m\u001b[43ms\u001b[49m\u001b[43m,\u001b[49m\u001b[43m \u001b[49m\u001b[43maxis\u001b[49m\u001b[38;5;241;43m=\u001b[39;49m\u001b[43maxis\u001b[49m\u001b[43m,\u001b[49m\u001b[43m \u001b[49m\u001b[43mkeepdims\u001b[49m\u001b[38;5;241;43m=\u001b[39;49m\u001b[43mkeepdims\u001b[49m\u001b[43m)\u001b[49m)\n\u001b[0;32m   2774\u001b[0m \u001b[38;5;66;03m# None of the str-type keywords for ord ('fro', 'nuc')\u001b[39;00m\n\u001b[0;32m   2775\u001b[0m \u001b[38;5;66;03m# are valid for vectors\u001b[39;00m\n\u001b[0;32m   2776\u001b[0m \u001b[38;5;28;01melif\u001b[39;00m \u001b[38;5;28misinstance\u001b[39m(\u001b[38;5;28mord\u001b[39m, \u001b[38;5;28mstr\u001b[39m):\n",
      "\u001b[1;31mKeyboardInterrupt\u001b[0m: "
     ]
    }
   ],
   "source": [
    "for i in range(1, 10):\n",
    "    som = basic_som(data = proc_data, info_data = info_data, dim = 40, cmap = \"viridis\", sigma = i / 10, preproc = \"default\", learning_rate = 1, save = True)"
   ]
  },
  {
   "cell_type": "code",
   "execution_count": 147,
   "id": "ef1a5b5f-ad11-48d2-80a9-492dd82ec3af",
   "metadata": {},
   "outputs": [],
   "source": [
    "x = []\n",
    "y1 = []\n",
    "y2 = []\n",
    "for i in record:\n",
    "    if i[\"dim\"] == 40 and i[\"sigma\"] == 0.4 and i[\"preproc\"] == \"default\":\n",
    "        x.append(i[\"rate\"])\n",
    "        y1.append(i[\"topo_err\"])\n",
    "        y2.append(i[\"quan_err\"])\n",
    "\n",
    "x = np.array(x)\n",
    "y1 = np.array(y1)\n",
    "y2 = np.array(y2)"
   ]
  },
  {
   "cell_type": "code",
   "execution_count": null,
   "id": "be804d23-35ad-4003-b97c-4b19970c8ebe",
   "metadata": {},
   "outputs": [],
   "source": [
    "record"
   ]
  },
  {
   "cell_type": "code",
   "execution_count": 162,
   "id": "51d4ed31-6497-4496-a024-49f9af8fd1dc",
   "metadata": {},
   "outputs": [
    {
     "data": {
      "image/png": "[encoded data removed]",
      "text/plain": [
       "<Figure size 1000x500 with 1 Axes>"
      ]
     },
     "metadata": {},
     "output_type": "display_data"
    }
   ],
   "source": [
    "plt.figure(figsize = (10, 5))\n",
    "plt.plot(x[x<35], y2[x<35], lw = 0, marker = \".\")\n",
    "plt.xlabel(\"Rate\")\n",
    "plt.ylabel(\"Quantization Error\")\n",
    "plt.show()"
   ]
  },
  {
   "cell_type": "code",
   "execution_count": 180,
   "id": "1e4180e7-107d-4426-ae4b-e205bdac15be",
   "metadata": {},
   "outputs": [
    {
     "data": {
      "image/png": "[encoded data removed]",
      "text/plain": [
       "<Figure size 1000x500 with 1 Axes>"
      ]
     },
     "metadata": {},
     "output_type": "display_data"
    }
   ],
   "source": [
    "plt.figure(figsize = (10, 5))\n",
    "plt.plot(x[x<35], y1[x<35], lw = 0, marker = \".\")\n",
    "plt.hlines(xmin = 0, xmax = 35, y = 1, color = \"k\")\n",
    "plt.xlabel(\"Rate\")\n",
    "plt.ylabel(\"Topological Error\")\n",
    "plt.show()"
   ]
  },
  {
   "cell_type": "code",
   "execution_count": null,
   "id": "9cc0b554-10d4-456d-8b4a-49f96671f889",
   "metadata": {},
   "outputs": [],
   "source": []
  }
 ],
 "metadata": {
  "kernelspec": {
   "display_name": "Python 3 (ipykernel)",
   "language": "python",
   "name": "python3"
  },
  "language_info": {
   "codemirror_mode": {
    "name": "ipython",
    "version": 3
   },
   "file_extension": ".py",
   "mimetype": "text/x-python",
   "name": "python",
   "nbconvert_exporter": "python",
   "pygments_lexer": "ipython3",
   "version": "3.12.4"
  }
 },
 "nbformat": 4,
 "nbformat_minor": 5
}
