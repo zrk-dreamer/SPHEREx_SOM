{
 "cells": [
  {
   "cell_type": "code",
   "execution_count": 192,
   "id": "dfbf6561-9f26-4ede-8622-886d632072fb",
   "metadata": {},
   "outputs": [],
   "source": [
    "from astropy.table import Table\n",
    "from astropy.io import fits\n",
    "import numpy as np\n",
    "import pandas as pd\n",
    "from matplotlib import pyplot as plt\n",
    "from minisom import MiniSom\n",
    "import pickle\n",
    "import os"
   ]
  },
  {
   "cell_type": "code",
   "execution_count": 193,
   "id": "a402a811-9584-4b5e-8a84-fd27ac28c41f",
   "metadata": {},
   "outputs": [],
   "source": [
    "df_L3_info = Table.read('../dataset/L3_COSMOS2020_Richard_RefCat_2023DEC4_info.fits')\n",
    "df_L3_info = df_L3_info.to_pandas()"
   ]
  },
  {
   "cell_type": "code",
   "execution_count": 194,
   "id": "d637cb7f-533a-4692-b6b8-754243cd2203",
   "metadata": {},
   "outputs": [],
   "source": [
    "L3_phot_data = np.loadtxt('../dataset/L3_COSMOS2020_Richard_RefCat_2023DEC4_averaged_phot102.txt')\n",
    "phot_data = L3_phot_data[:,3::2]\n",
    "phot_err_data = L3_phot_data[:,4::2]"
   ]
  },
  {
   "cell_type": "code",
   "execution_count": null,
   "id": "7b2ddc05-babe-48d4-88ef-d38666fd1fda",
   "metadata": {},
   "outputs": [],
   "source": [
    "plt.hist(df_L3_info[\"z_true\"], bins = 20)\n",
    "plt.show()"
   ]
  },
  {
   "cell_type": "code",
   "execution_count": 184,
   "id": "a246eabb-3807-44b1-8697-fc86f95523ea",
   "metadata": {},
   "outputs": [
    {
     "data": {
      "image/png": "[encoded data removed]",
      "text/plain": [
       "<Figure size 640x480 with 1 Axes>"
      ]
     },
     "metadata": {},
     "output_type": "display_data"
    }
   ],
   "source": [
    "plt.hist(df_L3_info[\"HSC_i_MAG\"], bins = 40)\n",
    "plt.show()"
   ]
  },
  {
   "cell_type": "code",
   "execution_count": 219,
   "id": "01e6a123-64dd-45bf-8182-dbd50a680e98",
   "metadata": {},
   "outputs": [],
   "source": [
    "def remove_low_SNR(data, data_err, info_data, mode, mag_cut):\n",
    "    i_band = info_data[\"HSC_i_MAG\"].values\n",
    "    if mode == \"mag_cut\" or mode == \"both\":\n",
    "        if type(mag_cut) == type(1):\n",
    "            max_cut = np.mean(i_band) - np.std(i_band, ddof = 1) * mag_out\n",
    "            data = data[i_band < max_cut]\n",
    "            data_err = data[i_band < max_cut]\n",
    "            info_data = info_data[np.logical_and((i_band < mag_cut[1]), (i_band > mag_cut[0]))]\n",
    "        else:\n",
    "            data = data[np.logical_and((i_band < mag_cut[1]), (i_band > mag_cut[0]))]\n",
    "            data_err = data_err[np.logical_and((i_band < mag_cut[1]), (i_band > mag_cut[0]))]\n",
    "            info_data = info_data[np.logical_and((i_band < mag_cut[1]), (i_band > mag_cut[0]))]\n",
    "    if mode == \"band_cut\" or mode == \"both\":\n",
    "        data = data[:, : len(data[0]) - 34]\n",
    "        data_err = data_err[:, : len(data_err[0]) - 34]\n",
    "        \n",
    "    return data, data_err, info_data"
   ]
  },
  {
   "cell_type": "code",
   "execution_count": 220,
   "id": "4808addf-6971-40e8-8efb-d2b3cb662869",
   "metadata": {},
   "outputs": [],
   "source": [
    "def preprocess(data, data_err, mode):\n",
    "    if mode == \"default\":\n",
    "        proc_data = (data - np.mean(data, axis=0)) / np.std(data, ddof = 1, axis=0)\n",
    "    elif mode == \"SNR\":\n",
    "        proc_data = data / data_err\n",
    "        proc_data = (proc_data - np.mean(proc_data, axis=0)) / np.std(proc_data, ddof = 1, axis=0)\n",
    "    return proc_data"
   ]
  },
  {
   "cell_type": "code",
   "execution_count": 221,
   "id": "aa85357d-0704-4bf8-aacc-c36ea333e815",
   "metadata": {},
   "outputs": [],
   "source": [
    "def basic_som(data, info_data, dim, cmap, preproc, iteration = 1, sigma = 1, learning_rate = 1):\n",
    "    som = MiniSom(dim, dim, data.shape[1], sigma = sigma, learning_rate = learning_rate)\n",
    "    som.random_weights_init(data)\n",
    "    som.train(data, iteration, use_epochs = True)\n",
    "\n",
    "    print(\"Finish traininging SOM.\")\n",
    "    print(\"Start making diagrams...\")\n",
    "\n",
    "    density_map = np.zeros(dim ** 2).reshape(dim, dim)\n",
    "    magnitude_map = np.zeros(dim ** 2).reshape(dim, dim)\n",
    "    magnitude_map.fill(np.nan)\n",
    "    z_map = np.zeros(dim ** 2).reshape(dim, dim)\n",
    "    z_map.fill(np.nan)\n",
    "    \n",
    "    labels_map_1 = som.labels_map(data, [0] * len(data))\n",
    "    labels_map_2 = som.labels_map(data, tuple(map(tuple, np.concatenate((np.expand_dims(info_data[\"HSC_i_MAG\"].values, axis = 1), np.expand_dims(info_data[\"z_true\"].values, axis = 1)), axis = -1))))\n",
    "\n",
    "    for i in labels_map_1.keys():\n",
    "        density_map[int(list(i)[0]), int(list(i)[1])] = labels_map_1[i][0]\n",
    "\n",
    "    print(\"Finish collecting data for density map.\")\n",
    "    \n",
    "    for i in labels_map_2.keys():\n",
    "        properties = np.mean(np.array(list(labels_map_2[i].keys())), axis = 0)\n",
    "        magnitude_map[int(list(i)[0]), int(list(i)[1])] = properties[0]\n",
    "        z_map[int(list(i)[0]), int(list(i)[1])] = properties[1]\n",
    "\n",
    "    print(\"Finish collecting data for magnitude map.\")\n",
    "\n",
    "    print(f\"Topological error: {som.topographic_error(data)}\")\n",
    "    print(f\"Quantization error: {som.quantization_error(data)}\")\n",
    "\n",
    "    %matplotlib inline\n",
    "    plt.close()\n",
    "    plt.figure(figsize = (25, 25))\n",
    "    plt.subplot(221)\n",
    "    plt.pcolor(som.distance_map().T, cmap='YlGn')  # plotting the distance map as background\n",
    "    plt.colorbar()\n",
    "    plt.title(\"Distance map (U-matrix)\")\n",
    "\n",
    "    plt.subplot(222)\n",
    "    plt.pcolor(density_map.T, cmap='YlGn')\n",
    "    plt.colorbar()\n",
    "    plt.title(\"Density Map\")\n",
    "\n",
    "    plt.subplot(223)\n",
    "    plt.pcolor(magnitude_map.T, cmap=\"plasma\" + \"_r\")\n",
    "    plt.colorbar()\n",
    "    plt.title(\"HSC I Magnitude Map\")\n",
    "\n",
    "    plt.subplot(224)\n",
    "    plt.pcolor(z_map.T, cmap=\"jet\")\n",
    "    plt.colorbar()\n",
    "    plt.title(\"True Redshift Map\")\n",
    "\n",
    "    plt.show()\n",
    "\n",
    "    if os.path.isfile(\"D:/SPHEREx_SOM/record/preliminary_exploration/record.pkl\"):\n",
    "        with open(\"D:/SPHEREx_SOM/record/preliminary_exploration/record.pkl\", \"rb\") as fh:\n",
    "            record = pickle.load(fh)\n",
    "    else:\n",
    "        record = []\n",
    "\n",
    "    map_record = {}\n",
    "    map_record[\"dim\"] = dim\n",
    "    map_record[\"sigma\"] = sigma\n",
    "    map_record[\"rate\"] = learning_rate\n",
    "    map_record[\"band_cut\"] = len(data[0])\n",
    "    map_record[\"mag_cut\"] = len(data)\n",
    "    map_record[\"preproc\"] = preproc\n",
    "    map_record[\"som\"] = som\n",
    "    map_record[\"topo_err\"] = som.topographic_error(data)\n",
    "    map_record[\"quan_err\"] = som.quantization_error(data)\n",
    "    map_record[\"demsity\"] = density_map\n",
    "    map_record[\"magnitude\"] = magnitude_map\n",
    "    map_record[\"z\"] = z_map\n",
    "\n",
    "    record.append(map_record)\n",
    "    \n",
    "    with open(\"D:/SPHEREx_SOM/record/preliminary_exploration/record.pkl\", \"wb\") as fh:\n",
    "        pickle.dump(record, fh)\n",
    "    \n",
    "    return som"
   ]
  },
  {
   "cell_type": "code",
   "execution_count": 222,
   "id": "eb1eaf19-7801-4531-a044-19c5a19ae3ad",
   "metadata": {},
   "outputs": [],
   "source": [
    "data, data_err, info_data = remove_low_SNR(data = phot_data, data_err = phot_err_data, info_data = df_L3_info, mode = \"both\", mag_cut = [0, 22])"
   ]
  },
  {
   "cell_type": "code",
   "execution_count": 223,
   "id": "95964ab7-cd8e-4f75-a06d-11723071683b",
   "metadata": {},
   "outputs": [],
   "source": [
    "proc_data = preprocess(data = data, data_err = data_err, mode = \"SNR\")"
   ]
  },
  {
   "cell_type": "code",
   "execution_count": 224,
   "id": "6c1998c9-21fe-407d-ba3a-4ff24a97eb03",
   "metadata": {},
   "outputs": [
    {
     "data": {
      "text/plain": [
       "(13651, 68)"
      ]
     },
     "execution_count": 224,
     "metadata": {},
     "output_type": "execute_result"
    }
   ],
   "source": [
    "proc_data.shape"
   ]
  },
  {
   "cell_type": "code",
   "execution_count": 217,
   "id": "4aed90bc-75f8-4060-ad21-938cf4ae8977",
   "metadata": {},
   "outputs": [
    {
     "name": "stdout",
     "output_type": "stream",
     "text": [
      "Finish traininging SOM.\n",
      "Start making diagrams...\n"
     ]
    },
    {
     "ename": "ValueError",
     "evalue": "data and labels must have the same length.",
     "output_type": "error",
     "traceback": [
      "\u001b[1;31m---------------------------------------------------------------------------\u001b[0m",
      "\u001b[1;31mValueError\u001b[0m                                Traceback (most recent call last)",
      "Cell \u001b[1;32mIn[217], line 2\u001b[0m\n\u001b[0;32m      1\u001b[0m \u001b[38;5;28;01mfor\u001b[39;00m i \u001b[38;5;129;01min\u001b[39;00m \u001b[38;5;28mrange\u001b[39m(\u001b[38;5;241m1\u001b[39m, \u001b[38;5;241m21\u001b[39m):\n\u001b[1;32m----> 2\u001b[0m     som \u001b[38;5;241m=\u001b[39m \u001b[43mbasic_som\u001b[49m\u001b[43m(\u001b[49m\u001b[43mdata\u001b[49m\u001b[43m \u001b[49m\u001b[38;5;241;43m=\u001b[39;49m\u001b[43m \u001b[49m\u001b[43mproc_data\u001b[49m\u001b[43m,\u001b[49m\u001b[43m \u001b[49m\u001b[43minfo_data\u001b[49m\u001b[43m \u001b[49m\u001b[38;5;241;43m=\u001b[39;49m\u001b[43m \u001b[49m\u001b[43minfo_data\u001b[49m\u001b[43m,\u001b[49m\u001b[43m \u001b[49m\u001b[43mdim\u001b[49m\u001b[43m \u001b[49m\u001b[38;5;241;43m=\u001b[39;49m\u001b[43m \u001b[49m\u001b[38;5;241;43m40\u001b[39;49m\u001b[43m,\u001b[49m\u001b[43m \u001b[49m\u001b[43mcmap\u001b[49m\u001b[43m \u001b[49m\u001b[38;5;241;43m=\u001b[39;49m\u001b[43m \u001b[49m\u001b[38;5;124;43m\"\u001b[39;49m\u001b[38;5;124;43mviridis\u001b[39;49m\u001b[38;5;124;43m\"\u001b[39;49m\u001b[43m,\u001b[49m\u001b[43m \u001b[49m\u001b[43msigma\u001b[49m\u001b[43m \u001b[49m\u001b[38;5;241;43m=\u001b[39;49m\u001b[43m \u001b[49m\u001b[38;5;241;43m0.4\u001b[39;49m\u001b[43m,\u001b[49m\u001b[43m \u001b[49m\u001b[43mpreproc\u001b[49m\u001b[43m \u001b[49m\u001b[38;5;241;43m=\u001b[39;49m\u001b[43m \u001b[49m\u001b[38;5;124;43m\"\u001b[39;49m\u001b[38;5;124;43mSNR\u001b[39;49m\u001b[38;5;124;43m\"\u001b[39;49m\u001b[43m,\u001b[49m\u001b[43m \u001b[49m\u001b[43mlearning_rate\u001b[49m\u001b[43m \u001b[49m\u001b[38;5;241;43m=\u001b[39;49m\u001b[43m \u001b[49m\u001b[43mi\u001b[49m\u001b[43m \u001b[49m\u001b[38;5;241;43m/\u001b[39;49m\u001b[43m \u001b[49m\u001b[38;5;241;43m10\u001b[39;49m\u001b[43m)\u001b[49m\n",
      "Cell \u001b[1;32mIn[216], line 16\u001b[0m, in \u001b[0;36mbasic_som\u001b[1;34m(data, info_data, dim, cmap, preproc, iteration, sigma, learning_rate)\u001b[0m\n\u001b[0;32m     13\u001b[0m z_map\u001b[38;5;241m.\u001b[39mfill(np\u001b[38;5;241m.\u001b[39mnan)\n\u001b[0;32m     15\u001b[0m labels_map_1 \u001b[38;5;241m=\u001b[39m som\u001b[38;5;241m.\u001b[39mlabels_map(data, [\u001b[38;5;241m0\u001b[39m] \u001b[38;5;241m*\u001b[39m \u001b[38;5;28mlen\u001b[39m(data))\n\u001b[1;32m---> 16\u001b[0m labels_map_2 \u001b[38;5;241m=\u001b[39m \u001b[43msom\u001b[49m\u001b[38;5;241;43m.\u001b[39;49m\u001b[43mlabels_map\u001b[49m\u001b[43m(\u001b[49m\u001b[43mdata\u001b[49m\u001b[43m,\u001b[49m\u001b[43m \u001b[49m\u001b[38;5;28;43mtuple\u001b[39;49m\u001b[43m(\u001b[49m\u001b[38;5;28;43mmap\u001b[39;49m\u001b[43m(\u001b[49m\u001b[38;5;28;43mtuple\u001b[39;49m\u001b[43m,\u001b[49m\u001b[43m \u001b[49m\u001b[43mnp\u001b[49m\u001b[38;5;241;43m.\u001b[39;49m\u001b[43mconcatenate\u001b[49m\u001b[43m(\u001b[49m\u001b[43m(\u001b[49m\u001b[43mnp\u001b[49m\u001b[38;5;241;43m.\u001b[39;49m\u001b[43mexpand_dims\u001b[49m\u001b[43m(\u001b[49m\u001b[43mdf_L3_info\u001b[49m\u001b[43m[\u001b[49m\u001b[38;5;124;43m\"\u001b[39;49m\u001b[38;5;124;43mHSC_i_MAG\u001b[39;49m\u001b[38;5;124;43m\"\u001b[39;49m\u001b[43m]\u001b[49m\u001b[38;5;241;43m.\u001b[39;49m\u001b[43mvalues\u001b[49m\u001b[43m,\u001b[49m\u001b[43m \u001b[49m\u001b[43maxis\u001b[49m\u001b[43m \u001b[49m\u001b[38;5;241;43m=\u001b[39;49m\u001b[43m \u001b[49m\u001b[38;5;241;43m1\u001b[39;49m\u001b[43m)\u001b[49m\u001b[43m,\u001b[49m\u001b[43m \u001b[49m\u001b[43mnp\u001b[49m\u001b[38;5;241;43m.\u001b[39;49m\u001b[43mexpand_dims\u001b[49m\u001b[43m(\u001b[49m\u001b[43mdf_L3_info\u001b[49m\u001b[43m[\u001b[49m\u001b[38;5;124;43m\"\u001b[39;49m\u001b[38;5;124;43mz_true\u001b[39;49m\u001b[38;5;124;43m\"\u001b[39;49m\u001b[43m]\u001b[49m\u001b[38;5;241;43m.\u001b[39;49m\u001b[43mvalues\u001b[49m\u001b[43m,\u001b[49m\u001b[43m \u001b[49m\u001b[43maxis\u001b[49m\u001b[43m \u001b[49m\u001b[38;5;241;43m=\u001b[39;49m\u001b[43m \u001b[49m\u001b[38;5;241;43m1\u001b[39;49m\u001b[43m)\u001b[49m\u001b[43m)\u001b[49m\u001b[43m,\u001b[49m\u001b[43m \u001b[49m\u001b[43maxis\u001b[49m\u001b[43m \u001b[49m\u001b[38;5;241;43m=\u001b[39;49m\u001b[43m \u001b[49m\u001b[38;5;241;43m-\u001b[39;49m\u001b[38;5;241;43m1\u001b[39;49m\u001b[43m)\u001b[49m\u001b[43m)\u001b[49m\u001b[43m)\u001b[49m\u001b[43m)\u001b[49m\n\u001b[0;32m     18\u001b[0m \u001b[38;5;28;01mfor\u001b[39;00m i \u001b[38;5;129;01min\u001b[39;00m labels_map_1\u001b[38;5;241m.\u001b[39mkeys():\n\u001b[0;32m     19\u001b[0m     density_map[\u001b[38;5;28mint\u001b[39m(\u001b[38;5;28mlist\u001b[39m(i)[\u001b[38;5;241m0\u001b[39m]), \u001b[38;5;28mint\u001b[39m(\u001b[38;5;28mlist\u001b[39m(i)[\u001b[38;5;241m1\u001b[39m])] \u001b[38;5;241m=\u001b[39m labels_map_1[i][\u001b[38;5;241m0\u001b[39m]\n",
      "File \u001b[1;32mD:\\miniconda\\envs\\SPHEREx_SOM\\Lib\\site-packages\\minisom.py:628\u001b[0m, in \u001b[0;36mMiniSom.labels_map\u001b[1;34m(self, data, labels)\u001b[0m\n\u001b[0;32m    626\u001b[0m \u001b[38;5;28mself\u001b[39m\u001b[38;5;241m.\u001b[39m_check_input_len(data)\n\u001b[0;32m    627\u001b[0m \u001b[38;5;28;01mif\u001b[39;00m \u001b[38;5;129;01mnot\u001b[39;00m \u001b[38;5;28mlen\u001b[39m(data) \u001b[38;5;241m==\u001b[39m \u001b[38;5;28mlen\u001b[39m(labels):\n\u001b[1;32m--> 628\u001b[0m     \u001b[38;5;28;01mraise\u001b[39;00m \u001b[38;5;167;01mValueError\u001b[39;00m(\u001b[38;5;124m'\u001b[39m\u001b[38;5;124mdata and labels must have the same length.\u001b[39m\u001b[38;5;124m'\u001b[39m)\n\u001b[0;32m    629\u001b[0m winmap \u001b[38;5;241m=\u001b[39m defaultdict(\u001b[38;5;28mlist\u001b[39m)\n\u001b[0;32m    630\u001b[0m \u001b[38;5;28;01mfor\u001b[39;00m x, l \u001b[38;5;129;01min\u001b[39;00m \u001b[38;5;28mzip\u001b[39m(data, labels):\n",
      "\u001b[1;31mValueError\u001b[0m: data and labels must have the same length."
     ]
    }
   ],
   "source": [
    "for i in range(1, 21):\n",
    "    som = basic_som(data = proc_data, info_data = info_data, dim = 40, cmap = \"viridis\", sigma = 0.4, preproc = \"SNR\", learning_rate = i / 10)"
   ]
  },
  {
   "cell_type": "code",
   "execution_count": null,
   "id": "b564aedc-1f50-4dea-9554-6407473206f9",
   "metadata": {},
   "outputs": [],
   "source": [
    "# som = MiniSom(100, 100, data.shape[1], sigma=  1, learning_rate = 1,\n",
    "#               neighborhood_function='gaussian', random_seed=10)\n",
    "\n",
    "# max_iter = 1000\n",
    "# q_error = []\n",
    "# t_error = []\n",
    "\n",
    "# for i in range(max_iter):\n",
    "#     rand_i = np.random.randint(len(data))\n",
    "#     som.update(data[rand_i], som.winner(data[rand_i]), i, max_iter)\n",
    "#     q_error.append(som.quantization_error(data))\n",
    "#     t_error.append(som.topographic_error(data))\n",
    "\n",
    "# plt.plot(np.arange(max_iter), q_error, label='quantization error')\n",
    "# plt.plot(np.arange(max_iter), t_error, label='topographic error')\n",
    "# plt.ylabel('error')\n",
    "# plt.xlabel('iteration index')\n",
    "# plt.legend()\n",
    "# plt.show()"
   ]
  },
  {
   "cell_type": "code",
   "execution_count": 122,
   "id": "b04c687b-6c6d-4b18-94ec-0f9b0650c5b0",
   "metadata": {},
   "outputs": [],
   "source": [
    "with open(\"D:/SPHEREx_SOM/record/preliminary_exploration/record.pkl\", \"rb\") as fh:\n",
    "    record = pickle.load(fh)"
   ]
  },
  {
   "cell_type": "code",
   "execution_count": null,
   "id": "4ba18ca0-15d0-46db-a0af-97da18c9040d",
   "metadata": {},
   "outputs": [],
   "source": [
    "record"
   ]
  },
  {
   "cell_type": "code",
   "execution_count": null,
   "id": "cfaea1cb-f747-4bbb-8fc0-c13c0ad11e82",
   "metadata": {},
   "outputs": [],
   "source": []
  }
 ],
 "metadata": {
  "kernelspec": {
   "display_name": "Python 3 (ipykernel)",
   "language": "python",
   "name": "python3"
  },
  "language_info": {
   "codemirror_mode": {
    "name": "ipython",
    "version": 3
   },
   "file_extension": ".py",
   "mimetype": "text/x-python",
   "name": "python",
   "nbconvert_exporter": "python",
   "pygments_lexer": "ipython3",
   "version": "3.12.4"
  }
 },
 "nbformat": 4,
 "nbformat_minor": 5
}
