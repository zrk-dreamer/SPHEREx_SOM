{
 "cells": [
  {
   "cell_type": "code",
   "execution_count": 1,
   "id": "dfbf6561-9f26-4ede-8622-886d632072fb",
   "metadata": {},
   "outputs": [],
   "source": [
    "from astropy.table import Table\n",
    "from astropy.io import fits\n",
    "import numpy as np\n",
    "import pandas as pd\n",
    "from matplotlib import pyplot as plt\n",
    "from minisom import MiniSom\n",
    "import pickle\n",
    "import os"
   ]
  },
  {
   "cell_type": "code",
   "execution_count": 2,
   "id": "a402a811-9584-4b5e-8a84-fd27ac28c41f",
   "metadata": {},
   "outputs": [],
   "source": [
    "df_L3_info = Table.read('../dataset/L3_COSMOS2020_Richard_RefCat_2023DEC4_info.fits')\n",
    "df_L3_info = df_L3_info.to_pandas()"
   ]
  },
  {
   "cell_type": "code",
   "execution_count": 3,
   "id": "d637cb7f-533a-4692-b6b8-754243cd2203",
   "metadata": {},
   "outputs": [],
   "source": [
    "L3_phot_data = np.loadtxt('../dataset/L3_COSMOS2020_Richard_RefCat_2023DEC4_averaged_phot102.txt')\n",
    "phot_data = L3_phot_data[:,3::2]\n",
    "phot_err_data = L3_phot_data[:,4::2]"
   ]
  },
  {
   "cell_type": "code",
   "execution_count": 4,
   "id": "e9a14e29-807f-42f8-b0cc-0ac0e79849c2",
   "metadata": {},
   "outputs": [],
   "source": [
    "fname = 'D:/SPHEREx_SOM/dataset/sphx_refcat/Noiseless_phot_cosmos_nolines_refcat30k.txt'\n",
    "data_noiseless = np.loadtxt(fname)[:,3:][9614]\n",
    "\n",
    "fname = 'D:/SPHEREx_SOM/dataset/sphx_refcat/NoisySphx_shallow_nolines_refcat30k.txt'\n",
    "data_shallow = np.loadtxt(fname)[:,3:][9614,0::2]\n",
    "\n",
    "fname = 'D:/SPHEREx_SOM/dataset/sphx_refcat/NoisySphx_deep_nolines_refcat30k.txt'\n",
    "data_deep = np.loadtxt(fname)[:,3:][9614,0::2]"
   ]
  },
  {
   "cell_type": "code",
   "execution_count": 5,
   "id": "705f2409-c078-4a08-98bf-c3afa5fdaf8b",
   "metadata": {},
   "outputs": [],
   "source": [
    "phot_data_flux = np.power(10, (phot_data - 8.9) / (-2.5))\n",
    "phot_err_data_flux = np.power(10, (phot_err_data - 8.9) / (-2.5))"
   ]
  },
  {
   "cell_type": "code",
   "execution_count": 6,
   "id": "01e6a123-64dd-45bf-8182-dbd50a680e98",
   "metadata": {},
   "outputs": [],
   "source": [
    "def remove_low_SNR(data, data_err, info_data, mode, mag_cut):\n",
    "    i_band = info_data[\"HSC_i_MAG\"].values\n",
    "    if mode == \"mag_cut\" or mode == \"both\":\n",
    "        if type(mag_cut) == type(1):\n",
    "            max_cut = np.mean(i_band) - np.std(i_band, ddof = 1) * mag_out\n",
    "            data = data[i_band < max_cut]\n",
    "            data_err = data[i_band < max_cut]\n",
    "            info_data = info_data[np.logical_and((i_band < mag_cut[1]), (i_band > mag_cut[0]))]\n",
    "        else:\n",
    "            data = data[np.logical_and((i_band < mag_cut[1]), (i_band > mag_cut[0]))]\n",
    "            data_err = data_err[np.logical_and((i_band < mag_cut[1]), (i_band > mag_cut[0]))]\n",
    "            info_data = info_data[np.logical_and((i_band < mag_cut[1]), (i_band > mag_cut[0]))]\n",
    "    if mode == \"band_cut\" or mode == \"both\":\n",
    "        data = data[:, : len(data[0]) - 34]\n",
    "        data_err = data_err[:, : len(data_err[0]) - 34]\n",
    "        \n",
    "    return data, data_err, info_data"
   ]
  },
  {
   "cell_type": "code",
   "execution_count": 7,
   "id": "4808addf-6971-40e8-8efb-d2b3cb662869",
   "metadata": {},
   "outputs": [],
   "source": [
    "def preprocess(data, data_err, mode):\n",
    "    if mode == \"default\":\n",
    "        proc_data = (data - np.mean(data, axis=0)) / np.std(data, ddof = 1, axis=0)\n",
    "    elif mode == \"per_source\":\n",
    "        proc_data = (data - np.mean(data, axis=1, keepdims = True)) / np.std(data, ddof = 1, axis=1, keepdims = True)\n",
    "    elif mode == \"SNR\":\n",
    "        proc_data = data / data_err\n",
    "        proc_data = (proc_data - np.mean(proc_data, axis=0)) / np.std(proc_data, ddof = 1, axis=0)\n",
    "    return proc_data"
   ]
  },
  {
   "cell_type": "code",
   "execution_count": 21,
   "id": "aa85357d-0704-4bf8-aacc-c36ea333e815",
   "metadata": {},
   "outputs": [],
   "source": [
    "def basic_som(data, err, info_data, dim, cmap, preproc, iteration = 1, sigma = 1, learning_rate = 1, save = False):\n",
    "    som = MiniSom(dim, dim, data.shape[1], sigma = sigma, learning_rate = learning_rate)\n",
    "    som.random_weights_init(data)\n",
    "    som.train(data, err, iteration, use_epochs = True)\n",
    "\n",
    "    print(\"Finish traininging SOM.\")\n",
    "    print(\"Start making diagrams...\")\n",
    "\n",
    "    density_map = np.zeros(dim ** 2).reshape(dim, dim)\n",
    "    magnitude_map = np.zeros(dim ** 2).reshape(dim, dim)\n",
    "    magnitude_map.fill(np.nan)\n",
    "    z_map = np.zeros(dim ** 2).reshape(dim, dim)\n",
    "    z_map.fill(np.nan)\n",
    "    \n",
    "    labels_map_1 = som.labels_map(data, err, [0] * len(data))\n",
    "    labels_map_2 = som.labels_map(data, err, tuple(map(tuple, np.concatenate((np.expand_dims(info_data[\"HSC_i_MAG\"].values, axis = 1), np.expand_dims(info_data[\"z_true\"].values, axis = 1)), axis = -1))))\n",
    "\n",
    "    for i in labels_map_1.keys():\n",
    "        density_map[int(list(i)[0]), int(list(i)[1])] = labels_map_1[i][0]\n",
    "\n",
    "    print(\"Finish collecting data for density map.\")\n",
    "    \n",
    "    for i in labels_map_2.keys():\n",
    "        properties = np.mean(np.array(list(labels_map_2[i].keys())), axis = 0)\n",
    "        magnitude_map[int(list(i)[0]), int(list(i)[1])] = properties[0]\n",
    "        z_map[int(list(i)[0]), int(list(i)[1])] = properties[1]\n",
    "\n",
    "    print(\"Finish collecting data for magnitude map.\")\n",
    "\n",
    "    print(f\"Topological error: {som.topographic_error(data)}\")\n",
    "    print(f\"Quantization error: {som.quantization_error(data)}\")\n",
    "    print(np.sum(density_map))\n",
    "\n",
    "    %matplotlib inline\n",
    "    plt.close()\n",
    "    plt.figure(figsize = (25, 25))\n",
    "    plt.subplot(221)\n",
    "    plt.pcolor(som.distance_map().T, cmap='YlGn')  # plotting the distance map as background\n",
    "    plt.colorbar()\n",
    "    plt.title(\"Distance map (U-matrix)\")\n",
    "\n",
    "    plt.subplot(222)\n",
    "    plt.pcolor(density_map.T, cmap='YlGn')\n",
    "    plt.colorbar()\n",
    "    plt.title(\"Density Map\")\n",
    "\n",
    "    plt.subplot(223)\n",
    "    plt.pcolor(magnitude_map.T, cmap=\"plasma\" + \"_r\")\n",
    "    plt.colorbar()\n",
    "    plt.title(\"HSC I Magnitude Map\")\n",
    "\n",
    "    plt.subplot(224)\n",
    "    plt.pcolor(z_map.T, cmap=\"plasma\")\n",
    "    plt.colorbar()\n",
    "    plt.title(\"True Redshift Map\")\n",
    "    if save:\n",
    "        plt.savefig(f\"D:/SPHEREx_SOM/record/preliminary_exploration/diagram/{preproc}_{dim}_{sigma}_{learning_rate}.jpg\", bbox_inches = \"tight\")\n",
    "    \n",
    "    plt.show()\n",
    "\n",
    "    if os.path.isfile(\"D:/SPHEREx_SOM/record/preliminary_exploration/record.pkl\"):\n",
    "        with open(\"D:/SPHEREx_SOM/record/preliminary_exploration/record.pkl\", \"rb\") as fh:\n",
    "            record = pickle.load(fh)\n",
    "    else:\n",
    "        record = []\n",
    "\n",
    "    map_record = {}\n",
    "    map_record[\"dim\"] = dim\n",
    "    map_record[\"sigma\"] = sigma\n",
    "    map_record[\"rate\"] = learning_rate\n",
    "    map_record[\"band_cut\"] = len(data[0])\n",
    "    map_record[\"mag_cut\"] = len(data)\n",
    "    map_record[\"preproc\"] = preproc\n",
    "    map_record[\"som\"] = som\n",
    "    map_record[\"topo_err\"] = som.topographic_error(data)\n",
    "    map_record[\"quan_err\"] = som.quantization_error(data)\n",
    "    map_record[\"density\"] = density_map\n",
    "    map_record[\"magnitude\"] = magnitude_map\n",
    "    map_record[\"z\"] = z_map\n",
    "    map_record[\"iter\"] = iteration\n",
    "\n",
    "    record.append(map_record)\n",
    "    \n",
    "    try:\n",
    "        with open(\"D:/SPHEREx_SOM/record/preliminary_exploration/record.pkl\", 'wb') as fh:\n",
    "            pickle.dump(record, fh, protocol=pickle.HIGHEST_PROTOCOL)\n",
    "    except KeyboardInterrupt:\n",
    "        print('KeyboardInterrupt caught, data saved.')\n",
    "    \n",
    "    return som"
   ]
  },
  {
   "cell_type": "code",
   "execution_count": 22,
   "id": "eb1eaf19-7801-4531-a044-19c5a19ae3ad",
   "metadata": {},
   "outputs": [
    {
     "data": {
      "text/plain": [
       "(13651, 68)"
      ]
     },
     "execution_count": 22,
     "metadata": {},
     "output_type": "execute_result"
    }
   ],
   "source": [
    "data, data_err, info_data = remove_low_SNR(data = phot_data, data_err = phot_err_data, info_data = df_L3_info, mode = \"both\", mag_cut = [0, 22])\n",
    "data.shape"
   ]
  },
  {
   "cell_type": "code",
   "execution_count": 23,
   "id": "95964ab7-cd8e-4f75-a06d-11723071683b",
   "metadata": {},
   "outputs": [],
   "source": [
    "proc_data = preprocess(data = data, data_err = data_err, mode = \"default\")"
   ]
  },
  {
   "cell_type": "code",
   "execution_count": null,
   "id": "e3e6505f-a5eb-443b-ab8b-86187602a313",
   "metadata": {},
   "outputs": [],
   "source": [
    "som = basic_som(data = data, err = data_err, info_data = info_data, dim = 50, cmap = \"viridis\", sigma = 0.8, preproc = \"default\", learning_rate = 0.6, save = False, iteration = 3)"
   ]
  },
  {
   "cell_type": "code",
   "execution_count": null,
   "id": "4aed90bc-75f8-4060-ad21-938cf4ae8977",
   "metadata": {},
   "outputs": [],
   "source": [
    "for i in range(1, 11):\n",
    "    som = basic_som(data = proc_data, info_data = info_data, dim = 40, cmap = \"viridis\", sigma = i, preproc = \"default\", learning_rate = 22, save = True)"
   ]
  },
  {
   "cell_type": "code",
   "execution_count": 201,
   "id": "ef1a5b5f-ad11-48d2-80a9-492dd82ec3af",
   "metadata": {},
   "outputs": [],
   "source": [
    "x = []\n",
    "y1 = []\n",
    "y2 = []\n",
    "for i in record:\n",
    "    if i[\"dim\"] == 40 and i[\"rate\"] == 1 and i[\"preproc\"] == \"default\" and i[\"mag_cut\"] == 13651 and i[\"band_cut\"] == 68:\n",
    "        x.append(i[\"sigma\"])\n",
    "        y1.append(i[\"topo_err\"])\n",
    "        y2.append(i[\"quan_err\"])\n",
    "\n",
    "x = np.array(x)\n",
    "y1 = np.array(y1)\n",
    "y2 = np.array(y2)"
   ]
  },
  {
   "cell_type": "code",
   "execution_count": 202,
   "id": "bebe4d9d-e94b-40d9-94be-f0f349661def",
   "metadata": {},
   "outputs": [
    {
     "data": {
      "text/plain": [
       "array([ 0.4,  0.4,  0.1,  0.1,  0.2,  0.3,  0.4,  0.5,  0.6,  0.7,  0.8,\n",
       "        0.9,  1. ,  2. ,  3. ,  4. ,  5. ,  6. ,  7. ,  8. ,  9. , 10. ,\n",
       "       11. , 12. , 13. , 14. , 15. , 16. , 17. , 18. , 19. , 20. , 21. ,\n",
       "       22. , 23. , 24. , 25. , 26. , 27. , 28. , 29. , 30. ])"
      ]
     },
     "execution_count": 202,
     "metadata": {},
     "output_type": "execute_result"
    }
   ],
   "source": [
    "x"
   ]
  },
  {
   "cell_type": "code",
   "execution_count": 63,
   "id": "be804d23-35ad-4003-b97c-4b19970c8ebe",
   "metadata": {},
   "outputs": [],
   "source": [
    "with open(\"D:/SPHEREx_SOM/record/preliminary_exploration/record.pkl\", \"rb\") as fh:\n",
    "    record = pickle.load(fh)"
   ]
  },
  {
   "cell_type": "code",
   "execution_count": 208,
   "id": "51d4ed31-6497-4496-a024-49f9af8fd1dc",
   "metadata": {},
   "outputs": [
    {
     "data": {
      "image/png": "[encoded data removed]",
      "text/plain": [
       "<Figure size 1000x500 with 1 Axes>"
      ]
     },
     "metadata": {},
     "output_type": "display_data"
    }
   ],
   "source": [
    "plt.figure(figsize = (10, 5))\n",
    "plt.plot(x, y2, lw = 0, marker = \".\")\n",
    "plt.xlabel(\"Sigma\")\n",
    "plt.ylabel(\"Quantization Error\")\n",
    "plt.show()"
   ]
  },
  {
   "cell_type": "raw",
   "id": "21dce4b3-c7b2-4df0-8a2c-cc951b0030c3",
   "metadata": {},
   "source": []
  },
  {
   "cell_type": "code",
   "execution_count": 209,
   "id": "1e4180e7-107d-4426-ae4b-e205bdac15be",
   "metadata": {},
   "outputs": [
    {
     "data": {
      "image/png": "[encoded data removed]",
      "text/plain": [
       "<Figure size 1000x500 with 1 Axes>"
      ]
     },
     "metadata": {},
     "output_type": "display_data"
    }
   ],
   "source": [
    "plt.figure(figsize = (10, 5))\n",
    "plt.plot(x, y1, lw = 0, marker = \".\")\n",
    "plt.hlines(xmin = 0, xmax = 35, y = 1, color = \"k\")\n",
    "plt.xlabel(\"Sigma\")\n",
    "plt.ylabel(\"Topological Error\")\n",
    "plt.show()"
   ]
  },
  {
   "cell_type": "code",
   "execution_count": null,
   "id": "c802582d-a773-438c-baef-967963986c33",
   "metadata": {},
   "outputs": [],
   "source": []
  }
 ],
 "metadata": {
  "kernelspec": {
   "display_name": "Python 3 (ipykernel)",
   "language": "python",
   "name": "python3"
  },
  "language_info": {
   "codemirror_mode": {
    "name": "ipython",
    "version": 3
   },
   "file_extension": ".py",
   "mimetype": "text/x-python",
   "name": "python",
   "nbconvert_exporter": "python",
   "pygments_lexer": "ipython3",
   "version": "3.12.4"
  }
 },
 "nbformat": 4,
 "nbformat_minor": 5
}
