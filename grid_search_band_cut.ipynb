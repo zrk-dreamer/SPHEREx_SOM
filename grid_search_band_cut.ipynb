{
 "cells": [
  {
   "cell_type": "code",
   "execution_count": 15,
   "id": "0492ea59-44ac-45d4-9522-c1ac506d1b6f",
   "metadata": {},
   "outputs": [],
   "source": [
    "from astropy.table import Table\n",
    "import numpy as np\n",
    "import pandas as pd\n",
    "from matplotlib import pyplot as plt\n",
    "from minisom import MiniSom\n",
    "import pickle\n",
    "import os"
   ]
  },
  {
   "cell_type": "code",
   "execution_count": 11,
   "id": "15986553-e0e2-4377-a425-cd5476d8ec70",
   "metadata": {},
   "outputs": [],
   "source": [
    "b = []\n",
    "for i in range(1, 5):\n",
    "    dim = (2 * i + 1) * 10\n",
    "    for j in range(1, 11):\n",
    "        sigma = j\n",
    "        for k in range(1, 11):\n",
    "            rate = k / 10\n",
    "\n",
    "            a = {}\n",
    "            a[\"dim\"] = dim\n",
    "            a[\"sigma\"] = sigma\n",
    "            a[\"rate\"] = rate\n",
    "            b.append(a)"
   ]
  },
  {
   "cell_type": "code",
   "execution_count": 16,
   "id": "6b50905b-4729-478e-967f-ab82a137797e",
   "metadata": {},
   "outputs": [],
   "source": [
    "df_L3_info = Table.read('../dataset/L3_COSMOS2020_Richard_RefCat_2023DEC4_info.fits')\n",
    "df_L3_info = df_L3_info.to_pandas()"
   ]
  },
  {
   "cell_type": "code",
   "execution_count": 17,
   "id": "2f2ed368-1d06-4710-b46e-67974de211eb",
   "metadata": {},
   "outputs": [],
   "source": [
    "L3_phot_data = np.loadtxt('../dataset/L3_COSMOS2020_Richard_RefCat_2023DEC4_averaged_phot102.txt')\n",
    "phot_data = L3_phot_data[:,3::2]\n",
    "phot_err_data = L3_phot_data[:,4::2]"
   ]
  },
  {
   "cell_type": "code",
   "execution_count": 18,
   "id": "a01981aa-3b93-4bc6-b4f4-2847c66896ab",
   "metadata": {},
   "outputs": [],
   "source": [
    "def remove_low_SNR(data, data_err, info_data, mode, mag_cut):\n",
    "    i_band = info_data[\"HSC_i_MAG\"].values\n",
    "    if mode == \"mag_cut\" or mode == \"both\":\n",
    "        if type(mag_cut) == type(1):\n",
    "            max_cut = np.mean(i_band) - np.std(i_band, ddof = 1) * mag_out\n",
    "            data = data[i_band < max_cut]\n",
    "            data_err = data[i_band < max_cut]\n",
    "            info_data = info_data[np.logical_and((i_band < mag_cut[1]), (i_band > mag_cut[0]))]\n",
    "        else:\n",
    "            data = data[np.logical_and((i_band < mag_cut[1]), (i_band > mag_cut[0]))]\n",
    "            data_err = data_err[np.logical_and((i_band < mag_cut[1]), (i_band > mag_cut[0]))]\n",
    "            info_data = info_data[np.logical_and((i_band < mag_cut[1]), (i_band > mag_cut[0]))]\n",
    "    if mode == \"band_cut\" or mode == \"both\":\n",
    "        data = data[:, : len(data[0]) - 34]\n",
    "        data_err = data_err[:, : len(data_err[0]) - 34]\n",
    "        \n",
    "    return data, data_err, info_data"
   ]
  },
  {
   "cell_type": "code",
   "execution_count": 19,
   "id": "7724d838-7c13-46e5-8ef6-91949d00caf5",
   "metadata": {},
   "outputs": [],
   "source": [
    "def grid_search(data, file):\n",
    "    n = 0\n",
    "    with open(file, \"rb\") as fh:\n",
    "        record = pickle.load(fh)\n",
    "    if \"som\" not in record[-1]:\n",
    "        for i in record:\n",
    "            n += 1\n",
    "            if \"som\" not in i:\n",
    "                som = MiniSom(i[\"dim\"], i[\"dim\"], data.shape[1], sigma = i[\"sigma\"], learning_rate = i[\"rate\"])\n",
    "                som.random_weights_init(data)\n",
    "                som.train(data = data, num_iteration = 1, use_epochs = True) \n",
    "                i[\"topo_err\"] = som.topographic_error(data)\n",
    "                i[\"quan_err\"] = som.quantization_error(data)\n",
    "                i[\"som\"] = som\n",
    "                i[\"band_cut\"] = len(data[0])\n",
    "                i[\"mag_cut\"] = len(data)\n",
    "                i[\"preproc\"] = \"default\"\n",
    "                i[\"topo_err\"] = som.topographic_error(data)\n",
    "                i[\"quan_err\"] = som.quantization_error(data)\n",
    "                print(f\"File: {file}, progress: {round(n / len(record) * 100, 2)}%, param: {[i[\"dim\"], i[\"sigma\"], i[\"rate\"]]}\", end = \"\\r\")\n",
    "                try:\n",
    "                    with open(file, 'wb') as handle:\n",
    "                        pickle.dump(record, handle, protocol=pickle.HIGHEST_PROTOCOL)\n",
    "                except KeyboardInterrupt:\n",
    "                    print('KeyboardInterrupt caught, data saved.')\n",
    "    else:\n",
    "        pass"
   ]
  },
  {
   "cell_type": "code",
   "execution_count": 20,
   "id": "ecc04978-8a9f-42ae-8561-976d66e6e9c7",
   "metadata": {},
   "outputs": [
    {
     "data": {
      "text/plain": [
       "(29685, 68)"
      ]
     },
     "execution_count": 20,
     "metadata": {},
     "output_type": "execute_result"
    }
   ],
   "source": [
    "data, data_err, info_data = remove_low_SNR(data = phot_data, data_err = phot_err_data, info_data = df_L3_info, mode = \"band_cut\", mag_cut = [0, 22])\n",
    "data = (data - np.mean(data, axis=0)) / np.std(data, axis=0)\n",
    "data.shape"
   ]
  },
  {
   "cell_type": "code",
   "execution_count": 21,
   "id": "f6a0d781-52ff-4381-b4a5-fd248a9e3286",
   "metadata": {},
   "outputs": [
    {
     "name": "stdout",
     "output_type": "stream",
     "text": [
      "File: D:/SPHEREx_SOM/record/grid_search/band_cut/low_sigma_high_rate.pkl, progress: 98.5%, param: [90, 1.0, 4]]\r"
     ]
    },
    {
     "ename": "KeyboardInterrupt",
     "evalue": "",
     "output_type": "error",
     "traceback": [
      "\u001b[1;31m---------------------------------------------------------------------------\u001b[0m",
      "\u001b[1;31mKeyboardInterrupt\u001b[0m                         Traceback (most recent call last)",
      "Cell \u001b[1;32mIn[21], line 5\u001b[0m\n\u001b[0;32m      3\u001b[0m     \u001b[38;5;28;01mcontinue\u001b[39;00m\n\u001b[0;32m      4\u001b[0m file \u001b[38;5;241m=\u001b[39m \u001b[38;5;124m\"\u001b[39m\u001b[38;5;124mD:/SPHEREx_SOM/record/grid_search/band_cut/\u001b[39m\u001b[38;5;124m\"\u001b[39m \u001b[38;5;241m+\u001b[39m j\n\u001b[1;32m----> 5\u001b[0m \u001b[43mgrid_search\u001b[49m\u001b[43m(\u001b[49m\u001b[43mdata\u001b[49m\u001b[43m \u001b[49m\u001b[38;5;241;43m=\u001b[39;49m\u001b[43m \u001b[49m\u001b[43mdata\u001b[49m\u001b[43m,\u001b[49m\u001b[43m \u001b[49m\u001b[43mfile\u001b[49m\u001b[43m \u001b[49m\u001b[38;5;241;43m=\u001b[39;49m\u001b[43m \u001b[49m\u001b[43mfile\u001b[49m\u001b[43m)\u001b[49m\n",
      "Cell \u001b[1;32mIn[19], line 11\u001b[0m, in \u001b[0;36mgrid_search\u001b[1;34m(data, file)\u001b[0m\n\u001b[0;32m      9\u001b[0m som \u001b[38;5;241m=\u001b[39m MiniSom(i[\u001b[38;5;124m\"\u001b[39m\u001b[38;5;124mdim\u001b[39m\u001b[38;5;124m\"\u001b[39m], i[\u001b[38;5;124m\"\u001b[39m\u001b[38;5;124mdim\u001b[39m\u001b[38;5;124m\"\u001b[39m], data\u001b[38;5;241m.\u001b[39mshape[\u001b[38;5;241m1\u001b[39m], sigma \u001b[38;5;241m=\u001b[39m i[\u001b[38;5;124m\"\u001b[39m\u001b[38;5;124msigma\u001b[39m\u001b[38;5;124m\"\u001b[39m], learning_rate \u001b[38;5;241m=\u001b[39m i[\u001b[38;5;124m\"\u001b[39m\u001b[38;5;124mrate\u001b[39m\u001b[38;5;124m\"\u001b[39m])\n\u001b[0;32m     10\u001b[0m som\u001b[38;5;241m.\u001b[39mrandom_weights_init(data)\n\u001b[1;32m---> 11\u001b[0m \u001b[43msom\u001b[49m\u001b[38;5;241;43m.\u001b[39;49m\u001b[43mtrain\u001b[49m\u001b[43m(\u001b[49m\u001b[43mdata\u001b[49m\u001b[43m \u001b[49m\u001b[38;5;241;43m=\u001b[39;49m\u001b[43m \u001b[49m\u001b[43mdata\u001b[49m\u001b[43m,\u001b[49m\u001b[43m \u001b[49m\u001b[43mnum_iteration\u001b[49m\u001b[43m \u001b[49m\u001b[38;5;241;43m=\u001b[39;49m\u001b[43m \u001b[49m\u001b[38;5;241;43m1\u001b[39;49m\u001b[43m,\u001b[49m\u001b[43m \u001b[49m\u001b[43muse_epochs\u001b[49m\u001b[43m \u001b[49m\u001b[38;5;241;43m=\u001b[39;49m\u001b[43m \u001b[49m\u001b[38;5;28;43;01mTrue\u001b[39;49;00m\u001b[43m)\u001b[49m \n\u001b[0;32m     12\u001b[0m i[\u001b[38;5;124m\"\u001b[39m\u001b[38;5;124mtopo_err\u001b[39m\u001b[38;5;124m\"\u001b[39m] \u001b[38;5;241m=\u001b[39m som\u001b[38;5;241m.\u001b[39mtopographic_error(data)\n\u001b[0;32m     13\u001b[0m i[\u001b[38;5;124m\"\u001b[39m\u001b[38;5;124mquan_err\u001b[39m\u001b[38;5;124m\"\u001b[39m] \u001b[38;5;241m=\u001b[39m som\u001b[38;5;241m.\u001b[39mquantization_error(data)\n",
      "File \u001b[1;32mD:\\miniconda\\envs\\SPHEREx_SOM\\Lib\\site-packages\\minisom.py:434\u001b[0m, in \u001b[0;36mMiniSom.train\u001b[1;34m(self, data, num_iteration, random_order, verbose, use_epochs)\u001b[0m\n\u001b[0;32m    432\u001b[0m \u001b[38;5;28;01mfor\u001b[39;00m t, iteration \u001b[38;5;129;01min\u001b[39;00m \u001b[38;5;28menumerate\u001b[39m(iterations):\n\u001b[0;32m    433\u001b[0m     decay_rate \u001b[38;5;241m=\u001b[39m get_decay_rate(t, \u001b[38;5;28mlen\u001b[39m(data))\n\u001b[1;32m--> 434\u001b[0m     \u001b[38;5;28;43mself\u001b[39;49m\u001b[38;5;241;43m.\u001b[39;49m\u001b[43mupdate\u001b[49m\u001b[43m(\u001b[49m\u001b[43mdata\u001b[49m\u001b[43m[\u001b[49m\u001b[43miteration\u001b[49m\u001b[43m]\u001b[49m\u001b[43m,\u001b[49m\u001b[43m \u001b[49m\u001b[38;5;28;43mself\u001b[39;49m\u001b[38;5;241;43m.\u001b[39;49m\u001b[43mwinner\u001b[49m\u001b[43m(\u001b[49m\u001b[43mdata\u001b[49m\u001b[43m[\u001b[49m\u001b[43miteration\u001b[49m\u001b[43m]\u001b[49m\u001b[43m)\u001b[49m\u001b[43m,\u001b[49m\n\u001b[0;32m    435\u001b[0m \u001b[43m                \u001b[49m\u001b[43mdecay_rate\u001b[49m\u001b[43m,\u001b[49m\u001b[43m \u001b[49m\u001b[43mnum_iteration\u001b[49m\u001b[43m)\u001b[49m\n\u001b[0;32m    436\u001b[0m \u001b[38;5;28;01mif\u001b[39;00m verbose:\n\u001b[0;32m    437\u001b[0m     \u001b[38;5;28mprint\u001b[39m(\u001b[38;5;124m'\u001b[39m\u001b[38;5;130;01m\\n\u001b[39;00m\u001b[38;5;124m quantization error:\u001b[39m\u001b[38;5;124m'\u001b[39m, \u001b[38;5;28mself\u001b[39m\u001b[38;5;241m.\u001b[39mquantization_error(data))\n",
      "File \u001b[1;32mD:\\miniconda\\envs\\SPHEREx_SOM\\Lib\\site-packages\\minisom.py:346\u001b[0m, in \u001b[0;36mMiniSom.update\u001b[1;34m(self, x, win, t, max_iteration)\u001b[0m\n\u001b[0;32m    344\u001b[0m g \u001b[38;5;241m=\u001b[39m \u001b[38;5;28mself\u001b[39m\u001b[38;5;241m.\u001b[39mneighborhood(win, sig)\u001b[38;5;241m*\u001b[39meta\n\u001b[0;32m    345\u001b[0m \u001b[38;5;66;03m# w_new = eta * neighborhood_function * (x-w)\u001b[39;00m\n\u001b[1;32m--> 346\u001b[0m \u001b[38;5;28mself\u001b[39m\u001b[38;5;241m.\u001b[39m_weights \u001b[38;5;241m+\u001b[39m\u001b[38;5;241m=\u001b[39m \u001b[43meinsum\u001b[49m\u001b[43m(\u001b[49m\u001b[38;5;124;43m'\u001b[39;49m\u001b[38;5;124;43mij, ijk->ijk\u001b[39;49m\u001b[38;5;124;43m'\u001b[39;49m\u001b[43m,\u001b[49m\u001b[43m \u001b[49m\u001b[43mg\u001b[49m\u001b[43m,\u001b[49m\u001b[43m \u001b[49m\u001b[43mx\u001b[49m\u001b[38;5;241;43m-\u001b[39;49m\u001b[38;5;28;43mself\u001b[39;49m\u001b[38;5;241;43m.\u001b[39;49m\u001b[43m_weights\u001b[49m\u001b[43m)\u001b[49m\n",
      "File \u001b[1;32mD:\\miniconda\\envs\\SPHEREx_SOM\\Lib\\site-packages\\numpy\\_core\\einsumfunc.py:1049\u001b[0m, in \u001b[0;36m_einsum_dispatcher\u001b[1;34m(out, optimize, *operands, **kwargs)\u001b[0m\n\u001b[0;32m   1045\u001b[0m     path \u001b[38;5;241m=\u001b[39m [\u001b[38;5;124m'\u001b[39m\u001b[38;5;124meinsum_path\u001b[39m\u001b[38;5;124m'\u001b[39m] \u001b[38;5;241m+\u001b[39m path\n\u001b[0;32m   1046\u001b[0m     \u001b[38;5;28;01mreturn\u001b[39;00m (path, path_print)\n\u001b[1;32m-> 1049\u001b[0m \u001b[38;5;28;01mdef\u001b[39;00m \u001b[38;5;21m_einsum_dispatcher\u001b[39m(\u001b[38;5;241m*\u001b[39moperands, out\u001b[38;5;241m=\u001b[39m\u001b[38;5;28;01mNone\u001b[39;00m, optimize\u001b[38;5;241m=\u001b[39m\u001b[38;5;28;01mNone\u001b[39;00m, \u001b[38;5;241m*\u001b[39m\u001b[38;5;241m*\u001b[39mkwargs):\n\u001b[0;32m   1050\u001b[0m     \u001b[38;5;66;03m# Arguably we dispatch on more arguments than we really should; see note in\u001b[39;00m\n\u001b[0;32m   1051\u001b[0m     \u001b[38;5;66;03m# _einsum_path_dispatcher for why.\u001b[39;00m\n\u001b[0;32m   1052\u001b[0m     \u001b[38;5;28;01myield from\u001b[39;00m operands\n\u001b[0;32m   1053\u001b[0m     \u001b[38;5;28;01myield\u001b[39;00m out\n",
      "\u001b[1;31mKeyboardInterrupt\u001b[0m: "
     ]
    }
   ],
   "source": [
    "for j in os.listdir(\"D:/SPHEREx_SOM/record/grid_search/band_cut/\"):\n",
    "    if \"check\" in j:\n",
    "        continue\n",
    "    file = \"D:/SPHEREx_SOM/record/grid_search/band_cut/\" + j\n",
    "    grid_search(data = data, file = file)"
   ]
  },
  {
   "cell_type": "code",
   "execution_count": null,
   "id": "b95e1c9b-82e7-44af-bcc8-fd4717b717bd",
   "metadata": {},
   "outputs": [],
   "source": []
  }
 ],
 "metadata": {
  "kernelspec": {
   "display_name": "Python 3 (ipykernel)",
   "language": "python",
   "name": "python3"
  },
  "language_info": {
   "codemirror_mode": {
    "name": "ipython",
    "version": 3
   },
   "file_extension": ".py",
   "mimetype": "text/x-python",
   "name": "python",
   "nbconvert_exporter": "python",
   "pygments_lexer": "ipython3",
   "version": "3.12.4"
  }
 },
 "nbformat": 4,
 "nbformat_minor": 5
}
