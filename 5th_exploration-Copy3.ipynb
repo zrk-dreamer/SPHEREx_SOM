{
 "cells": [
  {
   "cell_type": "code",
   "execution_count": 1,
   "id": "6e542d16-65e4-4b12-867a-f8af3c1480ba",
   "metadata": {},
   "outputs": [],
   "source": [
    "from astropy.table import Table\n",
    "from astropy.io import fits\n",
    "import numpy as np\n",
    "import pandas as pd\n",
    "from matplotlib import pyplot as plt\n",
    "from minisom import MiniSom\n",
    "import pickle\n",
    "import os"
   ]
  },
  {
   "cell_type": "code",
   "execution_count": 2,
   "id": "df68e3a0-959f-4966-b67f-c35843ddd53a",
   "metadata": {},
   "outputs": [],
   "source": [
    "df_L3_info = Table.read('../dataset/L3_COSMOS2020_Richard_RefCat_2023DEC4_info.fits')\n",
    "df_L3_info = df_L3_info.to_pandas().sort_values(by = \"cosmos_id\")\n",
    "\n",
    "fname = 'D:/SPHEREx_SOM/dataset/sphx_refcat/Noiseless_phot_cosmos_nolines_refcat30k.txt'\n",
    "data_noiseless = np.loadtxt(fname)[:,3:]\n",
    "\n",
    "fname = 'D:/SPHEREx_SOM/dataset/sphx_refcat/NoisySphx_shallow_nolines_refcat30k.txt'\n",
    "data_all = np.loadtxt(fname)[:,3:]\n",
    "\n",
    "fname = 'D:/SPHEREx_SOM/dataset/sphx_refcat/NoisySphx_deep_nolines_refcat30k.txt'\n",
    "data_deep = np.loadtxt(fname)[:,3:]\n",
    "\n",
    "fname = 'D:/SPHEREx_SOM/dataset/sphx_refcat/SPHEREx_1sigma_noise.txt'\n",
    "data_1sig  = np.loadtxt(fname, skiprows=1)\n",
    "wl = data_1sig[:,0]\n",
    "sigma_all = data_1sig[:,1]\n",
    "sigma_deep = data_1sig[:,2]"
   ]
  },
  {
   "cell_type": "code",
   "execution_count": 3,
   "id": "9cc3920f-3159-4a7f-a24f-7dc8c9c732a0",
   "metadata": {},
   "outputs": [],
   "source": [
    "def basic_som(data, err, info_data, dim, preproc, distance, data_type, iteration = 1, sigma = 1, rate = 1, b_scale = 1.042, save = False, save_record = True):\n",
    "    lupmag = -np.arcsinh(data / (2 * b_scale  * err))\n",
    "    proc_err = np.absolute(-1 / (2 * b_scale  * err) / np.sqrt((data / (2 * b_scale * err)) ** 2 + 1) * err)\n",
    "    \n",
    "    proc_data = (lupmag- np.mean(lupmag, axis=0)) / np.std(lupmag, ddof = 1, axis=0)\n",
    "    proc_err = proc_err / np.std(lupmag, ddof = 1, axis=0)\n",
    "    \n",
    "    print(f\"Data shape: {proc_data.shape}\")\n",
    "\n",
    "    som = MiniSom(dim, dim, proc_data.shape[1], sigma = sigma, learning_rate = rate, activation_distance = distance)\n",
    "    som.random_weights_init(proc_data)\n",
    "    som.train(proc_data, proc_err, num_iteration = iteration, use_epochs = True)\n",
    "\n",
    "    print(\"Start making diagrams...\")\n",
    "\n",
    "    density_map = np.zeros(dim ** 2).reshape(dim, dim)\n",
    "    magnitude_map = np.zeros(dim ** 2).reshape(dim, dim)\n",
    "    magnitude_map.fill(np.nan)\n",
    "    z_map = np.zeros(dim ** 2).reshape(dim, dim)\n",
    "    z_map.fill(np.nan)\n",
    "    z_std = np.zeros(dim ** 2).reshape(dim, dim)\n",
    "    z_std.fill(np.nan)\n",
    "\n",
    "    labels_map = som.labels_map(proc_data, proc_err, tuple(map(tuple, np.concatenate((np.expand_dims(info_data[\"HSC_i_MAG\"].values, axis = 1), np.expand_dims(info_data[\"z_true\"].values, axis = 1)), axis = -1))))\n",
    "    \n",
    "    for i in labels_map.keys():\n",
    "        properties = np.array(list(labels_map[i].keys()))\n",
    "        means = np.mean(properties, axis = 0)\n",
    "        stds = np.nanstd(properties, axis = 0, ddof = 1)\n",
    "        density_map[int(list(i)[0]), int(list(i)[1])] = len(properties)\n",
    "        magnitude_map[int(list(i)[0]), int(list(i)[1])] = means[0]\n",
    "        z_map[int(list(i)[0]), int(list(i)[1])] = means[1]\n",
    "        z_std[int(list(i)[0]), int(list(i)[1])] = stds[1]\n",
    "\n",
    "    print([dim, sigma, rate])\n",
    "    print(np.sum(density_map))\n",
    "    print(f\"Topological error: {som.topographic_error(proc_data)}\")\n",
    "    print(f\"Quantization error: {som.quantization_error(proc_data)}\")\n",
    "    print(f\"Average redshift std: {np.nanmean(z_std / (1 + z_map))}\")\n",
    "\n",
    "    %matplotlib inline\n",
    "    plt.close()\n",
    "    plt.figure(figsize = (30, 20))\n",
    "    plt.title(f\"mean std: {round(np.nanmean(z_std / (1 + z_map)), 3)}\")\n",
    "    \n",
    "    plt.subplot(221)\n",
    "    plt.pcolor(som.distance_map().T, cmap='YlGn') \n",
    "    plt.colorbar()\n",
    "    plt.title(\"Distance map (U-matrix)\")\n",
    "\n",
    "    plt.subplot(222)\n",
    "    plt.pcolor(density_map.T, cmap='YlGn')\n",
    "    plt.colorbar()\n",
    "    plt.title(\"Density Map\")\n",
    "\n",
    "    plt.subplot(223)\n",
    "    plt.pcolor(magnitude_map.T, cmap=\"plasma\" + \"_r\")\n",
    "    plt.colorbar()\n",
    "    plt.title(\"HSC I Magnitude Map\")\n",
    "\n",
    "    plt.subplot(224)\n",
    "    plt.pcolor(z_map.T, cmap=\"plasma\")\n",
    "    plt.colorbar()\n",
    "    plt.title(\"True Redshift Map\")\n",
    "    plt.subplots_adjust(hspace = 0.07, wspace = 0)\n",
    "    if save:\n",
    "        plt.savefig(f\"D:/SPHEREx_SOM/record/5th_exploration/diagram/{data_type}_{len(proc_data[0])}_{dim}_{sigma}_{rate}_{iteration}_{b_scale}.jpg\", bbox_inches = \"tight\")\n",
    "    \n",
    "    plt.show()\n",
    "\n",
    "    if save_record:\n",
    "    \n",
    "        map_record = {}\n",
    "        map_record[\"dim\"] = dim\n",
    "        map_record[\"sigma\"] = sigma\n",
    "        map_record[\"rate\"] = rate\n",
    "        map_record[\"band_cut\"] = len(proc_data[0])\n",
    "        map_record[\"mag_cut\"] = len(proc_data)\n",
    "        map_record[\"preproc\"] = preproc\n",
    "        map_record[\"som\"] = som\n",
    "        map_record[\"topo_err\"] = som.topographic_error(proc_data)\n",
    "        map_record[\"quan_err\"] = som.quantization_error(proc_data)\n",
    "        map_record[\"type\"] = data_type\n",
    "        map_record[\"distance\"] = distance\n",
    "        map_record[\"iter\"] = iteration\n",
    "        map_record[\"b_scale\"] = b_scale\n",
    "        map_record[\"prop_map\"] = labels_map\n",
    "        map_record[\"mean_std\"] = (np.nanquantile(z_std / (1 + z_map), 0.25), np.nanquantile(z_std / (1 + z_map), 0.5), np.nanquantile(z_std / (1 + z_map), 0.75))\n",
    "        map_record[\"z_scatter\"] = z_std / (1 + z_map)\n",
    "        \n",
    "        try:\n",
    "            with open(f\"D:/SPHEREx_SOM/record/5th_exploration/SOM/{data_type}_{dim}_{sigma}_{rate}_{b_scale}_{iteration}.pkl\",'wb') as handle:\n",
    "                pickle.dump(map_record, handle, protocol=pickle.HIGHEST_PROTOCOL)\n",
    "        except KeyboardInterrupt:\n",
    "            print('KeyboardInterrupt caught, data saved.')\n",
    "    \n",
    "    return som"
   ]
  },
  {
   "cell_type": "code",
   "execution_count": 4,
   "id": "c95c073f-ec25-4eb2-bc5a-cc31d5d1b406",
   "metadata": {},
   "outputs": [
    {
     "name": "stderr",
     "output_type": "stream",
     "text": [
      "C:\\Users\\ASUS\\AppData\\Local\\Temp\\ipykernel_52256\\2134533818.py:2: UserWarning: Boolean Series key will be reindexed to match DataFrame index.\n",
      "  info = df_L3_info[-pd.DataFrame(data_all[:, 0::2]).isna()[0]]\n"
     ]
    }
   ],
   "source": [
    "data = pd.DataFrame(data_all[:, 0::2]).dropna().to_numpy()\n",
    "info = df_L3_info[-pd.DataFrame(data_all[:, 0::2]).isna()[0]]\n",
    "err = np.tile(data_all[0, 1::2],  (data.shape[0], 1))"
   ]
  },
  {
   "cell_type": "code",
   "execution_count": null,
   "id": "8d17b2d0-562c-4f15-82a2-f9643c6e3902",
   "metadata": {},
   "outputs": [],
   "source": [
    "for i in range(2, 11):\n",
    "    som = basic_som(data = data, data_type = \"chi2_lup_shallow\", err = err, info_data = info, dim = 50, preproc = \"default\", iteration = i, sigma = 1.4, rate = 0.2, b_scale  = 1000, save = True, distance = \"chi2_distance\")"
   ]
  },
  {
   "cell_type": "code",
   "execution_count": 6,
   "id": "fa74ae2a-aa66-44f2-a491-f0eda29bfbfd",
   "metadata": {},
   "outputs": [],
   "source": [
    "# for i in [0.01, 0.1, 1, 10, 100, 1000, 10000, 10 ** 5, 10 ** 6]:\n",
    "#     som = basic_som(data = data, data_type = \"chi2_lup_deep\", err = err, info_data = info, dim = 50, preproc = \"default\", iteration = 2, sigma = 0.9, rate = 0.275, b_scale  = i, save = True, distance = \"chi2_distance\")"
   ]
  },
  {
   "cell_type": "code",
   "execution_count": null,
   "id": "a9a2f679-f6ba-4fce-8b7e-0481418a513b",
   "metadata": {},
   "outputs": [],
   "source": []
  },
  {
   "cell_type": "code",
   "execution_count": null,
   "id": "c4da7533-6414-4d50-80ce-d2d44b6f0ba2",
   "metadata": {},
   "outputs": [],
   "source": []
  }
 ],
 "metadata": {
  "kernelspec": {
   "display_name": "Python 3 (ipykernel)",
   "language": "python",
   "name": "python3"
  },
  "language_info": {
   "codemirror_mode": {
    "name": "ipython",
    "version": 3
   },
   "file_extension": ".py",
   "mimetype": "text/x-python",
   "name": "python",
   "nbconvert_exporter": "python",
   "pygments_lexer": "ipython3",
   "version": "3.12.4"
  }
 },
 "nbformat": 4,
 "nbformat_minor": 5
}
