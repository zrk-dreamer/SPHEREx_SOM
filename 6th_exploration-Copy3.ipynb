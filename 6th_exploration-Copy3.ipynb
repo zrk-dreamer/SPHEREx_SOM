{
 "cells": [
  {
   "cell_type": "code",
   "execution_count": 4,
   "id": "6e542d16-65e4-4b12-867a-f8af3c1480ba",
   "metadata": {},
   "outputs": [],
   "source": [
    "from astropy.table import Table\n",
    "from astropy.io import fits\n",
    "import numpy as np\n",
    "import pandas as pd\n",
    "from matplotlib import pyplot as plt\n",
    "from minisom import MiniSom\n",
    "import pickle\n",
    "import os"
   ]
  },
  {
   "cell_type": "code",
   "execution_count": 5,
   "id": "df68e3a0-959f-4966-b67f-c35843ddd53a",
   "metadata": {},
   "outputs": [],
   "source": [
    "df_L3_info = Table.read('../dataset/L3_COSMOS2020_Richard_RefCat_2023DEC4_info.fits')\n",
    "df_L3_info = df_L3_info.to_pandas().sort_values(by = \"cosmos_id\")\n",
    "\n",
    "fname = 'D:/SPHEREx_SOM/dataset/sphx_refcat/Noiseless_phot_cosmos_nolines_refcat30k.txt'\n",
    "data_noiseless = np.loadtxt(fname)[:,3:]\n",
    "\n",
    "fname = 'D:/SPHEREx_SOM/dataset/sphx_refcat/NoisySphx_shallow_nolines_refcat30k.txt'\n",
    "data_all = np.loadtxt(fname)[:,3:]\n",
    "\n",
    "fname = 'D:/SPHEREx_SOM/dataset/sphx_refcat/NoisySphx_deep_nolines_refcat30k.txt'\n",
    "data_deep = np.loadtxt(fname)[:,3:]\n",
    "\n",
    "fname = 'D:/SPHEREx_SOM/dataset/sphx_refcat/SPHEREx_1sigma_noise.txt'\n",
    "data_1sig  = np.loadtxt(fname, skiprows=1)\n",
    "wl = data_1sig[:,0]\n",
    "sigma_all = data_1sig[:,1]\n",
    "sigma_deep = data_1sig[:,2]"
   ]
  },
  {
   "cell_type": "code",
   "execution_count": 1,
   "id": "9cc3920f-3159-4a7f-a24f-7dc8c9c732a0",
   "metadata": {},
   "outputs": [],
   "source": [
    "def basic_som(data, err, info_data, dim, preproc, distance, data_type, iteration = 1, sigma = 1, rate = 1, b_scale = 1.042, save = False, save_record = True):\n",
    "    lupmag = -np.arcsinh(data / (2 * b_scale  * err))\n",
    "    proc_err = np.absolute(-1 / (2 * b_scale  * err) / np.sqrt((data / (2 * b_scale * err)) ** 2 + 1) * err)\n",
    "    \n",
    "    proc_data = (lupmag- np.mean(lupmag, axis=0)) / np.std(lupmag, ddof = 1, axis=0)\n",
    "    proc_err = proc_err / np.std(lupmag, ddof = 1, axis=0)\n",
    "    \n",
    "    print(f\"Data shape: {proc_data.shape}\")\n",
    "\n",
    "    som = MiniSom(dim, dim, proc_data.shape[1], sigma = sigma, learning_rate = rate, activation_distance = distance)\n",
    "    som.random_weights_init(proc_data)\n",
    "    som.train(proc_data, proc_err, num_iteration = iteration, use_epochs = True)\n",
    "\n",
    "    print(\"Start making diagrams...\")\n",
    "\n",
    "    density_map = np.zeros(dim ** 2).reshape(dim, dim)\n",
    "    magnitude_map = np.zeros(dim ** 2).reshape(dim, dim)\n",
    "    magnitude_map.fill(np.nan)\n",
    "    z_map = np.zeros(dim ** 2).reshape(dim, dim)\n",
    "    z_map.fill(np.nan)\n",
    "    z_std_gal = np.array([])\n",
    "\n",
    "    labels_map = som.labels_map(proc_data, proc_err, tuple(map(tuple, np.concatenate((np.expand_dims(info_data[\"HSC_i_MAG\"].values, axis = 1), \n",
    "                                                                                                  np.expand_dims(info_data[\"z_true\"].values, axis = 1), \n",
    "                                                                                                  np.expand_dims(np.array([i for i in range(0, proc_data.shape[0])]), axis = 1)), axis = -1))))\n",
    "    \n",
    "    for i in labels_map.keys():\n",
    "        properties = np.array(list(labels_map[i].keys()))\n",
    "        means = np.mean(properties, axis = 0)\n",
    "        stds = np.nanstd(properties, axis = 0, ddof = 1)\n",
    "        density_map[int(list(i)[0]), int(list(i)[1])] = len(properties)\n",
    "        magnitude_map[int(list(i)[0]), int(list(i)[1])] = means[0]\n",
    "        z_map[int(list(i)[0]), int(list(i)[1])] = means[1]\n",
    "        z_std_gal = np.concatenate((z_std_gal, np.tile(np.array(stds[1] / (means[1] + 1)), properties.shape[0])))\n",
    "\n",
    "    print([dim, sigma, rate])\n",
    "    print(np.sum(density_map))\n",
    "    print(f\"Topological error: {som.topographic_error(proc_data)}\")\n",
    "    print(f\"Quantization error: {som.quantization_error(proc_data)}\")\n",
    "    print(f\"Average redshift std: {np.nanmean(z_std_gal)}\")\n",
    "\n",
    "    %matplotlib inline\n",
    "    plt.close()\n",
    "    plt.figure(figsize = (30, 20))\n",
    "    plt.title(f\"Mean z std: {round(np.nanmean(z_std_gal), 3)}\")\n",
    "    \n",
    "    plt.subplot(221)\n",
    "    plt.pcolor(som.distance_map().T, cmap='YlGn') \n",
    "    plt.colorbar()\n",
    "    plt.title(\"Distance map (U-matrix)\")\n",
    "\n",
    "    plt.subplot(222)\n",
    "    plt.pcolor(density_map.T, cmap='YlGn')\n",
    "    plt.colorbar()\n",
    "    plt.title(\"Density Map\")\n",
    "\n",
    "    plt.subplot(223)\n",
    "    plt.pcolor(magnitude_map.T, cmap=\"plasma\" + \"_r\")\n",
    "    plt.colorbar()\n",
    "    plt.title(\"HSC I Magnitude Map\")\n",
    "\n",
    "    plt.subplot(224)\n",
    "    plt.pcolor(z_map.T, cmap=\"plasma\")\n",
    "    plt.colorbar()\n",
    "    plt.title(\"True Redshift Map\")\n",
    "    plt.subplots_adjust(hspace = 0.07, wspace = 0)\n",
    "    if save:\n",
    "        plt.savefig(f\"D:/SPHEREx_SOM/record/6th_exploration/diagram/{data_type}_{dim}_{sigma}_{rate}_{iteration}_{b_scale}.jpg\", bbox_inches = \"tight\")\n",
    "    \n",
    "    plt.show()\n",
    "\n",
    "    if save_record:\n",
    "    \n",
    "        map_record = {}\n",
    "        map_record[\"dim\"] = dim\n",
    "        map_record[\"sigma\"] = sigma\n",
    "        map_record[\"rate\"] = rate\n",
    "        map_record[\"band_cut\"] = len(proc_data[0])\n",
    "        map_record[\"mag_cut\"] = len(proc_data)\n",
    "        map_record[\"preproc\"] = preproc\n",
    "        map_record[\"som\"] = som\n",
    "        map_record[\"topo_err\"] = som.topographic_error(proc_data)\n",
    "        map_record[\"quan_err\"] = som.quantization_error(proc_data)\n",
    "        map_record[\"type\"] = data_type\n",
    "        map_record[\"distance\"] = distance\n",
    "        map_record[\"iter\"] = iteration\n",
    "        map_record[\"b_scale\"] = b_scale\n",
    "        map_record[\"prop_map\"] = labels_map\n",
    "        map_record[\"z_std_gal\"] = z_std_gal\n",
    "        map_record[\"mean_z_std\"] = np.nanmean(z_std_gal)\n",
    "\n",
    "        \n",
    "        try:\n",
    "            with open(f\"D:/SPHEREx_SOM/record/6th_exploration/SOM/{data_type}_{dim}_{sigma}_{rate}_{iteration}_{b_scale}.pkl\",'wb') as handle:\n",
    "                pickle.dump(map_record, handle, protocol=pickle.HIGHEST_PROTOCOL)\n",
    "        except KeyboardInterrupt:\n",
    "            print('KeyboardInterrupt caught, data saved.')\n",
    "    \n",
    "    return som"
   ]
  },
  {
   "cell_type": "code",
   "execution_count": 2,
   "id": "c95c073f-ec25-4eb2-bc5a-cc31d5d1b406",
   "metadata": {},
   "outputs": [
    {
     "ename": "NameError",
     "evalue": "name 'pd' is not defined",
     "output_type": "error",
     "traceback": [
      "\u001b[1;31m---------------------------------------------------------------------------\u001b[0m",
      "\u001b[1;31mNameError\u001b[0m                                 Traceback (most recent call last)",
      "Cell \u001b[1;32mIn[2], line 1\u001b[0m\n\u001b[1;32m----> 1\u001b[0m data \u001b[38;5;241m=\u001b[39m \u001b[43mpd\u001b[49m\u001b[38;5;241m.\u001b[39mDataFrame(data_deep[:, \u001b[38;5;241m0\u001b[39m::\u001b[38;5;241m2\u001b[39m])\u001b[38;5;241m.\u001b[39mdropna()\u001b[38;5;241m.\u001b[39mto_numpy()\n\u001b[0;32m      2\u001b[0m info \u001b[38;5;241m=\u001b[39m df_L3_info[\u001b[38;5;241m-\u001b[39mpd\u001b[38;5;241m.\u001b[39mDataFrame(data_deep[:, \u001b[38;5;241m0\u001b[39m::\u001b[38;5;241m2\u001b[39m])\u001b[38;5;241m.\u001b[39misna()[\u001b[38;5;241m0\u001b[39m]]\n\u001b[0;32m      3\u001b[0m err \u001b[38;5;241m=\u001b[39m np\u001b[38;5;241m.\u001b[39mtile(data_deep[\u001b[38;5;241m0\u001b[39m, \u001b[38;5;241m1\u001b[39m::\u001b[38;5;241m2\u001b[39m],  (data\u001b[38;5;241m.\u001b[39mshape[\u001b[38;5;241m0\u001b[39m], \u001b[38;5;241m1\u001b[39m))\n",
      "\u001b[1;31mNameError\u001b[0m: name 'pd' is not defined"
     ]
    }
   ],
   "source": [
    "data = pd.DataFrame(data_deep[:, 0::2]).dropna().to_numpy()\n",
    "info = df_L3_info[-pd.DataFrame(data_deep[:, 0::2]).isna()[0]]\n",
    "err = np.tile(data_deep[0, 1::2],  (data.shape[0], 1))"
   ]
  },
  {
   "cell_type": "code",
   "execution_count": null,
   "id": "b53cc436-d96e-49ad-b00b-b1801d6d2c92",
   "metadata": {},
   "outputs": [],
   "source": [
    "for i in range(1, 11):\n",
    "    som = basic_som(data = data, data_type = \"chi2_lup_deep\", err = err, info_data = info, dim = 70, preproc = \"default\", iteration = i, sigma = 0.9, rate = 1.4, b_scale  = 10, save = True, distance = \"chi2_distance\")"
   ]
  },
  {
   "cell_type": "code",
   "execution_count": null,
   "id": "e289a9d1-e9b6-4751-90d9-0a33a03a2b86",
   "metadata": {},
   "outputs": [],
   "source": [
    "for i in range(31, 41):\n",
    "    som = basic_som(data = data, data_type = \"chi2_lup_deep\", err = err, info_data = info, dim = 70, preproc = \"default\", iteration = 3, sigma = 2.1, rate = i / 50, b_scale  = 100, save = True, distance = \"chi2_distance\")"
   ]
  },
  {
   "cell_type": "code",
   "execution_count": null,
   "id": "a9a2f679-f6ba-4fce-8b7e-0481418a513b",
   "metadata": {},
   "outputs": [],
   "source": [
    "for i in [0.01, 0.1, 1, 10, 100, 1000, 10000, 10 ** 5, 10 ** 6]:\n",
    "    som = basic_som(data = data, data_type = \"chi2_lup_deep\", err = err, info_data = info, dim = 70, preproc = \"default\", iteration = 3, sigma = 2.1, rate = 0.5, b_scale  = i, save = True, distance = \"chi2_distance\")"
   ]
  },
  {
   "cell_type": "code",
   "execution_count": 6,
   "id": "05ea1927-0371-4e9f-acb7-29629ec22985",
   "metadata": {},
   "outputs": [
    {
     "data": {
      "image/png": "[encoded data removed]",
      "text/plain": [
       "<Figure size 640x480 with 1 Axes>"
      ]
     },
     "metadata": {},
     "output_type": "display_data"
    },
    {
     "data": {
      "image/png": "[encoded data removed]",
      "text/plain": [
       "<Figure size 640x480 with 1 Axes>"
      ]
     },
     "metadata": {},
     "output_type": "display_data"
    },
    {
     "data": {
      "image/png": "[encoded data removed]",
      "text/plain": [
       "<Figure size 640x480 with 1 Axes>"
      ]
     },
     "metadata": {},
     "output_type": "display_data"
    }
   ],
   "source": [
    "a = os.listdir(\"D:/SPHEREx_SOM/record/6th_exploration/SOM/\")\n",
    "\n",
    "d = []\n",
    "\n",
    "\n",
    "for i in a:\n",
    "    c = []\n",
    "    if \"70_0.9_1.4\" in i:\n",
    "        with open(\"D:/SPHEREx_SOM/record/6th_exploration/SOM/\" + i, \"rb\") as fh:\n",
    "            b = pickle.load(fh)\n",
    "        c.append(np.log10(b[\"b_scale\"]))\n",
    "        c.append(b[\"mean_z_std\"])\n",
    "        c.append(b[\"topo_err\"])\n",
    "        c.append(b[\"quan_err\"])\n",
    "        d.append(c)\n",
    "\n",
    "def rate_sort(r):\n",
    "    return r[0]\n",
    "\n",
    "d.sort(key = rate_sort)\n",
    "d = np.array(d)\n",
    "\n",
    "plt.plot(d[:, 0], d[:, 1] / np.max(d[:, 1]), label = \"std\", c = \"m\")\n",
    "plt.plot(d[:, 0], d[:, 2] / np.max(d[:, 2]), label = \"topo\", c = \"r\")\n",
    "plt.plot(d[:, 0], d[:, 3] / np.max(d[:, 3]), label = \"quan\", c = \"y\")\n",
    "plt.legend()\n",
    "plt.show()\n",
    "plt.scatter(d[:, 1], d[:, 2])\n",
    "plt.show()\n",
    "plt.scatter(d[:, 1], d[:, 3])\n",
    "plt.show()"
   ]
  },
  {
   "cell_type": "code",
   "execution_count": null,
   "id": "c2ed563a-ff26-43fc-b8f0-b5fdf7890860",
   "metadata": {},
   "outputs": [],
   "source": []
  }
 ],
 "metadata": {
  "kernelspec": {
   "display_name": "Python 3 (ipykernel)",
   "language": "python",
   "name": "python3"
  },
  "language_info": {
   "codemirror_mode": {
    "name": "ipython",
    "version": 3
   },
   "file_extension": ".py",
   "mimetype": "text/x-python",
   "name": "python",
   "nbconvert_exporter": "python",
   "pygments_lexer": "ipython3",
   "version": "3.12.4"
  }
 },
 "nbformat": 4,
 "nbformat_minor": 5
}
